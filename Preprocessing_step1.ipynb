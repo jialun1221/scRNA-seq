{
  "cells": [
    {
      "cell_type": "markdown",
      "metadata": {
        "id": "view-in-github",
        "colab_type": "text"
      },
      "source": [
        "<a href=\"https://colab.research.google.com/github/jialun1221/scRNA-seq/blob/main/Preprocessing_step1.ipynb\" target=\"_parent\"><img src=\"https://colab.research.google.com/assets/colab-badge.svg\" alt=\"Open In Colab\"/></a>"
      ]
    },
    {
      "cell_type": "markdown",
      "metadata": {
        "id": "A_ORnM1dTLRw"
      },
      "source": [
        "# Preprocessing and clustering Cells\n",
        "### Part 1. Data selection"
      ]
    },
    {
      "cell_type": "markdown",
      "metadata": {
        "id": "x79TUSPbTLRx"
      },
      "source": [
        "In May 2017, this started out as a demonstration that Scanpy would allow to reproduce most of Seurat's [guided clustering tutorial](http://satijalab.org/seurat/pbmc3k_tutorial.html) ([Satija et al., 2015](https://doi.org/10.1038/nbt.3192)).\n",
        "\n",
        "We gratefully acknowledge Seurat's authors for the tutorial! In the meanwhile, we have added and removed a few pieces.\n",
        "\n",
        "The data consist of *3k PBMCs from a Healthy Donor* and are freely available from 10x Genomics ([here](http://cf.10xgenomics.com/samples/cell-exp/1.1.0/pbmc3k/pbmc3k_filtered_gene_bc_matrices.tar.gz) from this [webpage](https://support.10xgenomics.com/single-cell-gene-expression/datasets/1.1.0/pbmc3k)). On a unix system, you can uncomment and run the following to download and unpack the data. The last line creates a directory for writing processed data."
      ]
    },
    {
      "cell_type": "markdown",
      "source": [
        "In this notebook, we will compute ***Data Selection***. We will ***drop the cells that cotain Lewy Body Dementia***, and create a new AnnData object that contains only PD and control cells. All other features of the original AnnData will reamin."
      ],
      "metadata": {
        "id": "pD0A5jAdoGdP"
      }
    },
    {
      "cell_type": "code",
      "execution_count": null,
      "metadata": {
        "id": "H2XzbNDhTLRz"
      },
      "outputs": [],
      "source": [
        "!pip install scanpy\n",
        "import numpy as np\n",
        "import pandas as pd\n",
        "import scanpy as sc"
      ]
    },
    {
      "cell_type": "code",
      "execution_count": null,
      "metadata": {
        "id": "iU69DOMLTjYJ"
      },
      "outputs": [],
      "source": [
        "!mkdir data\n",
        "!mkdir write"
      ]
    },
    {
      "cell_type": "code",
      "execution_count": null,
      "metadata": {
        "id": "gMz2WxCIVCAW"
      },
      "outputs": [],
      "source": [
        "!pip install matplotlib==3.1.3\n",
        "from numpy import inf"
      ]
    },
    {
      "cell_type": "code",
      "execution_count": null,
      "metadata": {
        "colab": {
          "base_uri": "https://localhost:8080/"
        },
        "id": "9AW_Ik4PTLRz",
        "outputId": "ce746d44-9de7-425f-aa9f-072829424237"
      },
      "outputs": [
        {
          "output_type": "stream",
          "name": "stdout",
          "text": [
            "scanpy==1.9.3 anndata==0.9.1 umap==0.5.3 numpy==1.22.4 scipy==1.10.1 pandas==1.5.3 scikit-learn==1.2.2 statsmodels==0.13.5 pynndescent==0.5.10\n"
          ]
        }
      ],
      "source": [
        "sc.settings.verbosity = 3             # verbosity: errors (0), warnings (1), info (2), hints (3)\n",
        "sc.logging.print_header()\n",
        "sc.settings.set_figure_params(dpi=80, facecolor='white')"
      ]
    },
    {
      "cell_type": "code",
      "source": [
        "#file to store new Anndata object \n",
        "new_anndata = 'write/new_anndata.h5ad'"
      ],
      "metadata": {
        "id": "d4p15BNDeKy-"
      },
      "execution_count": null,
      "outputs": []
    },
    {
      "cell_type": "markdown",
      "metadata": {
        "id": "PxunX4PZTLR0"
      },
      "source": [
        "Read in the count matrix into an [AnnData](https://anndata.readthedocs.io/en/latest/anndata.AnnData.html) object, which holds many slots for annotations and different representations of the data. It also comes with its own HDF5-based file format: `.h5ad`."
      ]
    },
    {
      "cell_type": "code",
      "source": [
        "from google.colab import drive\n",
        "drive.mount('/content/drive')"
      ],
      "metadata": {
        "id": "n8EHAmHZl1-v"
      },
      "execution_count": null,
      "outputs": []
    },
    {
      "cell_type": "code",
      "source": [
        "adata = sc.read_h5ad(\"drive/MyDrive/scRNA ML classifier/data_objects_May_2022/PD_mg.h5ad\") "
      ],
      "metadata": {
        "id": "sP-Eonwql35G"
      },
      "execution_count": null,
      "outputs": []
    },
    {
      "cell_type": "code",
      "source": [
        "adata"
      ],
      "metadata": {
        "id": "LRJAmcgW-zUz",
        "colab": {
          "base_uri": "https://localhost:8080/"
        },
        "outputId": "b7d139a9-a893-44af-ff50-4c39eb15988a"
      },
      "execution_count": null,
      "outputs": [
        {
          "output_type": "execute_result",
          "data": {
            "text/plain": [
              "AnnData object with n_obs × n_vars = 33041 × 41625\n",
              "    obs: 'orig.ident', 'nCount_RNA', 'nFeature_RNA', 'Cell_Subtype', 'Cell_Type', 'disease__ontology_label', 'organ__ontology_label'\n",
              "    var: 'features'"
            ]
          },
          "metadata": {},
          "execution_count": 8
        }
      ]
    },
    {
      "cell_type": "markdown",
      "metadata": {
        "id": "Fpcr6MU1TLR1"
      },
      "source": [
        "####**Checking (optional to run)**\n",
        "    \n",
        "Start with some basic checking."
      ]
    },
    {
      "cell_type": "code",
      "execution_count": null,
      "metadata": {
        "id": "vSyjs6mTTLR1",
        "colab": {
          "base_uri": "https://localhost:8080/"
        },
        "outputId": "949c9926-8a63-44ce-b73f-b9a3cbcd90d4"
      },
      "outputs": [
        {
          "output_type": "execute_result",
          "data": {
            "text/plain": [
              "Index(['RP11-34P13.3', 'FAM138A', 'OR4F5', 'RP11-34P13.7', 'RP11-34P13.8',\n",
              "       'RP11-34P13.14', 'RP11-34P13.9', 'FO538757.3', 'FO538757.2',\n",
              "       'AP006222.2',\n",
              "       ...\n",
              "       'RNU2-71P', 'RNA5SP252', 'AC116533.2', 'AC114494.1', 'RN7SL424P',\n",
              "       'RN7SL739P', 'MIR4502', 'RNU4-10P', 'RN7SL865P', 'RNU6-191P'],\n",
              "      dtype='object', length=41625)"
            ]
          },
          "metadata": {},
          "execution_count": 9
        }
      ],
      "source": [
        "adata.var_names #this gives genes!"
      ]
    },
    {
      "cell_type": "code",
      "source": [
        "adata.obs_names #this are labels"
      ],
      "metadata": {
        "id": "xG4097QPGVVz",
        "colab": {
          "base_uri": "https://localhost:8080/"
        },
        "outputId": "ed17f0e6-ec99-4927-c7d2-3b640551a3a2"
      },
      "execution_count": null,
      "outputs": [
        {
          "output_type": "execute_result",
          "data": {
            "text/plain": [
              "Index(['pPDsHSrSNxi3482d200429PosB_AAACCCATCGCCTATC-1',\n",
              "       'pPDsHSrSNxi3482d200429PosB_GCCATGGAGACAACAT-1',\n",
              "       'pPDsHSrSNxi3482d200429PosB_TGTGGCGGTTATGTCG-1',\n",
              "       'pPDsHSrSNxi3482d200429PosB_CTCCTCCAGCACCAGA-1',\n",
              "       'pPDsHSrSNxi3482d200429PosB_AATTCCTGTTGTGCCG-1',\n",
              "       'pPDsHSrSNxi3482d200429PosB_TTCACGCAGTAACGAT-1',\n",
              "       'pPDsHSrSNxi3482d200429PosB_CCGTTCATCTGCTCTG-1',\n",
              "       'pPDsHSrSNxi3482d200429PosB_CCCAACTAGCAATAGT-1',\n",
              "       'pPDsHSrSNxi3482d200429PosB_CCGCAAGGTCCACATA-1',\n",
              "       'pPDsHSrSNxi3482d200429PosB_CTCCGATAGGCTAAAT-1',\n",
              "       ...\n",
              "       'pPDsHSrSNxi3298d200429PosB_AGGAATATCGTGCACG-1',\n",
              "       'pPDsHSrSNxi3298d200429PosB_CCGTAGGTCTTAGCTT-1',\n",
              "       'pPDsHSrSNxi3298d200429PosB_AGGACGATCCGATGTA-1',\n",
              "       'pPDsHSrSNxi3298d200429PosB_ACGTAGTGTCCTATAG-1',\n",
              "       'pPDsHSrSNxi3298d200429PosB_TGAGCATGTGTTAACC-1',\n",
              "       'pPDsHSrSNxi3298d200429PosB_GCCCAGACACGGAAGT-1',\n",
              "       'pPDsHSrSNxi3298d200429PosB_AAGACTCCACACGGTC-1',\n",
              "       'pPDsHSrSNxi3298d200429PosB_ATGACCAGTCCGGTGT-1',\n",
              "       'pPDsHSrSNxi3298d200429PosB_CGGAACCGTGACACAG-1',\n",
              "       'pPDsHSrSNxi3298d200429PosB_GGGACTCAGGGACCAT-1'],\n",
              "      dtype='object', length=33041)"
            ]
          },
          "metadata": {},
          "execution_count": 10
        }
      ]
    },
    {
      "cell_type": "code",
      "source": [
        "adata.obs_names = [f\"Cell_{i:d}\" for i in range(adata.n_obs)]\n",
        "adata.var_names = [f\"Gene_{i:d}\" for i in range(adata.n_vars)]\n",
        "print(adata.obs_names[:10])\n",
        "print(adata.var_names[:10])"
      ],
      "metadata": {
        "id": "WUYKkYEAe32g",
        "colab": {
          "base_uri": "https://localhost:8080/"
        },
        "outputId": "6c79ae28-24be-4225-ade6-870bcaff5672"
      },
      "execution_count": null,
      "outputs": [
        {
          "output_type": "stream",
          "name": "stdout",
          "text": [
            "Index(['Cell_0', 'Cell_1', 'Cell_2', 'Cell_3', 'Cell_4', 'Cell_5', 'Cell_6',\n",
            "       'Cell_7', 'Cell_8', 'Cell_9'],\n",
            "      dtype='object')\n",
            "Index(['Gene_0', 'Gene_1', 'Gene_2', 'Gene_3', 'Gene_4', 'Gene_5', 'Gene_6',\n",
            "       'Gene_7', 'Gene_8', 'Gene_9'],\n",
            "      dtype='object')\n"
          ]
        }
      ]
    },
    {
      "cell_type": "code",
      "source": [
        "#Check how many rows are unwanted data.\n",
        "adata.obs.loc[adata.obs['disease__ontology_label'].str.contains(\"Lewy body dementia\", case=False)]"
      ],
      "metadata": {
        "id": "V_POk3lPwbQB",
        "colab": {
          "base_uri": "https://localhost:8080/",
          "height": 661
        },
        "outputId": "52f6fcee-da6f-48ae-c432-b08d9d71d9fc"
      },
      "execution_count": null,
      "outputs": [
        {
          "output_type": "execute_result",
          "data": {
            "text/plain": [
              "                                                orig.ident  nCount_RNA  \\\n",
              "pPDsHSrSNxi4775d200429PosA_TCATATCGTCAGATTC-1           86      9296.0   \n",
              "pPDsHSrSNxi4775d200429PosA_ACGTCCTCAGAGTTCT-1           86      8120.0   \n",
              "pPDsHSrSNxi4775d200429PosA_GACCCAGAGACGCTCC-1           86      7453.0   \n",
              "pPDsHSrSNxi4775d200429PosA_GTCTAGATCCTACACC-1           86      6902.0   \n",
              "pPDsHSrSNxi4775d200429PosA_GAACTGTCAAGCCTGC-1           86      6058.0   \n",
              "...                                                    ...         ...   \n",
              "pPDsHSrSNxi2569d200429DAPIB_ATGGAGGGTAGGCAGT-1          30      2594.0   \n",
              "pPDsHSrSNxi2569d200429DAPIB_GTCAAGTGTAGAAACT-1          30      1866.0   \n",
              "pPDsHSrSNxi2569d200429DAPIB_ATCTCTACATAGAAAC-1          30      1782.0   \n",
              "pPDsHSrSNxi2569d200429DAPIB_AACGGGAAGACAACTA-1          30      1770.0   \n",
              "pPDsHSrSNxi2569d200429DAPIB_GACCTTCCAGACAATA-1          30      1678.0   \n",
              "\n",
              "                                                nFeature_RNA  Cell_Subtype  \\\n",
              "pPDsHSrSNxi4775d200429PosA_TCATATCGTCAGATTC-1           3847  MG_GPNMB_LPL   \n",
              "pPDsHSrSNxi4775d200429PosA_ACGTCCTCAGAGTTCT-1           3151  MG_GPNMB_LPL   \n",
              "pPDsHSrSNxi4775d200429PosA_GACCCAGAGACGCTCC-1           3518  MG_GPNMB_LPL   \n",
              "pPDsHSrSNxi4775d200429PosA_GTCTAGATCCTACACC-1           3242  MG_GPNMB_LPL   \n",
              "pPDsHSrSNxi4775d200429PosA_GAACTGTCAAGCCTGC-1           2849  MG_GPNMB_LPL   \n",
              "...                                                      ...           ...   \n",
              "pPDsHSrSNxi2569d200429DAPIB_ATGGAGGGTAGGCAGT-1          1604       MG_CCL3   \n",
              "pPDsHSrSNxi2569d200429DAPIB_GTCAAGTGTAGAAACT-1          1175       MG_CCL3   \n",
              "pPDsHSrSNxi2569d200429DAPIB_ATCTCTACATAGAAAC-1          1181       MG_CCL3   \n",
              "pPDsHSrSNxi2569d200429DAPIB_AACGGGAAGACAACTA-1          1175       MG_CCL3   \n",
              "pPDsHSrSNxi2569d200429DAPIB_GACCTTCCAGACAATA-1          1133       MG_CCL3   \n",
              "\n",
              "                                               Cell_Type  \\\n",
              "pPDsHSrSNxi4775d200429PosA_TCATATCGTCAGATTC-1         mg   \n",
              "pPDsHSrSNxi4775d200429PosA_ACGTCCTCAGAGTTCT-1         mg   \n",
              "pPDsHSrSNxi4775d200429PosA_GACCCAGAGACGCTCC-1         mg   \n",
              "pPDsHSrSNxi4775d200429PosA_GTCTAGATCCTACACC-1         mg   \n",
              "pPDsHSrSNxi4775d200429PosA_GAACTGTCAAGCCTGC-1         mg   \n",
              "...                                                  ...   \n",
              "pPDsHSrSNxi2569d200429DAPIB_ATGGAGGGTAGGCAGT-1        mg   \n",
              "pPDsHSrSNxi2569d200429DAPIB_GTCAAGTGTAGAAACT-1        mg   \n",
              "pPDsHSrSNxi2569d200429DAPIB_ATCTCTACATAGAAAC-1        mg   \n",
              "pPDsHSrSNxi2569d200429DAPIB_AACGGGAAGACAACTA-1        mg   \n",
              "pPDsHSrSNxi2569d200429DAPIB_GACCTTCCAGACAATA-1        mg   \n",
              "\n",
              "                                               disease__ontology_label  \\\n",
              "pPDsHSrSNxi4775d200429PosA_TCATATCGTCAGATTC-1       Lewy body dementia   \n",
              "pPDsHSrSNxi4775d200429PosA_ACGTCCTCAGAGTTCT-1       Lewy body dementia   \n",
              "pPDsHSrSNxi4775d200429PosA_GACCCAGAGACGCTCC-1       Lewy body dementia   \n",
              "pPDsHSrSNxi4775d200429PosA_GTCTAGATCCTACACC-1       Lewy body dementia   \n",
              "pPDsHSrSNxi4775d200429PosA_GAACTGTCAAGCCTGC-1       Lewy body dementia   \n",
              "...                                                                ...   \n",
              "pPDsHSrSNxi2569d200429DAPIB_ATGGAGGGTAGGCAGT-1      Lewy body dementia   \n",
              "pPDsHSrSNxi2569d200429DAPIB_GTCAAGTGTAGAAACT-1      Lewy body dementia   \n",
              "pPDsHSrSNxi2569d200429DAPIB_ATCTCTACATAGAAAC-1      Lewy body dementia   \n",
              "pPDsHSrSNxi2569d200429DAPIB_AACGGGAAGACAACTA-1      Lewy body dementia   \n",
              "pPDsHSrSNxi2569d200429DAPIB_GACCTTCCAGACAATA-1      Lewy body dementia   \n",
              "\n",
              "                                                         organ__ontology_label  \n",
              "pPDsHSrSNxi4775d200429PosA_TCATATCGTCAGATTC-1   substantia nigra pars compacta  \n",
              "pPDsHSrSNxi4775d200429PosA_ACGTCCTCAGAGTTCT-1   substantia nigra pars compacta  \n",
              "pPDsHSrSNxi4775d200429PosA_GACCCAGAGACGCTCC-1   substantia nigra pars compacta  \n",
              "pPDsHSrSNxi4775d200429PosA_GTCTAGATCCTACACC-1   substantia nigra pars compacta  \n",
              "pPDsHSrSNxi4775d200429PosA_GAACTGTCAAGCCTGC-1   substantia nigra pars compacta  \n",
              "...                                                                        ...  \n",
              "pPDsHSrSNxi2569d200429DAPIB_ATGGAGGGTAGGCAGT-1  substantia nigra pars compacta  \n",
              "pPDsHSrSNxi2569d200429DAPIB_GTCAAGTGTAGAAACT-1  substantia nigra pars compacta  \n",
              "pPDsHSrSNxi2569d200429DAPIB_ATCTCTACATAGAAAC-1  substantia nigra pars compacta  \n",
              "pPDsHSrSNxi2569d200429DAPIB_AACGGGAAGACAACTA-1  substantia nigra pars compacta  \n",
              "pPDsHSrSNxi2569d200429DAPIB_GACCTTCCAGACAATA-1  substantia nigra pars compacta  \n",
              "\n",
              "[6607 rows x 7 columns]"
            ],
            "text/html": [
              "\n",
              "  <div id=\"df-d92a22f9-d41e-4a6e-867a-909d5306bdd5\">\n",
              "    <div class=\"colab-df-container\">\n",
              "      <div>\n",
              "<style scoped>\n",
              "    .dataframe tbody tr th:only-of-type {\n",
              "        vertical-align: middle;\n",
              "    }\n",
              "\n",
              "    .dataframe tbody tr th {\n",
              "        vertical-align: top;\n",
              "    }\n",
              "\n",
              "    .dataframe thead th {\n",
              "        text-align: right;\n",
              "    }\n",
              "</style>\n",
              "<table border=\"1\" class=\"dataframe\">\n",
              "  <thead>\n",
              "    <tr style=\"text-align: right;\">\n",
              "      <th></th>\n",
              "      <th>orig.ident</th>\n",
              "      <th>nCount_RNA</th>\n",
              "      <th>nFeature_RNA</th>\n",
              "      <th>Cell_Subtype</th>\n",
              "      <th>Cell_Type</th>\n",
              "      <th>disease__ontology_label</th>\n",
              "      <th>organ__ontology_label</th>\n",
              "    </tr>\n",
              "  </thead>\n",
              "  <tbody>\n",
              "    <tr>\n",
              "      <th>pPDsHSrSNxi4775d200429PosA_TCATATCGTCAGATTC-1</th>\n",
              "      <td>86</td>\n",
              "      <td>9296.0</td>\n",
              "      <td>3847</td>\n",
              "      <td>MG_GPNMB_LPL</td>\n",
              "      <td>mg</td>\n",
              "      <td>Lewy body dementia</td>\n",
              "      <td>substantia nigra pars compacta</td>\n",
              "    </tr>\n",
              "    <tr>\n",
              "      <th>pPDsHSrSNxi4775d200429PosA_ACGTCCTCAGAGTTCT-1</th>\n",
              "      <td>86</td>\n",
              "      <td>8120.0</td>\n",
              "      <td>3151</td>\n",
              "      <td>MG_GPNMB_LPL</td>\n",
              "      <td>mg</td>\n",
              "      <td>Lewy body dementia</td>\n",
              "      <td>substantia nigra pars compacta</td>\n",
              "    </tr>\n",
              "    <tr>\n",
              "      <th>pPDsHSrSNxi4775d200429PosA_GACCCAGAGACGCTCC-1</th>\n",
              "      <td>86</td>\n",
              "      <td>7453.0</td>\n",
              "      <td>3518</td>\n",
              "      <td>MG_GPNMB_LPL</td>\n",
              "      <td>mg</td>\n",
              "      <td>Lewy body dementia</td>\n",
              "      <td>substantia nigra pars compacta</td>\n",
              "    </tr>\n",
              "    <tr>\n",
              "      <th>pPDsHSrSNxi4775d200429PosA_GTCTAGATCCTACACC-1</th>\n",
              "      <td>86</td>\n",
              "      <td>6902.0</td>\n",
              "      <td>3242</td>\n",
              "      <td>MG_GPNMB_LPL</td>\n",
              "      <td>mg</td>\n",
              "      <td>Lewy body dementia</td>\n",
              "      <td>substantia nigra pars compacta</td>\n",
              "    </tr>\n",
              "    <tr>\n",
              "      <th>pPDsHSrSNxi4775d200429PosA_GAACTGTCAAGCCTGC-1</th>\n",
              "      <td>86</td>\n",
              "      <td>6058.0</td>\n",
              "      <td>2849</td>\n",
              "      <td>MG_GPNMB_LPL</td>\n",
              "      <td>mg</td>\n",
              "      <td>Lewy body dementia</td>\n",
              "      <td>substantia nigra pars compacta</td>\n",
              "    </tr>\n",
              "    <tr>\n",
              "      <th>...</th>\n",
              "      <td>...</td>\n",
              "      <td>...</td>\n",
              "      <td>...</td>\n",
              "      <td>...</td>\n",
              "      <td>...</td>\n",
              "      <td>...</td>\n",
              "      <td>...</td>\n",
              "    </tr>\n",
              "    <tr>\n",
              "      <th>pPDsHSrSNxi2569d200429DAPIB_ATGGAGGGTAGGCAGT-1</th>\n",
              "      <td>30</td>\n",
              "      <td>2594.0</td>\n",
              "      <td>1604</td>\n",
              "      <td>MG_CCL3</td>\n",
              "      <td>mg</td>\n",
              "      <td>Lewy body dementia</td>\n",
              "      <td>substantia nigra pars compacta</td>\n",
              "    </tr>\n",
              "    <tr>\n",
              "      <th>pPDsHSrSNxi2569d200429DAPIB_GTCAAGTGTAGAAACT-1</th>\n",
              "      <td>30</td>\n",
              "      <td>1866.0</td>\n",
              "      <td>1175</td>\n",
              "      <td>MG_CCL3</td>\n",
              "      <td>mg</td>\n",
              "      <td>Lewy body dementia</td>\n",
              "      <td>substantia nigra pars compacta</td>\n",
              "    </tr>\n",
              "    <tr>\n",
              "      <th>pPDsHSrSNxi2569d200429DAPIB_ATCTCTACATAGAAAC-1</th>\n",
              "      <td>30</td>\n",
              "      <td>1782.0</td>\n",
              "      <td>1181</td>\n",
              "      <td>MG_CCL3</td>\n",
              "      <td>mg</td>\n",
              "      <td>Lewy body dementia</td>\n",
              "      <td>substantia nigra pars compacta</td>\n",
              "    </tr>\n",
              "    <tr>\n",
              "      <th>pPDsHSrSNxi2569d200429DAPIB_AACGGGAAGACAACTA-1</th>\n",
              "      <td>30</td>\n",
              "      <td>1770.0</td>\n",
              "      <td>1175</td>\n",
              "      <td>MG_CCL3</td>\n",
              "      <td>mg</td>\n",
              "      <td>Lewy body dementia</td>\n",
              "      <td>substantia nigra pars compacta</td>\n",
              "    </tr>\n",
              "    <tr>\n",
              "      <th>pPDsHSrSNxi2569d200429DAPIB_GACCTTCCAGACAATA-1</th>\n",
              "      <td>30</td>\n",
              "      <td>1678.0</td>\n",
              "      <td>1133</td>\n",
              "      <td>MG_CCL3</td>\n",
              "      <td>mg</td>\n",
              "      <td>Lewy body dementia</td>\n",
              "      <td>substantia nigra pars compacta</td>\n",
              "    </tr>\n",
              "  </tbody>\n",
              "</table>\n",
              "<p>6607 rows × 7 columns</p>\n",
              "</div>\n",
              "      <button class=\"colab-df-convert\" onclick=\"convertToInteractive('df-d92a22f9-d41e-4a6e-867a-909d5306bdd5')\"\n",
              "              title=\"Convert this dataframe to an interactive table.\"\n",
              "              style=\"display:none;\">\n",
              "        \n",
              "  <svg xmlns=\"http://www.w3.org/2000/svg\" height=\"24px\"viewBox=\"0 0 24 24\"\n",
              "       width=\"24px\">\n",
              "    <path d=\"M0 0h24v24H0V0z\" fill=\"none\"/>\n",
              "    <path d=\"M18.56 5.44l.94 2.06.94-2.06 2.06-.94-2.06-.94-.94-2.06-.94 2.06-2.06.94zm-11 1L8.5 8.5l.94-2.06 2.06-.94-2.06-.94L8.5 2.5l-.94 2.06-2.06.94zm10 10l.94 2.06.94-2.06 2.06-.94-2.06-.94-.94-2.06-.94 2.06-2.06.94z\"/><path d=\"M17.41 7.96l-1.37-1.37c-.4-.4-.92-.59-1.43-.59-.52 0-1.04.2-1.43.59L10.3 9.45l-7.72 7.72c-.78.78-.78 2.05 0 2.83L4 21.41c.39.39.9.59 1.41.59.51 0 1.02-.2 1.41-.59l7.78-7.78 2.81-2.81c.8-.78.8-2.07 0-2.86zM5.41 20L4 18.59l7.72-7.72 1.47 1.35L5.41 20z\"/>\n",
              "  </svg>\n",
              "      </button>\n",
              "      \n",
              "  <style>\n",
              "    .colab-df-container {\n",
              "      display:flex;\n",
              "      flex-wrap:wrap;\n",
              "      gap: 12px;\n",
              "    }\n",
              "\n",
              "    .colab-df-convert {\n",
              "      background-color: #E8F0FE;\n",
              "      border: none;\n",
              "      border-radius: 50%;\n",
              "      cursor: pointer;\n",
              "      display: none;\n",
              "      fill: #1967D2;\n",
              "      height: 32px;\n",
              "      padding: 0 0 0 0;\n",
              "      width: 32px;\n",
              "    }\n",
              "\n",
              "    .colab-df-convert:hover {\n",
              "      background-color: #E2EBFA;\n",
              "      box-shadow: 0px 1px 2px rgba(60, 64, 67, 0.3), 0px 1px 3px 1px rgba(60, 64, 67, 0.15);\n",
              "      fill: #174EA6;\n",
              "    }\n",
              "\n",
              "    [theme=dark] .colab-df-convert {\n",
              "      background-color: #3B4455;\n",
              "      fill: #D2E3FC;\n",
              "    }\n",
              "\n",
              "    [theme=dark] .colab-df-convert:hover {\n",
              "      background-color: #434B5C;\n",
              "      box-shadow: 0px 1px 3px 1px rgba(0, 0, 0, 0.15);\n",
              "      filter: drop-shadow(0px 1px 2px rgba(0, 0, 0, 0.3));\n",
              "      fill: #FFFFFF;\n",
              "    }\n",
              "  </style>\n",
              "\n",
              "      <script>\n",
              "        const buttonEl =\n",
              "          document.querySelector('#df-d92a22f9-d41e-4a6e-867a-909d5306bdd5 button.colab-df-convert');\n",
              "        buttonEl.style.display =\n",
              "          google.colab.kernel.accessAllowed ? 'block' : 'none';\n",
              "\n",
              "        async function convertToInteractive(key) {\n",
              "          const element = document.querySelector('#df-d92a22f9-d41e-4a6e-867a-909d5306bdd5');\n",
              "          const dataTable =\n",
              "            await google.colab.kernel.invokeFunction('convertToInteractive',\n",
              "                                                     [key], {});\n",
              "          if (!dataTable) return;\n",
              "\n",
              "          const docLinkHtml = 'Like what you see? Visit the ' +\n",
              "            '<a target=\"_blank\" href=https://colab.research.google.com/notebooks/data_table.ipynb>data table notebook</a>'\n",
              "            + ' to learn more about interactive tables.';\n",
              "          element.innerHTML = '';\n",
              "          dataTable['output_type'] = 'display_data';\n",
              "          await google.colab.output.renderOutput(dataTable, element);\n",
              "          const docLink = document.createElement('div');\n",
              "          docLink.innerHTML = docLinkHtml;\n",
              "          element.appendChild(docLink);\n",
              "        }\n",
              "      </script>\n",
              "    </div>\n",
              "  </div>\n",
              "  "
            ]
          },
          "metadata": {},
          "execution_count": 11
        }
      ]
    },
    {
      "cell_type": "markdown",
      "metadata": {
        "id": "AIz4O4mLTLR1"
      },
      "source": [
        "###**Data selection**"
      ]
    },
    {
      "cell_type": "markdown",
      "source": [
        "Drop the Lewy body dementia:"
      ],
      "metadata": {
        "id": "-ZBMJbO90-2l"
      }
    },
    {
      "cell_type": "code",
      "source": [
        "adata.obs = adata.obs.reset_index() #Set index for the labels\n",
        "k = adata.obs #create a variable for further uses (a DataFrame)"
      ],
      "metadata": {
        "id": "inia9_acKdh4"
      },
      "execution_count": null,
      "outputs": []
    },
    {
      "cell_type": "code",
      "source": [
        "y = k.index[k['disease__ontology_label'] == 'Lewy body dementia'].tolist() #get the index that contains the Lewy Body Dementia samples, stored in variable y (a list)"
      ],
      "metadata": {
        "id": "TT9xaD0FMpWj"
      },
      "execution_count": null,
      "outputs": []
    },
    {
      "cell_type": "code",
      "source": [
        "m = adata.X.toarray() #convert sparse matrix X to array"
      ],
      "metadata": {
        "id": "0Uo-w1JfXgO9"
      },
      "execution_count": null,
      "outputs": []
    },
    {
      "cell_type": "markdown",
      "source": [
        "Conduct data selection separately in adata.X and adata.obs. "
      ],
      "metadata": {
        "id": "vuWmuNj0ek8A"
      }
    },
    {
      "cell_type": "code",
      "source": [
        "m = np.delete(m, obj = y, axis=0) #delete rows that contain Lewy Body Dementia according to the previously generated index stored in y"
      ],
      "metadata": {
        "id": "ytUXbJEaZP8R"
      },
      "execution_count": null,
      "outputs": []
    },
    {
      "cell_type": "code",
      "source": [
        "#drop command for adata.obs\n",
        "adata.obs.drop(adata.obs.index[adata.obs['disease__ontology_label'] == 'Lewy body dementia'], inplace=True)\n",
        "adata.obs"
      ],
      "metadata": {
        "id": "JYt1WDzi0899"
      },
      "execution_count": null,
      "outputs": []
    },
    {
      "cell_type": "markdown",
      "source": [
        "###**making new AnnData object**"
      ],
      "metadata": {
        "id": "8K2VfprPFr9r"
      }
    },
    {
      "cell_type": "code",
      "source": [
        "pip install anndata"
      ],
      "metadata": {
        "id": "zr4qWdBsSTe2"
      },
      "execution_count": null,
      "outputs": []
    },
    {
      "cell_type": "code",
      "source": [
        "#Command for making a new AnnData object. For each parameter, need to make a deep copy of the original object.\n",
        "new = sc.AnnData(X = m,\n",
        "  obs = adata.obs.copy(),\n",
        "  var = adata.var.copy(),\n",
        "  uns = adata.uns.copy(),\n",
        "  obsm = adata.obsm.copy(),\n",
        "  varm = adata.varm.copy(),\n",
        "  layers = adata.layers.copy(),\n",
        "  raw = adata.raw.copy(),\n",
        "  dtype = \"float32\",\n",
        "  shape = None,\n",
        "  #filename = NULL,\n",
        "  #filemode = NULL,\n",
        "  obsp = adata.obsp.copy(),\n",
        "  varp = adata.varp\n",
        "  )\n",
        "#varp = adata.varp.copy() would give me error but direct assignment would not"
      ],
      "metadata": {
        "id": "rv7BADSnRtlI"
      },
      "execution_count": null,
      "outputs": []
    },
    {
      "cell_type": "code",
      "source": [
        "#A random line that I found necessary for the object to work. \n",
        "new.__dict__['_raw'].__dict__['_var'] = adata.__dict__['_raw'].__dict__['_var'].rename(columns={'_index': 'features'})"
      ],
      "metadata": {
        "id": "14kGcJNOfVRd"
      },
      "execution_count": null,
      "outputs": []
    },
    {
      "cell_type": "code",
      "source": [
        "new.write(new_anndata)"
      ],
      "metadata": {
        "id": "COWdueR5dx0S"
      },
      "execution_count": null,
      "outputs": []
    },
    {
      "cell_type": "code",
      "source": [
        "print(adata.X.shape, new.X.shape) #Now the new AnnData object is generated. Check the dimension!"
      ],
      "metadata": {
        "id": "sZC69AV3bAKV"
      },
      "execution_count": null,
      "outputs": []
    },
    {
      "cell_type": "markdown",
      "source": [
        "A new AnnData object is created, and stored in the Colab disk. Navigate to the folder button on the left side panel, and click on \"write\", you will find the `new_anndata.h5ad file` here. Please either download it to your local disk, then upload to your google drive; or move to your drive folder by dragging it to the `drive` folder. \n",
        "\n",
        "---\n",
        "The purpose of creating a new AnnData is to keep the accessibility of other features, stored in `adata.obsm`, `adata.varm`, etc. \n"
      ],
      "metadata": {
        "id": "zikgBXqOiDiB"
      }
    }
  ],
  "metadata": {
    "anaconda-cloud": {},
    "colab": {
      "provenance": [],
      "machine_shape": "hm",
      "include_colab_link": true
    },
    "kernelspec": {
      "display_name": "Python 3",
      "language": "python",
      "name": "python3"
    },
    "language_info": {
      "codemirror_mode": {
        "name": "ipython",
        "version": 3
      },
      "file_extension": ".py",
      "mimetype": "text/x-python",
      "name": "python",
      "nbconvert_exporter": "python",
      "pygments_lexer": "ipython3",
      "version": "3.7.6"
    },
    "accelerator": "GPU",
    "gpuClass": "premium"
  },
  "nbformat": 4,
  "nbformat_minor": 0
}