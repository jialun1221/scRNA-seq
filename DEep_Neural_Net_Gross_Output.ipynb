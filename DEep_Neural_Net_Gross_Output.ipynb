{
  "cells": [
    {
      "cell_type": "markdown",
      "metadata": {
        "id": "view-in-github",
        "colab_type": "text"
      },
      "source": [
        "<a href=\"https://colab.research.google.com/github/jialun1221/scRNA-seq/blob/main/DEep_Neural_Net_Gross_Output.ipynb\" target=\"_parent\"><img src=\"https://colab.research.google.com/assets/colab-badge.svg\" alt=\"Open In Colab\"/></a>"
      ]
    },
    {
      "cell_type": "code",
      "execution_count": null,
      "metadata": {
        "id": "TJo2ZerTq-Uf"
      },
      "outputs": [],
      "source": [
        "!pip3 install scanpy\n",
        "import numpy as np\n",
        "import pandas as pd\n",
        "import scanpy as sc\n",
        "import sys\n",
        "from sklearn import preprocessing \n",
        "from matplotlib import pyplot as plt\n",
        "from sklearn.ensemble import RandomForestClassifier\n",
        "from sklearn.metrics import accuracy_score, confusion_matrix, classification_report\n",
        "import importlib\n",
        "required_libraries = ['torch', 'torchvision', 'PIL', 'matplotlib', \n",
        "                      'numpy', 'pandas']\n",
        "for lib in required_libraries:\n",
        "    if importlib.util.find_spec(lib) is None:\n",
        "        print(\"%s unavailable\" % lib)"
      ]
    },
    {
      "cell_type": "code",
      "execution_count": null,
      "metadata": {
        "id": "7Viub6Hq_YIK"
      },
      "outputs": [],
      "source": [
        "from matplotlib import pyplot as plt"
      ]
    },
    {
      "cell_type": "code",
      "execution_count": null,
      "metadata": {
        "colab": {
          "base_uri": "https://localhost:8080/"
        },
        "id": "vLmlNWphKIpc",
        "outputId": "2b36eead-e65a-48e9-85a2-0a70c93ed8d8"
      },
      "outputs": [
        {
          "name": "stdout",
          "output_type": "stream",
          "text": [
            "Mounted at /content/drive\n"
          ]
        }
      ],
      "source": [
        "from google.colab import drive\n",
        "drive.mount('/content/drive')"
      ]
    },
    {
      "cell_type": "code",
      "execution_count": null,
      "metadata": {
        "id": "OpV-AsSHOf-4"
      },
      "outputs": [],
      "source": [
        "#m1\n",
        "adata = sc.read_h5ad(\"drive/MyDrive/scRNA ML classifier/data_objects_May_2022/DAN_PC_all_genes_qc.h5ad\")\n",
        "adata.obs = adata.obs.reset_index() #reset the index for X, so the column number starts from 0\n",
        "\n",
        "X = adata.obsm[\"X_pca\"].X\n",
        "y = adata.obs['disease__ontology_label'].replace({\"normal\": \"0\", \"Parkinson disease\": \"1\"})"
      ]
    },
    {
      "cell_type": "code",
      "execution_count": null,
      "metadata": {
        "id": "cWDVlpEhcQU9"
      },
      "outputs": [],
      "source": [
        "#m2\n",
        "adata = sc.read_h5ad(\"drive/MyDrive/scRNA ML classifier/data_objects_May_2022/DAN_PC_HVGs_qc.h5ad\")\n",
        "adata.obs = adata.obs.reset_index() #reset the index for X, so the column number starts from 0\n",
        "\n",
        "X = adata.X\n",
        "y = adata.obs['disease__ontology_label'].replace({\"normal\": \"0\", \"Parkinson disease\": \"1\"})"
      ]
    },
    {
      "cell_type": "code",
      "execution_count": null,
      "metadata": {
        "id": "1ex_wLnFcNrL"
      },
      "outputs": [],
      "source": [
        "#m3\n",
        "adata = sc.read_h5ad(\"drive/MyDrive/scRNA ML classifier/data_objects_May_2022/DAN_no_PC_HVGs_qc.h5ad\")\n",
        "adata.obs = adata.obs.reset_index() #reset the index for X, so the column number starts from 0\n",
        "\n",
        "X = adata.X\n",
        "y = adata.obs['disease__ontology_label'].replace({\"normal\": \"0\", \"Parkinson disease\": \"1\"})"
      ]
    },
    {
      "cell_type": "code",
      "execution_count": null,
      "metadata": {
        "id": "x-wnpcdcy8lv"
      },
      "outputs": [],
      "source": [
        "import torch\n",
        "import numpy as np\n",
        "import torch.nn as nn\n",
        "import torch.nn.functional as F\n",
        "import torch.optim as optim\n",
        "import torchvision\n",
        "import scanpy as sc\n",
        "\n",
        "from torch.utils.data import TensorDataset\n",
        "\n",
        "use_gpu = torch.cuda.is_available()\n",
        "device = torch.device(\"cuda:0\" if use_gpu else \"cpu\")\n",
        "\n",
        "# seed = 4321\n",
        "# np.random.seed(seed) # Set the random seed of numpy for the data split.\n",
        "# torch.manual_seed(seed)\n",
        "# torch.cuda.manual_seed(seed)"
      ]
    },
    {
      "cell_type": "code",
      "execution_count": null,
      "metadata": {
        "id": "sTenrDuQ5S3y"
      },
      "outputs": [],
      "source": [
        "from numpy import mean\n",
        "from numpy import std\n",
        "from sklearn.datasets import make_classification\n",
        "from sklearn.model_selection import cross_val_score"
      ]
    },
    {
      "cell_type": "code",
      "execution_count": null,
      "metadata": {
        "id": "UeLUepTo4np8"
      },
      "outputs": [],
      "source": [
        "import random"
      ]
    },
    {
      "cell_type": "markdown",
      "metadata": {
        "id": "_pHHM-4rvgS2"
      },
      "source": [
        "I got everthing :)\n",
        "\n"
      ]
    },
    {
      "cell_type": "code",
      "execution_count": null,
      "metadata": {
        "id": "tozHiLApvSSt"
      },
      "outputs": [],
      "source": [
        "#the real train and test dataset\n",
        "# train_dataset = TensorDataset(torch.from_numpy(X_train).float(), torch.from_numpy(y_train).long())\n",
        "# val_dataset = TensorDataset(torch.from_numpy(X_val).float(), torch.from_numpy(y_val).long())\n",
        "# test_dataset = TensorDataset(torch.from_numpy(X_test).float(), torch.from_numpy(y_test).long())"
      ]
    },
    {
      "cell_type": "markdown",
      "metadata": {
        "id": "OsBhh2eTMuRD"
      },
      "source": [
        "####Set up the model."
      ]
    },
    {
      "cell_type": "code",
      "execution_count": null,
      "metadata": {
        "id": "Jt1wt4oxzzxu"
      },
      "outputs": [],
      "source": [
        "class NeuralNet(nn.Module):\n",
        "    def __init__(self):\n",
        "      super(NeuralNet, self).__init__()\n",
        "      self.n = X_train.shape[1] #number of rows\n",
        "        \n",
        "      self.fc1 = nn.Linear(self.n, int(self.n/2))\n",
        "      self.fc2 = nn.Linear(int(self.n/2), int(self.n/4))\n",
        "      #self.fc3 = nn.Linear(int(len(X_train)/4),int(len(X_train)/8))\n",
        "      self.output = nn.Linear(int(self.n/4), 2)\n",
        "        \n",
        "      # this are defining the layers and the hyper paramters that means the \n",
        "      # conditions to compare\n",
        "    \n",
        "    def forward(self, x):      \n",
        "      x = F.relu(self.fc1(x))\n",
        "      x = F.relu(self.fc2(x))\n",
        "      #x = F.relu(self.fc3(x))\n",
        "      out = self.output(x)   # the RelU is non linearity that removes all negative values and shouldn't be used right before softmax\n",
        "      return out\n",
        "\n",
        "    def print(self):\n",
        "        return self.fc1\n",
        "    \n",
        "# A = NeuralNet()\n",
        "# A.print()\n",
        "      # here we are telling the model how to pass the information from on layer to the next\n",
        "      #in pytorch we do not explain the graph traveral method as this computational graph is automatically defined"
      ]
    },
    {
      "cell_type": "code",
      "execution_count": null,
      "metadata": {
        "id": "DF80PJsez3yh"
      },
      "outputs": [],
      "source": [
        "def loss_function(prediction, target):\n",
        "    loss = F.cross_entropy(prediction, target)\n",
        "    return loss"
      ]
    },
    {
      "cell_type": "code",
      "execution_count": null,
      "metadata": {
        "id": "86YhWjbMz6vB"
      },
      "outputs": [],
      "source": [
        "def train(epoch, model, train_loader, optimizer, device):\n",
        "    \n",
        "    # activate the training mode\n",
        "    model.train()\n",
        "    \n",
        "    torch.set_grad_enabled(True)\n",
        "    \n",
        "    total_loss = 0\n",
        "    correct = 0\n",
        "    \n",
        "    # iteration over the mini-batches\n",
        "    for batch_idx, (data, target) in enumerate(train_loader):\n",
        "        \n",
        "        # transfer the data on the chosen device\n",
        "        data, target = data.to(device), target.to(device)\n",
        "        target=target.float()\n",
        "\n",
        "        # reinitialize the gradients to zero\n",
        "        optimizer.zero_grad()\n",
        "        \n",
        "        # forward propagation on the data\n",
        "        prediction = model(data)\n",
        "        \n",
        "        # compute the loss function w.r.t. the targets \n",
        "        loss = loss_function(prediction, target)\n",
        "        \n",
        "        # execute the backpropagation\n",
        "        loss.backward()\n",
        "        \n",
        "        # execute an optimization step\n",
        "        optimizer.step()\n",
        "        \n",
        "        # accumulate the loss\n",
        "        total_loss += loss.item()*len(data)\n",
        "        # we multiply by the length of the data incase the last minibatch is smaller we are 'denormalizing' so that a small batch isn't overweighted\n",
        "        \n",
        "        # compute the number of correct predictions\n",
        "        _, pred_classes = torch.max(prediction, dim=1)\n",
        "        _, target_classes = torch.max(target, dim=1)\n",
        "\n",
        "        #print(pred_classes)      \n",
        "        #print(type(pred_classes))  \n",
        "        #print(pred_classes.shape)\n",
        "\n",
        "        #print(prediction.shape)\n",
        "        correct += int(pred_classes.eq(target_classes).sum().item())\n",
        "        # print('pred', prediction)\n",
        "        # print('target', target)\n",
        "        # print('correct', correct)\n",
        "        #print(prediction.shape)\n",
        "\n",
        "    # compute the average loss per epoch\n",
        "    mean_loss = total_loss/len(train_loader.dataset)\n",
        "  \n",
        "    # compute the accuracy\n",
        "    acc = correct / len(train_loader.dataset)\n",
        "\n",
        "    print('Train Epoch: {}   Avg_Loss: {:.5f}   Acc: {}/{} ({:.3f}%)'.format(\n",
        "        epoch, mean_loss, correct, len(train_loader.dataset),\n",
        "        100. * acc))   \n",
        "    \n",
        "    # return the average loss and the accuracy\n",
        "    return mean_loss, acc"
      ]
    },
    {
      "cell_type": "code",
      "execution_count": null,
      "metadata": {
        "id": "0ek3ckGwz73b"
      },
      "outputs": [],
      "source": [
        "# Evaluation Procedure\n",
        "def evaluate(model, eval_loader, device):\n",
        "    \n",
        "    # activate the evaluation mode\n",
        "    model.eval()\n",
        "    \n",
        "    total_loss = 0\n",
        "    correct = 0\n",
        "    \n",
        "    with torch.no_grad():\n",
        "    # we don't need to compute the gradient graph it using too much compuatation\n",
        "        # iterate over the batches\n",
        "        for batch_idx, (data, target) in enumerate(eval_loader):\n",
        "\n",
        "            # transfer the data on the chosen device\n",
        "            data, target = data.to(device), target.to(device)\n",
        "            target=target.float()\n",
        "\n",
        "            # forward propagation on the data\n",
        "            prediction = model(data)\n",
        "\n",
        "            # compute the loss function w.r.t. the targets\n",
        "            loss = loss_function(prediction, target)           \n",
        "\n",
        "            # accumulate the loss\n",
        "            total_loss += loss.item()*len(data)\n",
        "\n",
        "            # compute the number of correct predictions en sortie)\n",
        "            _, pred_classes = torch.max(prediction, dim=1)\n",
        "            _, target_classes = torch.max(target, dim=1)\n",
        "\n",
        "            correct += int(pred_classes.eq(target_classes).sum().item())         \n",
        "          \n",
        "    # compute the average loss per epoch\n",
        "    mean_loss = total_loss/len(eval_loader.dataset)\n",
        "    \n",
        "    # compute the accuracy\n",
        "    acc = correct / len(eval_loader.dataset)\n",
        "\n",
        "    print('Eval:  Avg_Loss: {:.5f}   Acc: {}/{} ({:.3f}%)'.format(\n",
        "        mean_loss, correct, len(eval_loader.dataset),\n",
        "        100. * acc)) \n",
        "    \n",
        "    # return the average loss and the accuracy\n",
        "    return mean_loss, acc"
      ]
    },
    {
      "cell_type": "code",
      "execution_count": null,
      "metadata": {
        "id": "L1UPv-yaz9ZF"
      },
      "outputs": [],
      "source": [
        "def save_model(epoch, model, path='./'):\n",
        "    \n",
        "    # creating the file name indexed by the epoch value\n",
        "    filename = path + 'neural_network_{}.pt'.format(epoch)\n",
        "    \n",
        "    # saving the model parameters\n",
        "    torch.save(model.state_dict(), filename)\n",
        "    \n",
        "    return model"
      ]
    },
    {
      "cell_type": "code",
      "execution_count": null,
      "metadata": {
        "id": "TxKebOv9z-QV"
      },
      "outputs": [],
      "source": [
        "def load_model(epoch, model, path='./'):\n",
        "    \n",
        "    # creating the file name indexed by the epoch value\n",
        "    filename = path + 'neural_network_{}.pt'.format(epoch)\n",
        "    \n",
        "    # loading the parameters of the saved model\n",
        "    model.load_state_dict(torch.load(filename))\n",
        "    \n",
        "    return model"
      ]
    },
    {
      "cell_type": "code",
      "execution_count": null,
      "metadata": {
        "id": "7wP0uQrQJFFj"
      },
      "outputs": [],
      "source": [
        "import copy"
      ]
    },
    {
      "cell_type": "code",
      "execution_count": null,
      "metadata": {
        "colab": {
          "background_save": true,
          "base_uri": "https://localhost:8080/"
        },
        "id": "qE7nOdKOvgVD",
        "outputId": "2665db0b-0979-4ed6-970b-80fa6ba920af"
      },
      "outputs": [
        {
          "name": "stdout",
          "output_type": "stream",
          "text": [
            "seed:  5825\n",
            "(15011, 2500) (5004, 2500) (15011,) (5004,)\n",
            "output tensor([[ 0.1583,  0.0552],\n",
            "        [-0.0488, -0.0885],\n",
            "        [ 0.1020,  0.0919],\n",
            "        [ 0.0738,  0.1464],\n",
            "        [ 0.0443,  0.0550]], grad_fn=<AddmmBackward0>)\n",
            "tensor([[0.5258, 0.4742],\n",
            "        [0.5099, 0.4901],\n",
            "        [0.5025, 0.4975],\n",
            "        [0.4818, 0.5182],\n",
            "        [0.4973, 0.5027]], grad_fn=<SoftmaxBackward0>)\n",
            "Model prediction\n",
            "tensor([0, 0, 0, 1, 1])\n",
            "Actual data\n",
            "tensor([[1, 0],\n",
            "        [1, 0],\n",
            "        [0, 1],\n",
            "        [1, 0],\n",
            "        [0, 1]])\n"
          ]
        },
        {
          "name": "stderr",
          "output_type": "stream",
          "text": [
            "\r  0%|          | 0/15 [00:00<?, ?it/s]"
          ]
        },
        {
          "name": "stdout",
          "output_type": "stream",
          "text": [
            "Train Epoch: 1   Avg_Loss: 0.09587   Acc: 14463/15011 (96.349%)\n"
          ]
        },
        {
          "name": "stderr",
          "output_type": "stream",
          "text": [
            "\r  7%|▋         | 1/15 [00:18<04:22, 18.74s/it]"
          ]
        },
        {
          "name": "stdout",
          "output_type": "stream",
          "text": [
            "Eval:  Avg_Loss: 0.05990   Acc: 4918/5004 (98.281%)\n",
            "Train Epoch: 2   Avg_Loss: 0.02011   Acc: 14935/15011 (99.494%)\n"
          ]
        },
        {
          "name": "stderr",
          "output_type": "stream",
          "text": [
            "\r 13%|█▎        | 2/15 [00:39<04:16, 19.70s/it]"
          ]
        },
        {
          "name": "stdout",
          "output_type": "stream",
          "text": [
            "Eval:  Avg_Loss: 0.07107   Acc: 4915/5004 (98.221%)\n",
            "Train Epoch: 3   Avg_Loss: 0.00454   Acc: 14991/15011 (99.867%)\n"
          ]
        },
        {
          "name": "stderr",
          "output_type": "stream",
          "text": [
            "\r 20%|██        | 3/15 [01:05<04:30, 22.55s/it]"
          ]
        },
        {
          "name": "stdout",
          "output_type": "stream",
          "text": [
            "Eval:  Avg_Loss: 0.12549   Acc: 4851/5004 (96.942%)\n",
            "Train Epoch: 4   Avg_Loss: 0.01402   Acc: 14946/15011 (99.567%)\n"
          ]
        },
        {
          "name": "stderr",
          "output_type": "stream",
          "text": [
            "\r 27%|██▋       | 4/15 [01:32<04:30, 24.58s/it]"
          ]
        },
        {
          "name": "stdout",
          "output_type": "stream",
          "text": [
            "Eval:  Avg_Loss: 0.14240   Acc: 4905/5004 (98.022%)\n",
            "Train Epoch: 5   Avg_Loss: 0.01825   Acc: 14953/15011 (99.614%)\n"
          ]
        },
        {
          "name": "stderr",
          "output_type": "stream",
          "text": [
            "\r 33%|███▎      | 5/15 [02:01<04:19, 25.94s/it]"
          ]
        },
        {
          "name": "stdout",
          "output_type": "stream",
          "text": [
            "Eval:  Avg_Loss: 0.09067   Acc: 4901/5004 (97.942%)\n",
            "Train Epoch: 6   Avg_Loss: 0.01024   Acc: 14966/15011 (99.700%)\n"
          ]
        },
        {
          "name": "stderr",
          "output_type": "stream",
          "text": [
            "\r 40%|████      | 6/15 [02:33<04:13, 28.17s/it]"
          ]
        },
        {
          "name": "stdout",
          "output_type": "stream",
          "text": [
            "Eval:  Avg_Loss: 0.13297   Acc: 4892/5004 (97.762%)\n",
            "Train Epoch: 7   Avg_Loss: 0.00188   Acc: 15000/15011 (99.927%)\n"
          ]
        },
        {
          "name": "stderr",
          "output_type": "stream",
          "text": [
            "\r 47%|████▋     | 7/15 [03:07<04:01, 30.20s/it]"
          ]
        },
        {
          "name": "stdout",
          "output_type": "stream",
          "text": [
            "Eval:  Avg_Loss: 0.11998   Acc: 4910/5004 (98.122%)\n",
            "Train Epoch: 8   Avg_Loss: 0.00028   Acc: 15010/15011 (99.993%)\n"
          ]
        },
        {
          "name": "stderr",
          "output_type": "stream",
          "text": [
            "\r 53%|█████▎    | 8/15 [03:43<03:43, 31.99s/it]"
          ]
        },
        {
          "name": "stdout",
          "output_type": "stream",
          "text": [
            "Eval:  Avg_Loss: 0.12685   Acc: 4913/5004 (98.181%)\n",
            "Train Epoch: 9   Avg_Loss: 0.00001   Acc: 15011/15011 (100.000%)\n"
          ]
        },
        {
          "name": "stderr",
          "output_type": "stream",
          "text": [
            "\r 60%|██████    | 9/15 [04:20<03:20, 33.48s/it]"
          ]
        },
        {
          "name": "stdout",
          "output_type": "stream",
          "text": [
            "Eval:  Avg_Loss: 0.13589   Acc: 4919/5004 (98.301%)\n",
            "Train Epoch: 10   Avg_Loss: 0.00000   Acc: 15011/15011 (100.000%)\n"
          ]
        },
        {
          "name": "stderr",
          "output_type": "stream",
          "text": [
            "\r 67%|██████▋   | 10/15 [04:59<02:55, 35.15s/it]"
          ]
        },
        {
          "name": "stdout",
          "output_type": "stream",
          "text": [
            "Eval:  Avg_Loss: 0.15118   Acc: 4921/5004 (98.341%)\n",
            "Train Epoch: 11   Avg_Loss: 0.00000   Acc: 15011/15011 (100.000%)\n"
          ]
        },
        {
          "name": "stderr",
          "output_type": "stream",
          "text": [
            "\r 73%|███████▎  | 11/15 [05:40<02:27, 36.94s/it]"
          ]
        },
        {
          "name": "stdout",
          "output_type": "stream",
          "text": [
            "Eval:  Avg_Loss: 0.16495   Acc: 4921/5004 (98.341%)\n",
            "Train Epoch: 12   Avg_Loss: 0.00000   Acc: 15011/15011 (100.000%)\n"
          ]
        },
        {
          "name": "stderr",
          "output_type": "stream",
          "text": [
            "\r 80%|████████  | 12/15 [06:22<01:55, 38.42s/it]"
          ]
        },
        {
          "name": "stdout",
          "output_type": "stream",
          "text": [
            "Eval:  Avg_Loss: 0.17432   Acc: 4921/5004 (98.341%)\n",
            "Train Epoch: 13   Avg_Loss: 0.00000   Acc: 15011/15011 (100.000%)\n"
          ]
        },
        {
          "name": "stderr",
          "output_type": "stream",
          "text": [
            "\r 87%|████████▋ | 13/15 [07:04<01:19, 39.56s/it]"
          ]
        },
        {
          "name": "stdout",
          "output_type": "stream",
          "text": [
            "Eval:  Avg_Loss: 0.18304   Acc: 4920/5004 (98.321%)\n",
            "Train Epoch: 14   Avg_Loss: 0.00000   Acc: 15011/15011 (100.000%)\n"
          ]
        },
        {
          "name": "stderr",
          "output_type": "stream",
          "text": [
            "\r 93%|█████████▎| 14/15 [07:47<00:40, 40.57s/it]"
          ]
        },
        {
          "name": "stdout",
          "output_type": "stream",
          "text": [
            "Eval:  Avg_Loss: 0.19205   Acc: 4920/5004 (98.321%)\n",
            "Train Epoch: 15   Avg_Loss: 0.00000   Acc: 15011/15011 (100.000%)\n"
          ]
        },
        {
          "name": "stderr",
          "output_type": "stream",
          "text": [
            "100%|██████████| 15/15 [08:30<00:00, 34.06s/it]"
          ]
        },
        {
          "name": "stdout",
          "output_type": "stream",
          "text": [
            "Eval:  Avg_Loss: 0.19881   Acc: 4919/5004 (98.301%)\n",
            "\n",
            "\n",
            "\n",
            "Optimization ended.\n",
            "\n",
            "tensor([[1.0000e+00, 1.6318e-11],\n",
            "        [1.0000e+00, 3.9627e-21],\n",
            "        [3.3003e-18, 1.0000e+00],\n",
            "        [1.0000e+00, 2.2023e-15],\n",
            "        [3.6515e-16, 1.0000e+00],\n",
            "        [1.0516e-27, 1.0000e+00],\n",
            "        [1.0905e-24, 1.0000e+00],\n",
            "        [1.0000e+00, 0.0000e+00],\n",
            "        [1.0000e+00, 3.3727e-12],\n",
            "        [1.0000e+00, 6.1657e-43]], grad_fn=<SoftmaxBackward0>)\n",
            "Model predictions\n",
            "tensor([0, 0, 1, 0, 1, 1, 1, 0, 0, 0])\n",
            "Targets\n",
            "tensor([[1, 0],\n",
            "        [1, 0],\n",
            "        [0, 1],\n",
            "        [1, 0],\n",
            "        [0, 1],\n",
            "        [0, 1],\n",
            "        [0, 1],\n",
            "        [1, 0],\n",
            "        [1, 0],\n",
            "        [1, 0]])\n"
          ]
        },
        {
          "name": "stderr",
          "output_type": "stream",
          "text": [
            "\n"
          ]
        },
        {
          "name": "stdout",
          "output_type": "stream",
          "text": [
            "Eval:  Avg_Loss: 0.19881   Acc: 4919/5004 (98.301%)\n",
            "Eval:  Avg_Loss: 0.29940   Acc: 4901/5004 (97.942%)\n",
            "seed:  9955\n",
            "(15011, 2500) (5004, 2500) (15011,) (5004,)\n",
            "output tensor([[ 0.0617,  0.0993],\n",
            "        [-0.0318,  0.0070],\n",
            "        [ 0.0415,  0.0119],\n",
            "        [-0.0060, -0.0482],\n",
            "        [ 0.0348,  0.0036]], grad_fn=<AddmmBackward0>)\n",
            "tensor([[0.4906, 0.5094],\n",
            "        [0.4903, 0.5097],\n",
            "        [0.5074, 0.4926],\n",
            "        [0.5105, 0.4895],\n",
            "        [0.5078, 0.4922]], grad_fn=<SoftmaxBackward0>)\n",
            "Model prediction\n",
            "tensor([1, 1, 0, 0, 0])\n",
            "Actual data\n",
            "tensor([[1, 0],\n",
            "        [1, 0],\n",
            "        [0, 1],\n",
            "        [1, 0],\n",
            "        [0, 1]])\n"
          ]
        },
        {
          "name": "stderr",
          "output_type": "stream",
          "text": [
            "\r  0%|          | 0/15 [00:00<?, ?it/s]"
          ]
        },
        {
          "name": "stdout",
          "output_type": "stream",
          "text": [
            "Train Epoch: 1   Avg_Loss: 0.09408   Acc: 14527/15011 (96.776%)\n"
          ]
        },
        {
          "name": "stderr",
          "output_type": "stream",
          "text": [
            "\r  7%|▋         | 1/15 [00:18<04:19, 18.55s/it]"
          ]
        },
        {
          "name": "stdout",
          "output_type": "stream",
          "text": [
            "Eval:  Avg_Loss: 0.06234   Acc: 4909/5004 (98.102%)\n",
            "Train Epoch: 2   Avg_Loss: 0.01314   Acc: 14944/15011 (99.554%)\n"
          ]
        },
        {
          "name": "stderr",
          "output_type": "stream",
          "text": [
            "\r 13%|█▎        | 2/15 [00:40<04:26, 20.53s/it]"
          ]
        },
        {
          "name": "stdout",
          "output_type": "stream",
          "text": [
            "Eval:  Avg_Loss: 0.09585   Acc: 4891/5004 (97.742%)\n",
            "Train Epoch: 3   Avg_Loss: 0.00816   Acc: 14974/15011 (99.754%)\n"
          ]
        },
        {
          "name": "stderr",
          "output_type": "stream",
          "text": [
            "\r 20%|██        | 3/15 [01:03<04:22, 21.87s/it]"
          ]
        },
        {
          "name": "stdout",
          "output_type": "stream",
          "text": [
            "Eval:  Avg_Loss: 0.10639   Acc: 4886/5004 (97.642%)\n",
            "Train Epoch: 4   Avg_Loss: 0.01680   Acc: 14970/15011 (99.727%)\n"
          ]
        },
        {
          "name": "stderr",
          "output_type": "stream",
          "text": [
            "\r 27%|██▋       | 4/15 [01:34<04:37, 25.19s/it]"
          ]
        },
        {
          "name": "stdout",
          "output_type": "stream",
          "text": [
            "Eval:  Avg_Loss: 0.11340   Acc: 4890/5004 (97.722%)\n",
            "Train Epoch: 5   Avg_Loss: 0.01666   Acc: 14944/15011 (99.554%)\n"
          ]
        },
        {
          "name": "stderr",
          "output_type": "stream",
          "text": [
            "\r 33%|███▎      | 5/15 [02:06<04:38, 27.89s/it]"
          ]
        },
        {
          "name": "stdout",
          "output_type": "stream",
          "text": [
            "Eval:  Avg_Loss: 0.13752   Acc: 4901/5004 (97.942%)\n",
            "Train Epoch: 6   Avg_Loss: 0.00834   Acc: 14973/15011 (99.747%)\n"
          ]
        },
        {
          "name": "stderr",
          "output_type": "stream",
          "text": [
            "\r 40%|████      | 6/15 [02:39<04:25, 29.51s/it]"
          ]
        },
        {
          "name": "stdout",
          "output_type": "stream",
          "text": [
            "Eval:  Avg_Loss: 0.13085   Acc: 4902/5004 (97.962%)\n",
            "Train Epoch: 7   Avg_Loss: 0.00294   Acc: 15002/15011 (99.940%)\n"
          ]
        },
        {
          "name": "stderr",
          "output_type": "stream",
          "text": [
            "\r 47%|████▋     | 7/15 [03:17<04:17, 32.15s/it]"
          ]
        },
        {
          "name": "stdout",
          "output_type": "stream",
          "text": [
            "Eval:  Avg_Loss: 0.15817   Acc: 4910/5004 (98.122%)\n",
            "Train Epoch: 8   Avg_Loss: 0.00033   Acc: 15009/15011 (99.987%)\n"
          ]
        },
        {
          "name": "stderr",
          "output_type": "stream",
          "text": [
            "\r 53%|█████▎    | 8/15 [03:56<04:00, 34.29s/it]"
          ]
        },
        {
          "name": "stdout",
          "output_type": "stream",
          "text": [
            "Eval:  Avg_Loss: 0.16774   Acc: 4909/5004 (98.102%)\n",
            "Train Epoch: 9   Avg_Loss: 0.00003   Acc: 15011/15011 (100.000%)\n"
          ]
        },
        {
          "name": "stderr",
          "output_type": "stream",
          "text": [
            "\r 60%|██████    | 9/15 [04:36<03:37, 36.23s/it]"
          ]
        },
        {
          "name": "stdout",
          "output_type": "stream",
          "text": [
            "Eval:  Avg_Loss: 0.18415   Acc: 4921/5004 (98.341%)\n",
            "Train Epoch: 10   Avg_Loss: 0.00000   Acc: 15011/15011 (100.000%)\n"
          ]
        },
        {
          "name": "stderr",
          "output_type": "stream",
          "text": [
            "\r 67%|██████▋   | 10/15 [05:18<03:10, 38.01s/it]"
          ]
        },
        {
          "name": "stdout",
          "output_type": "stream",
          "text": [
            "Eval:  Avg_Loss: 0.18876   Acc: 4921/5004 (98.341%)\n",
            "Train Epoch: 11   Avg_Loss: 0.00000   Acc: 15011/15011 (100.000%)\n"
          ]
        },
        {
          "name": "stderr",
          "output_type": "stream",
          "text": [
            "\r 73%|███████▎  | 11/15 [06:00<02:37, 39.37s/it]"
          ]
        },
        {
          "name": "stdout",
          "output_type": "stream",
          "text": [
            "Eval:  Avg_Loss: 0.19366   Acc: 4918/5004 (98.281%)\n",
            "Train Epoch: 12   Avg_Loss: 0.00000   Acc: 15011/15011 (100.000%)\n"
          ]
        },
        {
          "name": "stderr",
          "output_type": "stream",
          "text": [
            "\r 80%|████████  | 12/15 [06:43<02:01, 40.47s/it]"
          ]
        },
        {
          "name": "stdout",
          "output_type": "stream",
          "text": [
            "Eval:  Avg_Loss: 0.19823   Acc: 4917/5004 (98.261%)\n",
            "Train Epoch: 13   Avg_Loss: 0.00000   Acc: 15011/15011 (100.000%)\n"
          ]
        },
        {
          "name": "stderr",
          "output_type": "stream",
          "text": [
            "\r 87%|████████▋ | 13/15 [07:28<01:23, 41.57s/it]"
          ]
        },
        {
          "name": "stdout",
          "output_type": "stream",
          "text": [
            "Eval:  Avg_Loss: 0.20244   Acc: 4917/5004 (98.261%)\n",
            "Train Epoch: 14   Avg_Loss: 0.00000   Acc: 15011/15011 (100.000%)\n"
          ]
        },
        {
          "name": "stderr",
          "output_type": "stream",
          "text": [
            "\r 93%|█████████▎| 14/15 [08:12<00:42, 42.43s/it]"
          ]
        },
        {
          "name": "stdout",
          "output_type": "stream",
          "text": [
            "Eval:  Avg_Loss: 0.20669   Acc: 4916/5004 (98.241%)\n",
            "Train Epoch: 15   Avg_Loss: 0.00000   Acc: 15011/15011 (100.000%)\n"
          ]
        },
        {
          "name": "stderr",
          "output_type": "stream",
          "text": [
            "100%|██████████| 15/15 [08:57<00:00, 35.82s/it]"
          ]
        },
        {
          "name": "stdout",
          "output_type": "stream",
          "text": [
            "Eval:  Avg_Loss: 0.21078   Acc: 4915/5004 (98.221%)\n",
            "\n",
            "\n",
            "\n",
            "Optimization ended.\n",
            "\n",
            "tensor([[1.0000e+00, 2.5733e-16],\n",
            "        [1.0000e+00, 3.7548e-26],\n",
            "        [3.0894e-10, 1.0000e+00],\n",
            "        [1.0000e+00, 1.5492e-08],\n",
            "        [2.2795e-07, 1.0000e+00],\n",
            "        [6.3378e-24, 1.0000e+00],\n",
            "        [3.7972e-26, 1.0000e+00],\n",
            "        [1.0000e+00, 0.0000e+00],\n",
            "        [1.0000e+00, 6.3367e-09],\n",
            "        [1.0000e+00, 1.4013e-45]], grad_fn=<SoftmaxBackward0>)\n",
            "Model predictions\n",
            "tensor([0, 0, 1, 0, 1, 1, 1, 0, 0, 0])\n",
            "Targets\n",
            "tensor([[1, 0],\n",
            "        [1, 0],\n",
            "        [0, 1],\n",
            "        [1, 0],\n",
            "        [0, 1],\n",
            "        [0, 1],\n",
            "        [0, 1],\n",
            "        [1, 0],\n",
            "        [1, 0],\n",
            "        [1, 0]])\n"
          ]
        },
        {
          "name": "stderr",
          "output_type": "stream",
          "text": [
            "\n"
          ]
        },
        {
          "name": "stdout",
          "output_type": "stream",
          "text": [
            "Eval:  Avg_Loss: 0.21078   Acc: 4915/5004 (98.221%)\n",
            "Eval:  Avg_Loss: 0.27665   Acc: 4903/5004 (97.982%)\n",
            "seed:  656\n",
            "(15011, 2500) (5004, 2500) (15011,) (5004,)\n",
            "output tensor([[ 0.0928,  0.0678],\n",
            "        [ 0.1493,  0.0004],\n",
            "        [ 0.0816, -0.0142],\n",
            "        [ 0.0161, -0.0729],\n",
            "        [ 0.1120, -0.0576]], grad_fn=<AddmmBackward0>)\n",
            "tensor([[0.5062, 0.4938],\n",
            "        [0.5371, 0.4629],\n",
            "        [0.5240, 0.4760],\n",
            "        [0.5222, 0.4778],\n",
            "        [0.5423, 0.4577]], grad_fn=<SoftmaxBackward0>)\n",
            "Model prediction\n",
            "tensor([0, 0, 0, 0, 0])\n",
            "Actual data\n",
            "tensor([[1, 0],\n",
            "        [1, 0],\n",
            "        [0, 1],\n",
            "        [1, 0],\n",
            "        [0, 1]])\n"
          ]
        },
        {
          "name": "stderr",
          "output_type": "stream",
          "text": [
            "\r  0%|          | 0/15 [00:00<?, ?it/s]"
          ]
        },
        {
          "name": "stdout",
          "output_type": "stream",
          "text": [
            "Train Epoch: 1   Avg_Loss: 0.10134   Acc: 14450/15011 (96.263%)\n"
          ]
        },
        {
          "name": "stderr",
          "output_type": "stream",
          "text": [
            "\r  7%|▋         | 1/15 [00:18<04:23, 18.82s/it]"
          ]
        },
        {
          "name": "stdout",
          "output_type": "stream",
          "text": [
            "Eval:  Avg_Loss: 0.05132   Acc: 4902/5004 (97.962%)\n",
            "Train Epoch: 2   Avg_Loss: 0.01720   Acc: 14928/15011 (99.447%)\n"
          ]
        },
        {
          "name": "stderr",
          "output_type": "stream",
          "text": [
            "\r 13%|█▎        | 2/15 [00:41<04:37, 21.36s/it]"
          ]
        },
        {
          "name": "stdout",
          "output_type": "stream",
          "text": [
            "Eval:  Avg_Loss: 0.05500   Acc: 4919/5004 (98.301%)\n",
            "Train Epoch: 3   Avg_Loss: 0.00946   Acc: 14957/15011 (99.640%)\n"
          ]
        },
        {
          "name": "stderr",
          "output_type": "stream",
          "text": [
            "\r 20%|██        | 3/15 [01:09<04:50, 24.25s/it]"
          ]
        },
        {
          "name": "stdout",
          "output_type": "stream",
          "text": [
            "Eval:  Avg_Loss: 0.08800   Acc: 4892/5004 (97.762%)\n",
            "Train Epoch: 4   Avg_Loss: 0.01904   Acc: 14934/15011 (99.487%)\n"
          ]
        },
        {
          "name": "stderr",
          "output_type": "stream",
          "text": [
            "\r 27%|██▋       | 4/15 [01:38<04:48, 26.21s/it]"
          ]
        },
        {
          "name": "stdout",
          "output_type": "stream",
          "text": [
            "Eval:  Avg_Loss: 0.04994   Acc: 4919/5004 (98.301%)\n",
            "Train Epoch: 5   Avg_Loss: 0.01331   Acc: 14968/15011 (99.714%)\n"
          ]
        },
        {
          "name": "stderr",
          "output_type": "stream",
          "text": [
            "\r 33%|███▎      | 5/15 [02:08<04:33, 27.38s/it]"
          ]
        },
        {
          "name": "stdout",
          "output_type": "stream",
          "text": [
            "Eval:  Avg_Loss: 0.06192   Acc: 4903/5004 (97.982%)\n",
            "Train Epoch: 6   Avg_Loss: 0.00675   Acc: 14983/15011 (99.813%)\n"
          ]
        },
        {
          "name": "stderr",
          "output_type": "stream",
          "text": [
            "\r 40%|████      | 6/15 [02:40<04:20, 28.99s/it]"
          ]
        },
        {
          "name": "stdout",
          "output_type": "stream",
          "text": [
            "Eval:  Avg_Loss: 0.26772   Acc: 4890/5004 (97.722%)\n",
            "Train Epoch: 7   Avg_Loss: 0.01399   Acc: 14976/15011 (99.767%)\n"
          ]
        },
        {
          "name": "stderr",
          "output_type": "stream",
          "text": [
            "\r 47%|████▋     | 7/15 [03:18<04:15, 31.90s/it]"
          ]
        },
        {
          "name": "stdout",
          "output_type": "stream",
          "text": [
            "Eval:  Avg_Loss: 0.11327   Acc: 4908/5004 (98.082%)\n",
            "Train Epoch: 8   Avg_Loss: 0.00619   Acc: 14991/15011 (99.867%)\n"
          ]
        },
        {
          "name": "stderr",
          "output_type": "stream",
          "text": [
            "\r 53%|█████▎    | 8/15 [03:54<03:53, 33.41s/it]"
          ]
        },
        {
          "name": "stdout",
          "output_type": "stream",
          "text": [
            "Eval:  Avg_Loss: 0.10088   Acc: 4914/5004 (98.201%)\n",
            "Train Epoch: 9   Avg_Loss: 0.00541   Acc: 14995/15011 (99.893%)\n"
          ]
        },
        {
          "name": "stderr",
          "output_type": "stream",
          "text": [
            "\r 60%|██████    | 9/15 [04:31<03:25, 34.24s/it]"
          ]
        },
        {
          "name": "stdout",
          "output_type": "stream",
          "text": [
            "Eval:  Avg_Loss: 0.18468   Acc: 4887/5004 (97.662%)\n",
            "Train Epoch: 10   Avg_Loss: 0.03037   Acc: 14946/15011 (99.567%)\n"
          ]
        },
        {
          "name": "stderr",
          "output_type": "stream",
          "text": [
            "\r 67%|██████▋   | 10/15 [05:07<02:53, 34.79s/it]"
          ]
        },
        {
          "name": "stdout",
          "output_type": "stream",
          "text": [
            "Eval:  Avg_Loss: 0.11658   Acc: 4916/5004 (98.241%)\n",
            "Train Epoch: 11   Avg_Loss: 0.01292   Acc: 14984/15011 (99.820%)\n"
          ]
        },
        {
          "name": "stderr",
          "output_type": "stream",
          "text": [
            "\r 73%|███████▎  | 11/15 [05:44<02:22, 35.53s/it]"
          ]
        },
        {
          "name": "stdout",
          "output_type": "stream",
          "text": [
            "Eval:  Avg_Loss: 0.11537   Acc: 4908/5004 (98.082%)\n",
            "Train Epoch: 12   Avg_Loss: 0.00142   Acc: 15005/15011 (99.960%)\n"
          ]
        },
        {
          "name": "stderr",
          "output_type": "stream",
          "text": [
            "\r 80%|████████  | 12/15 [06:21<01:47, 35.95s/it]"
          ]
        },
        {
          "name": "stdout",
          "output_type": "stream",
          "text": [
            "Eval:  Avg_Loss: 0.14867   Acc: 4919/5004 (98.301%)\n",
            "Train Epoch: 13   Avg_Loss: 0.02824   Acc: 14978/15011 (99.780%)\n"
          ]
        },
        {
          "name": "stderr",
          "output_type": "stream",
          "text": [
            "\r 87%|████████▋ | 13/15 [07:00<01:13, 36.94s/it]"
          ]
        },
        {
          "name": "stdout",
          "output_type": "stream",
          "text": [
            "Eval:  Avg_Loss: 0.23140   Acc: 4912/5004 (98.161%)\n",
            "Train Epoch: 14   Avg_Loss: 0.00473   Acc: 14993/15011 (99.880%)\n"
          ]
        },
        {
          "name": "stderr",
          "output_type": "stream",
          "text": [
            "\r 93%|█████████▎| 14/15 [07:40<00:37, 37.89s/it]"
          ]
        },
        {
          "name": "stdout",
          "output_type": "stream",
          "text": [
            "Eval:  Avg_Loss: 0.21631   Acc: 4922/5004 (98.361%)\n",
            "Train Epoch: 15   Avg_Loss: 0.00038   Acc: 15009/15011 (99.987%)\n"
          ]
        },
        {
          "name": "stderr",
          "output_type": "stream",
          "text": [
            "100%|██████████| 15/15 [08:19<00:00, 33.32s/it]"
          ]
        },
        {
          "name": "stdout",
          "output_type": "stream",
          "text": [
            "Eval:  Avg_Loss: 0.25034   Acc: 4916/5004 (98.241%)\n",
            "\n",
            "\n",
            "\n",
            "Optimization ended.\n",
            "\n",
            "tensor([[1.0000e+00, 7.1565e-17],\n",
            "        [1.0000e+00, 4.9869e-36],\n",
            "        [3.3888e-19, 1.0000e+00],\n",
            "        [1.0000e+00, 1.6678e-22],\n",
            "        [5.8445e-12, 1.0000e+00],\n",
            "        [2.9069e-40, 1.0000e+00],\n",
            "        [0.0000e+00, 1.0000e+00],\n",
            "        [1.0000e+00, 0.0000e+00],\n",
            "        [1.0000e+00, 1.9879e-18],\n",
            "        [1.0000e+00, 0.0000e+00]], grad_fn=<SoftmaxBackward0>)\n",
            "Model predictions\n",
            "tensor([0, 0, 1, 0, 1, 1, 1, 0, 0, 0])\n",
            "Targets\n",
            "tensor([[1, 0],\n",
            "        [1, 0],\n",
            "        [0, 1],\n",
            "        [1, 0],\n",
            "        [0, 1],\n",
            "        [0, 1],\n",
            "        [0, 1],\n",
            "        [1, 0],\n",
            "        [1, 0],\n",
            "        [1, 0]])\n"
          ]
        },
        {
          "name": "stderr",
          "output_type": "stream",
          "text": [
            "\n"
          ]
        },
        {
          "name": "stdout",
          "output_type": "stream",
          "text": [
            "Eval:  Avg_Loss: 0.25034   Acc: 4916/5004 (98.241%)\n",
            "Eval:  Avg_Loss: 0.46736   Acc: 4892/5004 (97.762%)\n",
            "seed:  9564\n",
            "(15011, 2500) (5004, 2500) (15011,) (5004,)\n",
            "output tensor([[ 0.0631, -0.0429],\n",
            "        [ 0.0381, -0.0518],\n",
            "        [ 0.0476,  0.0221],\n",
            "        [ 0.0627, -0.1216],\n",
            "        [-0.0539,  0.0107]], grad_fn=<AddmmBackward0>)\n",
            "tensor([[0.5265, 0.4735],\n",
            "        [0.5225, 0.4775],\n",
            "        [0.5064, 0.4936],\n",
            "        [0.5459, 0.4541],\n",
            "        [0.4839, 0.5161]], grad_fn=<SoftmaxBackward0>)\n",
            "Model prediction\n",
            "tensor([0, 0, 0, 0, 1])\n",
            "Actual data\n",
            "tensor([[1, 0],\n",
            "        [1, 0],\n",
            "        [0, 1],\n",
            "        [1, 0],\n",
            "        [0, 1]])\n"
          ]
        },
        {
          "name": "stderr",
          "output_type": "stream",
          "text": [
            "\r  0%|          | 0/15 [00:00<?, ?it/s]"
          ]
        },
        {
          "name": "stdout",
          "output_type": "stream",
          "text": [
            "Train Epoch: 1   Avg_Loss: 0.09625   Acc: 14465/15011 (96.363%)\n"
          ]
        },
        {
          "name": "stderr",
          "output_type": "stream",
          "text": [
            "\r  7%|▋         | 1/15 [00:19<04:33, 19.56s/it]"
          ]
        },
        {
          "name": "stdout",
          "output_type": "stream",
          "text": [
            "Eval:  Avg_Loss: 0.06102   Acc: 4902/5004 (97.962%)\n",
            "Train Epoch: 2   Avg_Loss: 0.01633   Acc: 14928/15011 (99.447%)\n"
          ]
        },
        {
          "name": "stderr",
          "output_type": "stream",
          "text": [
            "\r 13%|█▎        | 2/15 [00:41<04:32, 20.94s/it]"
          ]
        },
        {
          "name": "stdout",
          "output_type": "stream",
          "text": [
            "Eval:  Avg_Loss: 0.09210   Acc: 4885/5004 (97.622%)\n",
            "Train Epoch: 3   Avg_Loss: 0.01065   Acc: 14962/15011 (99.674%)\n"
          ]
        },
        {
          "name": "stderr",
          "output_type": "stream",
          "text": [
            "\r 20%|██        | 3/15 [01:07<04:41, 23.45s/it]"
          ]
        },
        {
          "name": "stdout",
          "output_type": "stream",
          "text": [
            "Eval:  Avg_Loss: 0.09935   Acc: 4913/5004 (98.181%)\n",
            "Train Epoch: 4   Avg_Loss: 0.00855   Acc: 14967/15011 (99.707%)\n"
          ]
        },
        {
          "name": "stderr",
          "output_type": "stream",
          "text": [
            "\r 27%|██▋       | 4/15 [01:35<04:36, 25.10s/it]"
          ]
        },
        {
          "name": "stdout",
          "output_type": "stream",
          "text": [
            "Eval:  Avg_Loss: 0.15614   Acc: 4874/5004 (97.402%)\n",
            "Train Epoch: 5   Avg_Loss: 0.00759   Acc: 14980/15011 (99.793%)\n"
          ]
        },
        {
          "name": "stderr",
          "output_type": "stream",
          "text": [
            "\r 33%|███▎      | 5/15 [02:04<04:25, 26.51s/it]"
          ]
        },
        {
          "name": "stdout",
          "output_type": "stream",
          "text": [
            "Eval:  Avg_Loss: 0.13309   Acc: 4893/5004 (97.782%)\n",
            "Train Epoch: 6   Avg_Loss: 0.01351   Acc: 14970/15011 (99.727%)\n"
          ]
        },
        {
          "name": "stderr",
          "output_type": "stream",
          "text": [
            "\r 40%|████      | 6/15 [02:37<04:17, 28.59s/it]"
          ]
        },
        {
          "name": "stdout",
          "output_type": "stream",
          "text": [
            "Eval:  Avg_Loss: 0.15008   Acc: 4880/5004 (97.522%)\n",
            "Train Epoch: 7   Avg_Loss: 0.01195   Acc: 14979/15011 (99.787%)\n"
          ]
        },
        {
          "name": "stderr",
          "output_type": "stream",
          "text": [
            "\r 47%|████▋     | 7/15 [03:09<03:59, 29.90s/it]"
          ]
        },
        {
          "name": "stdout",
          "output_type": "stream",
          "text": [
            "Eval:  Avg_Loss: 0.28605   Acc: 4899/5004 (97.902%)\n",
            "Train Epoch: 8   Avg_Loss: 0.00799   Acc: 14982/15011 (99.807%)\n"
          ]
        },
        {
          "name": "stderr",
          "output_type": "stream",
          "text": [
            "\r 53%|█████▎    | 8/15 [03:50<03:53, 33.43s/it]"
          ]
        },
        {
          "name": "stdout",
          "output_type": "stream",
          "text": [
            "Eval:  Avg_Loss: 0.16563   Acc: 4901/5004 (97.942%)\n",
            "Train Epoch: 9   Avg_Loss: 0.00557   Acc: 14990/15011 (99.860%)\n"
          ]
        },
        {
          "name": "stderr",
          "output_type": "stream",
          "text": [
            "\r 60%|██████    | 9/15 [04:32<03:35, 35.98s/it]"
          ]
        },
        {
          "name": "stdout",
          "output_type": "stream",
          "text": [
            "Eval:  Avg_Loss: 0.14147   Acc: 4913/5004 (98.181%)\n",
            "Train Epoch: 10   Avg_Loss: 0.02475   Acc: 14976/15011 (99.767%)\n"
          ]
        },
        {
          "name": "stderr",
          "output_type": "stream",
          "text": [
            "\r 67%|██████▋   | 10/15 [05:12<03:06, 37.24s/it]"
          ]
        },
        {
          "name": "stdout",
          "output_type": "stream",
          "text": [
            "Eval:  Avg_Loss: 0.30695   Acc: 4887/5004 (97.662%)\n",
            "Train Epoch: 11   Avg_Loss: 0.02265   Acc: 14944/15011 (99.554%)\n"
          ]
        },
        {
          "name": "stderr",
          "output_type": "stream",
          "text": [
            "\r 73%|███████▎  | 11/15 [05:52<02:32, 38.06s/it]"
          ]
        },
        {
          "name": "stdout",
          "output_type": "stream",
          "text": [
            "Eval:  Avg_Loss: 0.21388   Acc: 4899/5004 (97.902%)\n",
            "Train Epoch: 12   Avg_Loss: 0.00953   Acc: 14990/15011 (99.860%)\n"
          ]
        },
        {
          "name": "stderr",
          "output_type": "stream",
          "text": [
            "\r 80%|████████  | 12/15 [06:33<01:57, 39.06s/it]"
          ]
        },
        {
          "name": "stdout",
          "output_type": "stream",
          "text": [
            "Eval:  Avg_Loss: 0.14941   Acc: 4900/5004 (97.922%)\n",
            "Train Epoch: 13   Avg_Loss: 0.01643   Acc: 14991/15011 (99.867%)\n"
          ]
        },
        {
          "name": "stderr",
          "output_type": "stream",
          "text": [
            "\r 87%|████████▋ | 13/15 [07:11<01:17, 38.78s/it]"
          ]
        },
        {
          "name": "stdout",
          "output_type": "stream",
          "text": [
            "Eval:  Avg_Loss: 0.42286   Acc: 4886/5004 (97.642%)\n",
            "Train Epoch: 14   Avg_Loss: 0.00890   Acc: 14995/15011 (99.893%)\n"
          ]
        },
        {
          "name": "stderr",
          "output_type": "stream",
          "text": [
            "\r 93%|█████████▎| 14/15 [07:54<00:39, 39.85s/it]"
          ]
        },
        {
          "name": "stdout",
          "output_type": "stream",
          "text": [
            "Eval:  Avg_Loss: 0.23541   Acc: 4919/5004 (98.301%)\n",
            "Train Epoch: 15   Avg_Loss: 0.00169   Acc: 15004/15011 (99.953%)\n"
          ]
        },
        {
          "name": "stderr",
          "output_type": "stream",
          "text": [
            "100%|██████████| 15/15 [08:36<00:00, 34.41s/it]"
          ]
        },
        {
          "name": "stdout",
          "output_type": "stream",
          "text": [
            "Eval:  Avg_Loss: 0.35664   Acc: 4908/5004 (98.082%)\n",
            "\n",
            "\n",
            "\n",
            "Optimization ended.\n",
            "\n",
            "tensor([[1.0000e+00, 2.1167e-28],\n",
            "        [1.0000e+00, 0.0000e+00],\n",
            "        [1.8712e-09, 1.0000e+00],\n",
            "        [1.0000e+00, 1.5852e-28],\n",
            "        [1.6629e-10, 1.0000e+00],\n",
            "        [3.2597e-28, 1.0000e+00],\n",
            "        [7.4764e-29, 1.0000e+00],\n",
            "        [1.0000e+00, 0.0000e+00],\n",
            "        [1.0000e+00, 5.7880e-36],\n",
            "        [1.0000e+00, 0.0000e+00]], grad_fn=<SoftmaxBackward0>)\n",
            "Model predictions\n",
            "tensor([0, 0, 1, 0, 1, 1, 1, 0, 0, 0])\n",
            "Targets\n",
            "tensor([[1, 0],\n",
            "        [1, 0],\n",
            "        [0, 1],\n",
            "        [1, 0],\n",
            "        [0, 1],\n",
            "        [0, 1],\n",
            "        [0, 1],\n",
            "        [1, 0],\n",
            "        [1, 0],\n",
            "        [1, 0]])\n"
          ]
        },
        {
          "name": "stderr",
          "output_type": "stream",
          "text": [
            "\n"
          ]
        },
        {
          "name": "stdout",
          "output_type": "stream",
          "text": [
            "Eval:  Avg_Loss: 0.35664   Acc: 4908/5004 (98.082%)\n",
            "Eval:  Avg_Loss: 0.50140   Acc: 4895/5004 (97.822%)\n",
            "seed:  5739\n",
            "(15011, 2500) (5004, 2500) (15011,) (5004,)\n",
            "output tensor([[ 0.0959, -0.0029],\n",
            "        [ 0.0895,  0.0740],\n",
            "        [-0.0369,  0.0807],\n",
            "        [ 0.0207, -0.0841],\n",
            "        [ 0.0662,  0.0269]], grad_fn=<AddmmBackward0>)\n",
            "tensor([[0.5247, 0.4753],\n",
            "        [0.5039, 0.4961],\n",
            "        [0.4706, 0.5294],\n",
            "        [0.5262, 0.4738],\n",
            "        [0.5098, 0.4902]], grad_fn=<SoftmaxBackward0>)\n",
            "Model prediction\n",
            "tensor([0, 0, 1, 0, 0])\n",
            "Actual data\n",
            "tensor([[1, 0],\n",
            "        [1, 0],\n",
            "        [0, 1],\n",
            "        [1, 0],\n",
            "        [0, 1]])\n"
          ]
        },
        {
          "name": "stderr",
          "output_type": "stream",
          "text": [
            "\r  0%|          | 0/15 [00:00<?, ?it/s]"
          ]
        },
        {
          "name": "stdout",
          "output_type": "stream",
          "text": [
            "Train Epoch: 1   Avg_Loss: 0.09638   Acc: 14505/15011 (96.629%)\n"
          ]
        },
        {
          "name": "stderr",
          "output_type": "stream",
          "text": [
            "\r  7%|▋         | 1/15 [00:20<04:47, 20.51s/it]"
          ]
        },
        {
          "name": "stdout",
          "output_type": "stream",
          "text": [
            "Eval:  Avg_Loss: 0.05276   Acc: 4917/5004 (98.261%)\n",
            "Train Epoch: 2   Avg_Loss: 0.02223   Acc: 14922/15011 (99.407%)\n"
          ]
        },
        {
          "name": "stderr",
          "output_type": "stream",
          "text": [
            "\r 13%|█▎        | 2/15 [00:43<04:46, 22.06s/it]"
          ]
        },
        {
          "name": "stdout",
          "output_type": "stream",
          "text": [
            "Eval:  Avg_Loss: 0.08996   Acc: 4882/5004 (97.562%)\n",
            "Train Epoch: 3   Avg_Loss: 0.01352   Acc: 14962/15011 (99.674%)\n"
          ]
        },
        {
          "name": "stderr",
          "output_type": "stream",
          "text": [
            "\r 20%|██        | 3/15 [01:10<04:50, 24.24s/it]"
          ]
        },
        {
          "name": "stdout",
          "output_type": "stream",
          "text": [
            "Eval:  Avg_Loss: 0.07560   Acc: 4900/5004 (97.922%)\n",
            "Train Epoch: 4   Avg_Loss: 0.01756   Acc: 14976/15011 (99.767%)\n"
          ]
        },
        {
          "name": "stderr",
          "output_type": "stream",
          "text": [
            "\r 27%|██▋       | 4/15 [01:39<04:49, 26.29s/it]"
          ]
        },
        {
          "name": "stdout",
          "output_type": "stream",
          "text": [
            "Eval:  Avg_Loss: 0.08732   Acc: 4906/5004 (98.042%)\n",
            "Train Epoch: 5   Avg_Loss: 0.00673   Acc: 14981/15011 (99.800%)\n"
          ]
        },
        {
          "name": "stderr",
          "output_type": "stream",
          "text": [
            "\r 33%|███▎      | 5/15 [02:09<04:35, 27.56s/it]"
          ]
        },
        {
          "name": "stdout",
          "output_type": "stream",
          "text": [
            "Eval:  Avg_Loss: 0.10962   Acc: 4914/5004 (98.201%)\n",
            "Train Epoch: 6   Avg_Loss: 0.00631   Acc: 14992/15011 (99.873%)\n"
          ]
        },
        {
          "name": "stderr",
          "output_type": "stream",
          "text": [
            "\r 40%|████      | 6/15 [02:46<04:35, 30.59s/it]"
          ]
        },
        {
          "name": "stdout",
          "output_type": "stream",
          "text": [
            "Eval:  Avg_Loss: 0.09086   Acc: 4928/5004 (98.481%)\n",
            "Train Epoch: 7   Avg_Loss: 0.00356   Acc: 14993/15011 (99.880%)\n"
          ]
        },
        {
          "name": "stderr",
          "output_type": "stream",
          "text": [
            "\r 47%|████▋     | 7/15 [03:22<04:18, 32.30s/it]"
          ]
        },
        {
          "name": "stdout",
          "output_type": "stream",
          "text": [
            "Eval:  Avg_Loss: 0.11512   Acc: 4910/5004 (98.122%)\n",
            "Train Epoch: 8   Avg_Loss: 0.00277   Acc: 14997/15011 (99.907%)\n"
          ]
        },
        {
          "name": "stderr",
          "output_type": "stream",
          "text": [
            "\r 53%|█████▎    | 8/15 [04:00<03:59, 34.15s/it]"
          ]
        },
        {
          "name": "stdout",
          "output_type": "stream",
          "text": [
            "Eval:  Avg_Loss: 0.11895   Acc: 4927/5004 (98.461%)\n",
            "Train Epoch: 9   Avg_Loss: 0.01025   Acc: 14982/15011 (99.807%)\n"
          ]
        },
        {
          "name": "stderr",
          "output_type": "stream",
          "text": [
            "\r 60%|██████    | 9/15 [04:38<03:31, 35.33s/it]"
          ]
        },
        {
          "name": "stdout",
          "output_type": "stream",
          "text": [
            "Eval:  Avg_Loss: 0.40503   Acc: 4886/5004 (97.642%)\n",
            "Train Epoch: 10   Avg_Loss: 0.02669   Acc: 14938/15011 (99.514%)\n"
          ]
        },
        {
          "name": "stderr",
          "output_type": "stream",
          "text": [
            "\r 67%|██████▋   | 10/15 [05:12<02:55, 35.09s/it]"
          ]
        },
        {
          "name": "stdout",
          "output_type": "stream",
          "text": [
            "Eval:  Avg_Loss: 0.20463   Acc: 4906/5004 (98.042%)\n",
            "Train Epoch: 11   Avg_Loss: 0.04391   Acc: 14950/15011 (99.594%)\n"
          ]
        },
        {
          "name": "stderr",
          "output_type": "stream",
          "text": [
            "\r 73%|███████▎  | 11/15 [05:50<02:23, 35.85s/it]"
          ]
        },
        {
          "name": "stdout",
          "output_type": "stream",
          "text": [
            "Eval:  Avg_Loss: 0.21288   Acc: 4920/5004 (98.321%)\n",
            "Train Epoch: 12   Avg_Loss: 0.00667   Acc: 14990/15011 (99.860%)\n"
          ]
        },
        {
          "name": "stderr",
          "output_type": "stream",
          "text": [
            "\r 80%|████████  | 12/15 [06:28<01:50, 36.72s/it]"
          ]
        },
        {
          "name": "stdout",
          "output_type": "stream",
          "text": [
            "Eval:  Avg_Loss: 0.18926   Acc: 4920/5004 (98.321%)\n",
            "Train Epoch: 13   Avg_Loss: 0.00755   Acc: 14990/15011 (99.860%)\n"
          ]
        },
        {
          "name": "stderr",
          "output_type": "stream",
          "text": [
            "\r 87%|████████▋ | 13/15 [07:08<01:15, 37.60s/it]"
          ]
        },
        {
          "name": "stdout",
          "output_type": "stream",
          "text": [
            "Eval:  Avg_Loss: 0.32657   Acc: 4917/5004 (98.261%)\n",
            "Train Epoch: 14   Avg_Loss: 0.05025   Acc: 14966/15011 (99.700%)\n"
          ]
        },
        {
          "name": "stderr",
          "output_type": "stream",
          "text": [
            "\r 93%|█████████▎| 14/15 [07:44<00:37, 37.24s/it]"
          ]
        },
        {
          "name": "stdout",
          "output_type": "stream",
          "text": [
            "Eval:  Avg_Loss: 0.47494   Acc: 4885/5004 (97.622%)\n",
            "Train Epoch: 15   Avg_Loss: 0.01240   Acc: 14986/15011 (99.833%)\n"
          ]
        },
        {
          "name": "stderr",
          "output_type": "stream",
          "text": [
            "100%|██████████| 15/15 [08:23<00:00, 33.57s/it]"
          ]
        },
        {
          "name": "stdout",
          "output_type": "stream",
          "text": [
            "Eval:  Avg_Loss: 0.21326   Acc: 4929/5004 (98.501%)\n",
            "\n",
            "\n",
            "\n",
            "Optimization ended.\n",
            "\n",
            "tensor([[1.0000e+00, 1.1971e-19],\n",
            "        [1.0000e+00, 0.0000e+00],\n",
            "        [8.8008e-35, 1.0000e+00],\n",
            "        [1.0000e+00, 4.1693e-20],\n",
            "        [4.3541e-32, 1.0000e+00],\n",
            "        [0.0000e+00, 1.0000e+00],\n",
            "        [6.4238e-28, 1.0000e+00],\n",
            "        [1.0000e+00, 0.0000e+00],\n",
            "        [1.0000e+00, 2.2891e-20],\n",
            "        [1.0000e+00, 0.0000e+00]], grad_fn=<SoftmaxBackward0>)\n",
            "Model predictions\n",
            "tensor([0, 0, 1, 0, 1, 1, 1, 0, 0, 0])\n",
            "Targets\n",
            "tensor([[1, 0],\n",
            "        [1, 0],\n",
            "        [0, 1],\n",
            "        [1, 0],\n",
            "        [0, 1],\n",
            "        [0, 1],\n",
            "        [0, 1],\n",
            "        [1, 0],\n",
            "        [1, 0],\n",
            "        [1, 0]])\n"
          ]
        },
        {
          "name": "stderr",
          "output_type": "stream",
          "text": [
            "\n"
          ]
        },
        {
          "name": "stdout",
          "output_type": "stream",
          "text": [
            "Eval:  Avg_Loss: 0.21326   Acc: 4929/5004 (98.501%)\n",
            "Eval:  Avg_Loss: 0.45441   Acc: 4895/5004 (97.822%)\n",
            "seed:  8412\n",
            "(15011, 2500) (5004, 2500) (15011,) (5004,)\n",
            "output tensor([[-0.0217,  0.0945],\n",
            "        [-0.0920,  0.1582],\n",
            "        [-0.0888,  0.0818],\n",
            "        [-0.0533, -0.0288],\n",
            "        [-0.0346,  0.0167]], grad_fn=<AddmmBackward0>)\n",
            "tensor([[0.4710, 0.5290],\n",
            "        [0.4378, 0.5622],\n",
            "        [0.4574, 0.5426],\n",
            "        [0.4939, 0.5061],\n",
            "        [0.4872, 0.5128]], grad_fn=<SoftmaxBackward0>)\n",
            "Model prediction\n",
            "tensor([1, 1, 1, 1, 1])\n",
            "Actual data\n",
            "tensor([[1, 0],\n",
            "        [1, 0],\n",
            "        [0, 1],\n",
            "        [1, 0],\n",
            "        [0, 1]])\n"
          ]
        },
        {
          "name": "stderr",
          "output_type": "stream",
          "text": [
            "\r  0%|          | 0/15 [00:00<?, ?it/s]"
          ]
        },
        {
          "name": "stdout",
          "output_type": "stream",
          "text": [
            "Train Epoch: 1   Avg_Loss: 0.09267   Acc: 14509/15011 (96.656%)\n"
          ]
        },
        {
          "name": "stderr",
          "output_type": "stream",
          "text": [
            "\r  7%|▋         | 1/15 [00:19<04:37, 19.82s/it]"
          ]
        },
        {
          "name": "stdout",
          "output_type": "stream",
          "text": [
            "Eval:  Avg_Loss: 0.05856   Acc: 4905/5004 (98.022%)\n",
            "Train Epoch: 2   Avg_Loss: 0.01899   Acc: 14915/15011 (99.360%)\n"
          ]
        },
        {
          "name": "stderr",
          "output_type": "stream",
          "text": [
            "\r 13%|█▎        | 2/15 [00:40<04:23, 20.27s/it]"
          ]
        },
        {
          "name": "stdout",
          "output_type": "stream",
          "text": [
            "Eval:  Avg_Loss: 0.06779   Acc: 4909/5004 (98.102%)\n",
            "Train Epoch: 3   Avg_Loss: 0.00774   Acc: 14979/15011 (99.787%)\n"
          ]
        },
        {
          "name": "stderr",
          "output_type": "stream",
          "text": [
            "\r 20%|██        | 3/15 [01:06<04:35, 22.92s/it]"
          ]
        },
        {
          "name": "stdout",
          "output_type": "stream",
          "text": [
            "Eval:  Avg_Loss: 0.14444   Acc: 4888/5004 (97.682%)\n",
            "Train Epoch: 4   Avg_Loss: 0.01763   Acc: 14940/15011 (99.527%)\n"
          ]
        },
        {
          "name": "stderr",
          "output_type": "stream",
          "text": [
            "\r 27%|██▋       | 4/15 [01:32<04:26, 24.22s/it]"
          ]
        },
        {
          "name": "stdout",
          "output_type": "stream",
          "text": [
            "Eval:  Avg_Loss: 0.11715   Acc: 4899/5004 (97.902%)\n",
            "Train Epoch: 5   Avg_Loss: 0.00999   Acc: 14970/15011 (99.727%)\n"
          ]
        },
        {
          "name": "stderr",
          "output_type": "stream",
          "text": [
            "\r 33%|███▎      | 5/15 [02:04<04:28, 26.89s/it]"
          ]
        },
        {
          "name": "stdout",
          "output_type": "stream",
          "text": [
            "Eval:  Avg_Loss: 0.13935   Acc: 4872/5004 (97.362%)\n",
            "Train Epoch: 6   Avg_Loss: 0.01445   Acc: 14950/15011 (99.594%)\n"
          ]
        },
        {
          "name": "stderr",
          "output_type": "stream",
          "text": [
            "\r 40%|████      | 6/15 [02:39<04:26, 29.60s/it]"
          ]
        },
        {
          "name": "stdout",
          "output_type": "stream",
          "text": [
            "Eval:  Avg_Loss: 0.13906   Acc: 4891/5004 (97.742%)\n",
            "Train Epoch: 7   Avg_Loss: 0.02501   Acc: 14964/15011 (99.687%)\n"
          ]
        },
        {
          "name": "stderr",
          "output_type": "stream",
          "text": [
            "\r 47%|████▋     | 7/15 [03:15<04:15, 31.90s/it]"
          ]
        },
        {
          "name": "stdout",
          "output_type": "stream",
          "text": [
            "Eval:  Avg_Loss: 0.13377   Acc: 4916/5004 (98.241%)\n",
            "Train Epoch: 8   Avg_Loss: 0.00294   Acc: 14989/15011 (99.853%)\n"
          ]
        },
        {
          "name": "stderr",
          "output_type": "stream",
          "text": [
            "\r 53%|█████▎    | 8/15 [03:53<03:55, 33.65s/it]"
          ]
        },
        {
          "name": "stdout",
          "output_type": "stream",
          "text": [
            "Eval:  Avg_Loss: 0.16454   Acc: 4913/5004 (98.181%)\n",
            "Train Epoch: 9   Avg_Loss: 0.00042   Acc: 15009/15011 (99.987%)\n"
          ]
        },
        {
          "name": "stderr",
          "output_type": "stream",
          "text": [
            "\r 60%|██████    | 9/15 [04:33<03:33, 35.63s/it]"
          ]
        },
        {
          "name": "stdout",
          "output_type": "stream",
          "text": [
            "Eval:  Avg_Loss: 0.18913   Acc: 4909/5004 (98.102%)\n",
            "Train Epoch: 10   Avg_Loss: 0.00001   Acc: 15011/15011 (100.000%)\n"
          ]
        },
        {
          "name": "stderr",
          "output_type": "stream",
          "text": [
            "\r 67%|██████▋   | 10/15 [05:15<03:08, 37.64s/it]"
          ]
        },
        {
          "name": "stdout",
          "output_type": "stream",
          "text": [
            "Eval:  Avg_Loss: 0.20156   Acc: 4910/5004 (98.122%)\n",
            "Train Epoch: 11   Avg_Loss: 0.00000   Acc: 15011/15011 (100.000%)\n"
          ]
        },
        {
          "name": "stderr",
          "output_type": "stream",
          "text": [
            "\r 73%|███████▎  | 11/15 [05:58<02:36, 39.24s/it]"
          ]
        },
        {
          "name": "stdout",
          "output_type": "stream",
          "text": [
            "Eval:  Avg_Loss: 0.20729   Acc: 4911/5004 (98.141%)\n",
            "Train Epoch: 12   Avg_Loss: 0.00000   Acc: 15011/15011 (100.000%)\n"
          ]
        },
        {
          "name": "stderr",
          "output_type": "stream",
          "text": [
            "\r 80%|████████  | 12/15 [06:41<02:01, 40.47s/it]"
          ]
        },
        {
          "name": "stdout",
          "output_type": "stream",
          "text": [
            "Eval:  Avg_Loss: 0.21240   Acc: 4910/5004 (98.122%)\n",
            "Train Epoch: 13   Avg_Loss: 0.00000   Acc: 15011/15011 (100.000%)\n"
          ]
        },
        {
          "name": "stderr",
          "output_type": "stream",
          "text": [
            "\r 87%|████████▋ | 13/15 [07:26<01:23, 41.73s/it]"
          ]
        },
        {
          "name": "stdout",
          "output_type": "stream",
          "text": [
            "Eval:  Avg_Loss: 0.21734   Acc: 4910/5004 (98.122%)\n",
            "Train Epoch: 14   Avg_Loss: 0.00000   Acc: 15011/15011 (100.000%)\n"
          ]
        },
        {
          "name": "stderr",
          "output_type": "stream",
          "text": [
            "\r 93%|█████████▎| 14/15 [08:09<00:42, 42.16s/it]"
          ]
        },
        {
          "name": "stdout",
          "output_type": "stream",
          "text": [
            "Eval:  Avg_Loss: 0.22254   Acc: 4911/5004 (98.141%)\n",
            "Train Epoch: 15   Avg_Loss: 0.00000   Acc: 15011/15011 (100.000%)\n"
          ]
        },
        {
          "name": "stderr",
          "output_type": "stream",
          "text": [
            "100%|██████████| 15/15 [08:54<00:00, 35.61s/it]"
          ]
        },
        {
          "name": "stdout",
          "output_type": "stream",
          "text": [
            "Eval:  Avg_Loss: 0.23204   Acc: 4913/5004 (98.181%)\n",
            "\n",
            "\n",
            "\n",
            "Optimization ended.\n",
            "\n",
            "tensor([[1.0000e+00, 1.2312e-14],\n",
            "        [1.0000e+00, 2.7727e-41],\n",
            "        [4.3910e-17, 1.0000e+00],\n",
            "        [1.0000e+00, 2.7057e-16],\n",
            "        [1.5233e-10, 1.0000e+00],\n",
            "        [5.7612e-23, 1.0000e+00],\n",
            "        [8.3846e-22, 1.0000e+00],\n",
            "        [1.0000e+00, 0.0000e+00],\n",
            "        [1.0000e+00, 3.5271e-08],\n",
            "        [1.0000e+00, 0.0000e+00]], grad_fn=<SoftmaxBackward0>)\n",
            "Model predictions\n",
            "tensor([0, 0, 1, 0, 1, 1, 1, 0, 0, 0])\n",
            "Targets\n",
            "tensor([[1, 0],\n",
            "        [1, 0],\n",
            "        [0, 1],\n",
            "        [1, 0],\n",
            "        [0, 1],\n",
            "        [0, 1],\n",
            "        [0, 1],\n",
            "        [1, 0],\n",
            "        [1, 0],\n",
            "        [1, 0]])\n"
          ]
        },
        {
          "name": "stderr",
          "output_type": "stream",
          "text": [
            "\n"
          ]
        },
        {
          "name": "stdout",
          "output_type": "stream",
          "text": [
            "Eval:  Avg_Loss: 0.23204   Acc: 4913/5004 (98.181%)\n",
            "Eval:  Avg_Loss: 0.31655   Acc: 4902/5004 (97.962%)\n",
            "seed:  5891\n",
            "(15011, 2500) (5004, 2500) (15011,) (5004,)\n",
            "output tensor([[-0.0014, -0.0069],\n",
            "        [-0.0378,  0.0068],\n",
            "        [ 0.0414, -0.0160],\n",
            "        [-0.0273, -0.0162],\n",
            "        [ 0.0566, -0.0652]], grad_fn=<AddmmBackward0>)\n",
            "tensor([[0.5014, 0.4986],\n",
            "        [0.4889, 0.5111],\n",
            "        [0.5144, 0.4856],\n",
            "        [0.4972, 0.5028],\n",
            "        [0.5304, 0.4696]], grad_fn=<SoftmaxBackward0>)\n",
            "Model prediction\n",
            "tensor([0, 1, 0, 1, 0])\n",
            "Actual data\n",
            "tensor([[1, 0],\n",
            "        [1, 0],\n",
            "        [0, 1],\n",
            "        [1, 0],\n",
            "        [0, 1]])\n"
          ]
        },
        {
          "name": "stderr",
          "output_type": "stream",
          "text": [
            "\r  0%|          | 0/15 [00:00<?, ?it/s]"
          ]
        },
        {
          "name": "stdout",
          "output_type": "stream",
          "text": [
            "Train Epoch: 1   Avg_Loss: 0.09659   Acc: 14493/15011 (96.549%)\n"
          ]
        },
        {
          "name": "stderr",
          "output_type": "stream",
          "text": [
            "\r  7%|▋         | 1/15 [00:19<04:32, 19.47s/it]"
          ]
        },
        {
          "name": "stdout",
          "output_type": "stream",
          "text": [
            "Eval:  Avg_Loss: 0.05151   Acc: 4915/5004 (98.221%)\n",
            "Train Epoch: 2   Avg_Loss: 0.01763   Acc: 14939/15011 (99.520%)\n"
          ]
        },
        {
          "name": "stderr",
          "output_type": "stream",
          "text": [
            "\r 13%|█▎        | 2/15 [00:44<04:54, 22.67s/it]"
          ]
        },
        {
          "name": "stdout",
          "output_type": "stream",
          "text": [
            "Eval:  Avg_Loss: 0.08875   Acc: 4889/5004 (97.702%)\n",
            "Train Epoch: 3   Avg_Loss: 0.00635   Acc: 14979/15011 (99.787%)\n"
          ]
        },
        {
          "name": "stderr",
          "output_type": "stream",
          "text": [
            "\r 20%|██        | 3/15 [01:14<05:10, 25.91s/it]"
          ]
        },
        {
          "name": "stdout",
          "output_type": "stream",
          "text": [
            "Eval:  Avg_Loss: 0.07039   Acc: 4917/5004 (98.261%)\n",
            "Train Epoch: 4   Avg_Loss: 0.00812   Acc: 14979/15011 (99.787%)\n"
          ]
        },
        {
          "name": "stderr",
          "output_type": "stream",
          "text": [
            "\r 27%|██▋       | 4/15 [01:42<04:55, 26.83s/it]"
          ]
        },
        {
          "name": "stdout",
          "output_type": "stream",
          "text": [
            "Eval:  Avg_Loss: 0.07913   Acc: 4902/5004 (97.962%)\n",
            "Train Epoch: 5   Avg_Loss: 0.01019   Acc: 14967/15011 (99.707%)\n"
          ]
        },
        {
          "name": "stderr",
          "output_type": "stream",
          "text": [
            "\r 33%|███▎      | 5/15 [02:09<04:29, 26.92s/it]"
          ]
        },
        {
          "name": "stdout",
          "output_type": "stream",
          "text": [
            "Eval:  Avg_Loss: 0.09571   Acc: 4907/5004 (98.062%)\n",
            "Train Epoch: 6   Avg_Loss: 0.03547   Acc: 14926/15011 (99.434%)\n"
          ]
        },
        {
          "name": "stderr",
          "output_type": "stream",
          "text": [
            "\r 40%|████      | 6/15 [02:45<04:30, 30.05s/it]"
          ]
        },
        {
          "name": "stdout",
          "output_type": "stream",
          "text": [
            "Eval:  Avg_Loss: 0.08784   Acc: 4892/5004 (97.762%)\n",
            "Train Epoch: 7   Avg_Loss: 0.00662   Acc: 14982/15011 (99.807%)\n"
          ]
        },
        {
          "name": "stderr",
          "output_type": "stream",
          "text": [
            "\r 47%|████▋     | 7/15 [03:17<04:05, 30.74s/it]"
          ]
        },
        {
          "name": "stdout",
          "output_type": "stream",
          "text": [
            "Eval:  Avg_Loss: 0.09697   Acc: 4912/5004 (98.161%)\n",
            "Train Epoch: 8   Avg_Loss: 0.00183   Acc: 15002/15011 (99.940%)\n"
          ]
        },
        {
          "name": "stderr",
          "output_type": "stream",
          "text": [
            "\r 53%|█████▎    | 8/15 [03:54<03:48, 32.67s/it]"
          ]
        },
        {
          "name": "stdout",
          "output_type": "stream",
          "text": [
            "Eval:  Avg_Loss: 0.14319   Acc: 4910/5004 (98.122%)\n",
            "Train Epoch: 9   Avg_Loss: 0.00012   Acc: 15011/15011 (100.000%)\n"
          ]
        },
        {
          "name": "stderr",
          "output_type": "stream",
          "text": [
            "\r 60%|██████    | 9/15 [04:34<03:29, 34.94s/it]"
          ]
        },
        {
          "name": "stdout",
          "output_type": "stream",
          "text": [
            "Eval:  Avg_Loss: 0.16303   Acc: 4907/5004 (98.062%)\n",
            "Train Epoch: 10   Avg_Loss: 0.00000   Acc: 15011/15011 (100.000%)\n"
          ]
        },
        {
          "name": "stderr",
          "output_type": "stream",
          "text": [
            "\r 67%|██████▋   | 10/15 [05:17<03:06, 37.39s/it]"
          ]
        },
        {
          "name": "stdout",
          "output_type": "stream",
          "text": [
            "Eval:  Avg_Loss: 0.16091   Acc: 4909/5004 (98.102%)\n",
            "Train Epoch: 11   Avg_Loss: 0.00000   Acc: 15011/15011 (100.000%)\n"
          ]
        },
        {
          "name": "stderr",
          "output_type": "stream",
          "text": [
            "\r 73%|███████▎  | 11/15 [06:00<02:36, 39.11s/it]"
          ]
        },
        {
          "name": "stdout",
          "output_type": "stream",
          "text": [
            "Eval:  Avg_Loss: 0.16145   Acc: 4908/5004 (98.082%)\n",
            "Train Epoch: 12   Avg_Loss: 0.00000   Acc: 15011/15011 (100.000%)\n"
          ]
        },
        {
          "name": "stderr",
          "output_type": "stream",
          "text": [
            "\r 80%|████████  | 12/15 [06:43<02:01, 40.41s/it]"
          ]
        },
        {
          "name": "stdout",
          "output_type": "stream",
          "text": [
            "Eval:  Avg_Loss: 0.16218   Acc: 4907/5004 (98.062%)\n",
            "Train Epoch: 13   Avg_Loss: 0.00000   Acc: 15011/15011 (100.000%)\n"
          ]
        },
        {
          "name": "stderr",
          "output_type": "stream",
          "text": [
            "\r 87%|████████▋ | 13/15 [07:28<01:23, 41.71s/it]"
          ]
        },
        {
          "name": "stdout",
          "output_type": "stream",
          "text": [
            "Eval:  Avg_Loss: 0.16318   Acc: 4907/5004 (98.062%)\n",
            "Train Epoch: 14   Avg_Loss: 0.00000   Acc: 15011/15011 (100.000%)\n"
          ]
        },
        {
          "name": "stderr",
          "output_type": "stream",
          "text": [
            "\r 93%|█████████▎| 14/15 [08:12<00:42, 42.36s/it]"
          ]
        },
        {
          "name": "stdout",
          "output_type": "stream",
          "text": [
            "Eval:  Avg_Loss: 0.16434   Acc: 4907/5004 (98.062%)\n",
            "Train Epoch: 15   Avg_Loss: 0.00000   Acc: 15011/15011 (100.000%)\n"
          ]
        },
        {
          "name": "stderr",
          "output_type": "stream",
          "text": [
            "100%|██████████| 15/15 [08:56<00:00, 35.77s/it]"
          ]
        },
        {
          "name": "stdout",
          "output_type": "stream",
          "text": [
            "Eval:  Avg_Loss: 0.16559   Acc: 4907/5004 (98.062%)\n",
            "\n",
            "\n",
            "\n",
            "Optimization ended.\n",
            "\n",
            "tensor([[1.0000e+00, 6.5868e-13],\n",
            "        [1.0000e+00, 1.7182e-22],\n",
            "        [2.9783e-12, 1.0000e+00],\n",
            "        [1.0000e+00, 1.5056e-17],\n",
            "        [6.5716e-19, 1.0000e+00],\n",
            "        [1.3437e-22, 1.0000e+00],\n",
            "        [4.1161e-25, 1.0000e+00],\n",
            "        [1.0000e+00, 0.0000e+00],\n",
            "        [1.0000e+00, 9.7000e-20],\n",
            "        [1.0000e+00, 7.0065e-44]], grad_fn=<SoftmaxBackward0>)\n",
            "Model predictions\n",
            "tensor([0, 0, 1, 0, 1, 1, 1, 0, 0, 0])\n",
            "Targets\n",
            "tensor([[1, 0],\n",
            "        [1, 0],\n",
            "        [0, 1],\n",
            "        [1, 0],\n",
            "        [0, 1],\n",
            "        [0, 1],\n",
            "        [0, 1],\n",
            "        [1, 0],\n",
            "        [1, 0],\n",
            "        [1, 0]])\n"
          ]
        },
        {
          "name": "stderr",
          "output_type": "stream",
          "text": [
            "\n"
          ]
        },
        {
          "name": "stdout",
          "output_type": "stream",
          "text": [
            "Eval:  Avg_Loss: 0.16559   Acc: 4907/5004 (98.062%)\n",
            "Eval:  Avg_Loss: 0.25129   Acc: 4916/5004 (98.241%)\n",
            "seed:  521\n",
            "(15011, 2500) (5004, 2500) (15011,) (5004,)\n",
            "output tensor([[ 0.0751,  0.0310],\n",
            "        [ 0.1375,  0.1006],\n",
            "        [ 0.0837,  0.0105],\n",
            "        [ 0.0749,  0.0684],\n",
            "        [ 0.0605, -0.0119]], grad_fn=<AddmmBackward0>)\n",
            "tensor([[0.5110, 0.4890],\n",
            "        [0.5092, 0.4908],\n",
            "        [0.5183, 0.4817],\n",
            "        [0.5016, 0.4984],\n",
            "        [0.5181, 0.4819]], grad_fn=<SoftmaxBackward0>)\n",
            "Model prediction\n",
            "tensor([0, 0, 0, 0, 0])\n",
            "Actual data\n",
            "tensor([[1, 0],\n",
            "        [1, 0],\n",
            "        [0, 1],\n",
            "        [1, 0],\n",
            "        [0, 1]])\n"
          ]
        },
        {
          "name": "stderr",
          "output_type": "stream",
          "text": [
            "\r  0%|          | 0/15 [00:00<?, ?it/s]"
          ]
        },
        {
          "name": "stdout",
          "output_type": "stream",
          "text": [
            "Train Epoch: 1   Avg_Loss: 0.09862   Acc: 14469/15011 (96.389%)\n"
          ]
        },
        {
          "name": "stderr",
          "output_type": "stream",
          "text": [
            "\r  7%|▋         | 1/15 [00:19<04:34, 19.64s/it]"
          ]
        },
        {
          "name": "stdout",
          "output_type": "stream",
          "text": [
            "Eval:  Avg_Loss: 0.04955   Acc: 4903/5004 (97.982%)\n",
            "Train Epoch: 2   Avg_Loss: 0.01560   Acc: 14943/15011 (99.547%)\n"
          ]
        },
        {
          "name": "stderr",
          "output_type": "stream",
          "text": [
            "\r 13%|█▎        | 2/15 [00:41<04:32, 20.97s/it]"
          ]
        },
        {
          "name": "stdout",
          "output_type": "stream",
          "text": [
            "Eval:  Avg_Loss: 0.06720   Acc: 4902/5004 (97.962%)\n",
            "Train Epoch: 3   Avg_Loss: 0.02328   Acc: 14912/15011 (99.340%)\n"
          ]
        },
        {
          "name": "stderr",
          "output_type": "stream",
          "text": [
            "\r 20%|██        | 3/15 [01:07<04:37, 23.10s/it]"
          ]
        },
        {
          "name": "stdout",
          "output_type": "stream",
          "text": [
            "Eval:  Avg_Loss: 0.09307   Acc: 4902/5004 (97.962%)\n",
            "Train Epoch: 4   Avg_Loss: 0.00581   Acc: 14982/15011 (99.807%)\n"
          ]
        },
        {
          "name": "stderr",
          "output_type": "stream",
          "text": [
            "\r 27%|██▋       | 4/15 [01:36<04:41, 25.58s/it]"
          ]
        },
        {
          "name": "stdout",
          "output_type": "stream",
          "text": [
            "Eval:  Avg_Loss: 0.08931   Acc: 4904/5004 (98.002%)\n",
            "Train Epoch: 5   Avg_Loss: 0.00130   Acc: 15002/15011 (99.940%)\n"
          ]
        },
        {
          "name": "stderr",
          "output_type": "stream",
          "text": [
            "\r 33%|███▎      | 5/15 [02:06<04:30, 27.08s/it]"
          ]
        },
        {
          "name": "stdout",
          "output_type": "stream",
          "text": [
            "Eval:  Avg_Loss: 0.10506   Acc: 4912/5004 (98.161%)\n",
            "Train Epoch: 6   Avg_Loss: 0.00009   Acc: 15011/15011 (100.000%)\n"
          ]
        },
        {
          "name": "stderr",
          "output_type": "stream",
          "text": [
            "\r 40%|████      | 6/15 [02:35<04:11, 27.93s/it]"
          ]
        },
        {
          "name": "stdout",
          "output_type": "stream",
          "text": [
            "Eval:  Avg_Loss: 0.11408   Acc: 4913/5004 (98.181%)\n",
            "Train Epoch: 7   Avg_Loss: 0.00001   Acc: 15011/15011 (100.000%)\n"
          ]
        },
        {
          "name": "stderr",
          "output_type": "stream",
          "text": [
            "\r 47%|████▋     | 7/15 [03:05<03:48, 28.51s/it]"
          ]
        },
        {
          "name": "stdout",
          "output_type": "stream",
          "text": [
            "Eval:  Avg_Loss: 0.11659   Acc: 4913/5004 (98.181%)\n",
            "Train Epoch: 8   Avg_Loss: 0.00000   Acc: 15011/15011 (100.000%)\n"
          ]
        },
        {
          "name": "stderr",
          "output_type": "stream",
          "text": [
            "\r 53%|█████▎    | 8/15 [03:35<03:22, 28.99s/it]"
          ]
        },
        {
          "name": "stdout",
          "output_type": "stream",
          "text": [
            "Eval:  Avg_Loss: 0.12408   Acc: 4913/5004 (98.181%)\n",
            "Train Epoch: 9   Avg_Loss: 0.00000   Acc: 15011/15011 (100.000%)\n"
          ]
        },
        {
          "name": "stderr",
          "output_type": "stream",
          "text": [
            "\r 60%|██████    | 9/15 [04:08<03:01, 30.33s/it]"
          ]
        },
        {
          "name": "stdout",
          "output_type": "stream",
          "text": [
            "Eval:  Avg_Loss: 0.14736   Acc: 4914/5004 (98.201%)\n",
            "Train Epoch: 10   Avg_Loss: 0.00000   Acc: 15011/15011 (100.000%)\n"
          ]
        },
        {
          "name": "stderr",
          "output_type": "stream",
          "text": [
            "\r 67%|██████▋   | 10/15 [04:46<02:42, 32.54s/it]"
          ]
        },
        {
          "name": "stdout",
          "output_type": "stream",
          "text": [
            "Eval:  Avg_Loss: 0.16055   Acc: 4909/5004 (98.102%)\n",
            "Train Epoch: 11   Avg_Loss: 0.00000   Acc: 15011/15011 (100.000%)\n"
          ]
        },
        {
          "name": "stderr",
          "output_type": "stream",
          "text": [
            "\r 73%|███████▎  | 11/15 [05:27<02:21, 35.30s/it]"
          ]
        },
        {
          "name": "stdout",
          "output_type": "stream",
          "text": [
            "Eval:  Avg_Loss: 0.17321   Acc: 4911/5004 (98.141%)\n",
            "Train Epoch: 12   Avg_Loss: 0.00000   Acc: 15011/15011 (100.000%)\n"
          ]
        },
        {
          "name": "stderr",
          "output_type": "stream",
          "text": [
            "\r 80%|████████  | 12/15 [06:12<01:54, 38.27s/it]"
          ]
        },
        {
          "name": "stdout",
          "output_type": "stream",
          "text": [
            "Eval:  Avg_Loss: 0.18417   Acc: 4911/5004 (98.141%)\n",
            "Train Epoch: 13   Avg_Loss: 0.00000   Acc: 15011/15011 (100.000%)\n"
          ]
        },
        {
          "name": "stderr",
          "output_type": "stream",
          "text": [
            "\r 87%|████████▋ | 13/15 [06:58<01:20, 40.42s/it]"
          ]
        },
        {
          "name": "stdout",
          "output_type": "stream",
          "text": [
            "Eval:  Avg_Loss: 0.19234   Acc: 4909/5004 (98.102%)\n",
            "Train Epoch: 14   Avg_Loss: 0.00000   Acc: 15011/15011 (100.000%)\n"
          ]
        },
        {
          "name": "stderr",
          "output_type": "stream",
          "text": [
            "\r 93%|█████████▎| 14/15 [07:44<00:42, 42.02s/it]"
          ]
        },
        {
          "name": "stdout",
          "output_type": "stream",
          "text": [
            "Eval:  Avg_Loss: 0.19923   Acc: 4906/5004 (98.042%)\n",
            "Train Epoch: 15   Avg_Loss: 0.00000   Acc: 15011/15011 (100.000%)\n"
          ]
        },
        {
          "name": "stderr",
          "output_type": "stream",
          "text": [
            "100%|██████████| 15/15 [08:31<00:00, 34.09s/it]"
          ]
        },
        {
          "name": "stdout",
          "output_type": "stream",
          "text": [
            "Eval:  Avg_Loss: 0.20607   Acc: 4907/5004 (98.062%)\n",
            "\n",
            "\n",
            "\n",
            "Optimization ended.\n",
            "\n",
            "tensor([[1.0000e+00, 1.0451e-07],\n",
            "        [1.0000e+00, 6.0304e-23],\n",
            "        [5.2073e-12, 1.0000e+00],\n",
            "        [1.0000e+00, 1.0962e-16],\n",
            "        [6.7733e-10, 1.0000e+00],\n",
            "        [5.7828e-30, 1.0000e+00],\n",
            "        [1.1255e-22, 1.0000e+00],\n",
            "        [1.0000e+00, 0.0000e+00],\n",
            "        [1.0000e+00, 4.6621e-14],\n",
            "        [1.0000e+00, 4.4557e-30]], grad_fn=<SoftmaxBackward0>)\n",
            "Model predictions\n",
            "tensor([0, 0, 1, 0, 1, 1, 1, 0, 0, 0])\n",
            "Targets\n",
            "tensor([[1, 0],\n",
            "        [1, 0],\n",
            "        [0, 1],\n",
            "        [1, 0],\n",
            "        [0, 1],\n",
            "        [0, 1],\n",
            "        [0, 1],\n",
            "        [1, 0],\n",
            "        [1, 0],\n",
            "        [1, 0]])\n"
          ]
        },
        {
          "name": "stderr",
          "output_type": "stream",
          "text": [
            "\n"
          ]
        },
        {
          "name": "stdout",
          "output_type": "stream",
          "text": [
            "Eval:  Avg_Loss: 0.20607   Acc: 4907/5004 (98.062%)\n",
            "Eval:  Avg_Loss: 0.30069   Acc: 4911/5004 (98.141%)\n",
            "seed:  1791\n",
            "(15011, 2500) (5004, 2500) (15011,) (5004,)\n",
            "output tensor([[-0.1317,  0.0340],\n",
            "        [-0.0920,  0.1375],\n",
            "        [-0.1751, -0.0002],\n",
            "        [-0.1447,  0.0300],\n",
            "        [-0.1434, -0.0024]], grad_fn=<AddmmBackward0>)\n",
            "tensor([[0.4587, 0.5413],\n",
            "        [0.4429, 0.5571],\n",
            "        [0.4564, 0.5436],\n",
            "        [0.4564, 0.5436],\n",
            "        [0.4648, 0.5352]], grad_fn=<SoftmaxBackward0>)\n",
            "Model prediction\n",
            "tensor([1, 1, 1, 1, 1])\n",
            "Actual data\n",
            "tensor([[1, 0],\n",
            "        [1, 0],\n",
            "        [0, 1],\n",
            "        [1, 0],\n",
            "        [0, 1]])\n"
          ]
        },
        {
          "name": "stderr",
          "output_type": "stream",
          "text": [
            "\r  0%|          | 0/15 [00:00<?, ?it/s]"
          ]
        },
        {
          "name": "stdout",
          "output_type": "stream",
          "text": [
            "Train Epoch: 1   Avg_Loss: 0.09126   Acc: 14499/15011 (96.589%)\n"
          ]
        },
        {
          "name": "stderr",
          "output_type": "stream",
          "text": [
            "\r  7%|▋         | 1/15 [00:19<04:26, 19.04s/it]"
          ]
        },
        {
          "name": "stdout",
          "output_type": "stream",
          "text": [
            "Eval:  Avg_Loss: 0.06245   Acc: 4892/5004 (97.762%)\n",
            "Train Epoch: 2   Avg_Loss: 0.01816   Acc: 14935/15011 (99.494%)\n"
          ]
        },
        {
          "name": "stderr",
          "output_type": "stream",
          "text": [
            "\r 13%|█▎        | 2/15 [00:44<04:59, 23.01s/it]"
          ]
        },
        {
          "name": "stdout",
          "output_type": "stream",
          "text": [
            "Eval:  Avg_Loss: 0.07946   Acc: 4898/5004 (97.882%)\n",
            "Train Epoch: 3   Avg_Loss: 0.00907   Acc: 14970/15011 (99.727%)\n"
          ]
        },
        {
          "name": "stderr",
          "output_type": "stream",
          "text": [
            "\r 20%|██        | 3/15 [01:12<05:03, 25.29s/it]"
          ]
        },
        {
          "name": "stdout",
          "output_type": "stream",
          "text": [
            "Eval:  Avg_Loss: 0.13241   Acc: 4891/5004 (97.742%)\n",
            "Train Epoch: 4   Avg_Loss: 0.00659   Acc: 14980/15011 (99.793%)\n"
          ]
        },
        {
          "name": "stderr",
          "output_type": "stream",
          "text": [
            "\r 27%|██▋       | 4/15 [01:42<04:57, 27.04s/it]"
          ]
        },
        {
          "name": "stdout",
          "output_type": "stream",
          "text": [
            "Eval:  Avg_Loss: 0.12339   Acc: 4900/5004 (97.922%)\n",
            "Train Epoch: 5   Avg_Loss: 0.00794   Acc: 14970/15011 (99.727%)\n"
          ]
        },
        {
          "name": "stderr",
          "output_type": "stream",
          "text": [
            "\r 33%|███▎      | 5/15 [02:13<04:43, 28.39s/it]"
          ]
        },
        {
          "name": "stdout",
          "output_type": "stream",
          "text": [
            "Eval:  Avg_Loss: 0.10479   Acc: 4906/5004 (98.042%)\n",
            "Train Epoch: 6   Avg_Loss: 0.01215   Acc: 14971/15011 (99.734%)\n"
          ]
        },
        {
          "name": "stderr",
          "output_type": "stream",
          "text": [
            "\r 40%|████      | 6/15 [02:46<04:30, 30.08s/it]"
          ]
        },
        {
          "name": "stdout",
          "output_type": "stream",
          "text": [
            "Eval:  Avg_Loss: 0.15756   Acc: 4889/5004 (97.702%)\n",
            "Train Epoch: 7   Avg_Loss: 0.01046   Acc: 14967/15011 (99.707%)\n"
          ]
        },
        {
          "name": "stderr",
          "output_type": "stream",
          "text": [
            "\r 47%|████▋     | 7/15 [03:22<04:16, 32.06s/it]"
          ]
        },
        {
          "name": "stdout",
          "output_type": "stream",
          "text": [
            "Eval:  Avg_Loss: 0.10420   Acc: 4905/5004 (98.022%)\n",
            "Train Epoch: 8   Avg_Loss: 0.00682   Acc: 14992/15011 (99.873%)\n"
          ]
        },
        {
          "name": "stderr",
          "output_type": "stream",
          "text": [
            "\r 53%|█████▎    | 8/15 [04:00<03:57, 33.88s/it]"
          ]
        },
        {
          "name": "stdout",
          "output_type": "stream",
          "text": [
            "Eval:  Avg_Loss: 0.24804   Acc: 4896/5004 (97.842%)\n",
            "Train Epoch: 9   Avg_Loss: 0.01689   Acc: 14969/15011 (99.720%)\n"
          ]
        },
        {
          "name": "stderr",
          "output_type": "stream",
          "text": [
            "\r 60%|██████    | 9/15 [04:38<03:31, 35.20s/it]"
          ]
        },
        {
          "name": "stdout",
          "output_type": "stream",
          "text": [
            "Eval:  Avg_Loss: 0.21063   Acc: 4895/5004 (97.822%)\n",
            "Train Epoch: 10   Avg_Loss: 0.00191   Acc: 15005/15011 (99.960%)\n"
          ]
        },
        {
          "name": "stderr",
          "output_type": "stream",
          "text": [
            "\r 67%|██████▋   | 10/15 [05:17<03:01, 36.24s/it]"
          ]
        },
        {
          "name": "stdout",
          "output_type": "stream",
          "text": [
            "Eval:  Avg_Loss: 0.20139   Acc: 4907/5004 (98.062%)\n",
            "Train Epoch: 11   Avg_Loss: 0.00103   Acc: 15005/15011 (99.960%)\n"
          ]
        },
        {
          "name": "stderr",
          "output_type": "stream",
          "text": [
            "\r 73%|███████▎  | 11/15 [05:57<02:29, 37.39s/it]"
          ]
        },
        {
          "name": "stdout",
          "output_type": "stream",
          "text": [
            "Eval:  Avg_Loss: 0.23011   Acc: 4912/5004 (98.161%)\n",
            "Train Epoch: 12   Avg_Loss: 0.00003   Acc: 15011/15011 (100.000%)\n"
          ]
        },
        {
          "name": "stderr",
          "output_type": "stream",
          "text": [
            "\r 80%|████████  | 12/15 [06:39<01:56, 38.84s/it]"
          ]
        },
        {
          "name": "stdout",
          "output_type": "stream",
          "text": [
            "Eval:  Avg_Loss: 0.24493   Acc: 4914/5004 (98.201%)\n",
            "Train Epoch: 13   Avg_Loss: 0.00000   Acc: 15011/15011 (100.000%)\n"
          ]
        },
        {
          "name": "stderr",
          "output_type": "stream",
          "text": [
            "\r 87%|████████▋ | 13/15 [07:22<01:20, 40.16s/it]"
          ]
        },
        {
          "name": "stdout",
          "output_type": "stream",
          "text": [
            "Eval:  Avg_Loss: 0.25092   Acc: 4914/5004 (98.201%)\n",
            "Train Epoch: 14   Avg_Loss: 0.00000   Acc: 15011/15011 (100.000%)\n"
          ]
        },
        {
          "name": "stderr",
          "output_type": "stream",
          "text": [
            "\r 93%|█████████▎| 14/15 [08:07<00:41, 41.46s/it]"
          ]
        },
        {
          "name": "stdout",
          "output_type": "stream",
          "text": [
            "Eval:  Avg_Loss: 0.25938   Acc: 4914/5004 (98.201%)\n",
            "Train Epoch: 15   Avg_Loss: 0.00000   Acc: 15011/15011 (100.000%)\n"
          ]
        },
        {
          "name": "stderr",
          "output_type": "stream",
          "text": [
            "100%|██████████| 15/15 [08:50<00:00, 35.35s/it]"
          ]
        },
        {
          "name": "stdout",
          "output_type": "stream",
          "text": [
            "Eval:  Avg_Loss: 0.26895   Acc: 4912/5004 (98.161%)\n",
            "\n",
            "\n",
            "\n",
            "Optimization ended.\n",
            "\n",
            "tensor([[1.0000e+00, 3.7418e-18],\n",
            "        [1.0000e+00, 0.0000e+00],\n",
            "        [8.7176e-08, 1.0000e+00],\n",
            "        [1.0000e+00, 2.2540e-15],\n",
            "        [1.8008e-11, 1.0000e+00],\n",
            "        [4.1876e-32, 1.0000e+00],\n",
            "        [1.9137e-23, 1.0000e+00],\n",
            "        [1.0000e+00, 0.0000e+00],\n",
            "        [1.0000e+00, 1.4546e-07],\n",
            "        [1.0000e+00, 0.0000e+00]], grad_fn=<SoftmaxBackward0>)\n",
            "Model predictions\n",
            "tensor([0, 0, 1, 0, 1, 1, 1, 0, 0, 0])\n",
            "Targets\n",
            "tensor([[1, 0],\n",
            "        [1, 0],\n",
            "        [0, 1],\n",
            "        [1, 0],\n",
            "        [0, 1],\n",
            "        [0, 1],\n",
            "        [0, 1],\n",
            "        [1, 0],\n",
            "        [1, 0],\n",
            "        [1, 0]])\n"
          ]
        },
        {
          "name": "stderr",
          "output_type": "stream",
          "text": [
            "\n"
          ]
        },
        {
          "name": "stdout",
          "output_type": "stream",
          "text": [
            "Eval:  Avg_Loss: 0.26895   Acc: 4912/5004 (98.161%)\n",
            "Eval:  Avg_Loss: 0.33118   Acc: 4905/5004 (98.022%)\n",
            "seed:  3550\n",
            "(15011, 2500) (5004, 2500) (15011,) (5004,)\n",
            "output tensor([[ 0.0994,  0.0238],\n",
            "        [ 0.0047,  0.0159],\n",
            "        [-0.0854,  0.0480],\n",
            "        [-0.0502,  0.1097],\n",
            "        [-0.0772, -0.0104]], grad_fn=<AddmmBackward0>)\n",
            "tensor([[0.5189, 0.4811],\n",
            "        [0.4972, 0.5028],\n",
            "        [0.4667, 0.5333],\n",
            "        [0.4601, 0.5399],\n",
            "        [0.4833, 0.5167]], grad_fn=<SoftmaxBackward0>)\n",
            "Model prediction\n",
            "tensor([0, 1, 1, 1, 1])\n",
            "Actual data\n",
            "tensor([[1, 0],\n",
            "        [1, 0],\n",
            "        [0, 1],\n",
            "        [1, 0],\n",
            "        [0, 1]])\n"
          ]
        },
        {
          "name": "stderr",
          "output_type": "stream",
          "text": [
            "\r  0%|          | 0/15 [00:00<?, ?it/s]"
          ]
        },
        {
          "name": "stdout",
          "output_type": "stream",
          "text": [
            "Train Epoch: 1   Avg_Loss: 0.09304   Acc: 14487/15011 (96.509%)\n"
          ]
        },
        {
          "name": "stderr",
          "output_type": "stream",
          "text": [
            "\r  7%|▋         | 1/15 [00:18<04:16, 18.32s/it]"
          ]
        },
        {
          "name": "stdout",
          "output_type": "stream",
          "text": [
            "Eval:  Avg_Loss: 0.05630   Acc: 4917/5004 (98.261%)\n",
            "Train Epoch: 2   Avg_Loss: 0.01300   Acc: 14954/15011 (99.620%)\n"
          ]
        },
        {
          "name": "stderr",
          "output_type": "stream",
          "text": [
            "\r 13%|█▎        | 2/15 [00:39<04:17, 19.85s/it]"
          ]
        },
        {
          "name": "stdout",
          "output_type": "stream",
          "text": [
            "Eval:  Avg_Loss: 0.07268   Acc: 4894/5004 (97.802%)\n",
            "Train Epoch: 3   Avg_Loss: 0.01122   Acc: 14965/15011 (99.694%)\n"
          ]
        },
        {
          "name": "stderr",
          "output_type": "stream",
          "text": [
            "\r 20%|██        | 3/15 [01:06<04:40, 23.37s/it]"
          ]
        },
        {
          "name": "stdout",
          "output_type": "stream",
          "text": [
            "Eval:  Avg_Loss: 0.07349   Acc: 4912/5004 (98.161%)\n",
            "Train Epoch: 4   Avg_Loss: 0.01879   Acc: 14937/15011 (99.507%)\n"
          ]
        },
        {
          "name": "stderr",
          "output_type": "stream",
          "text": [
            "\r 27%|██▋       | 4/15 [01:35<04:41, 25.63s/it]"
          ]
        },
        {
          "name": "stdout",
          "output_type": "stream",
          "text": [
            "Eval:  Avg_Loss: 0.11357   Acc: 4868/5004 (97.282%)\n",
            "Train Epoch: 5   Avg_Loss: 0.02049   Acc: 14933/15011 (99.480%)\n"
          ]
        },
        {
          "name": "stderr",
          "output_type": "stream",
          "text": [
            "\r 33%|███▎      | 5/15 [02:07<04:38, 27.84s/it]"
          ]
        },
        {
          "name": "stdout",
          "output_type": "stream",
          "text": [
            "Eval:  Avg_Loss: 0.11534   Acc: 4901/5004 (97.942%)\n",
            "Train Epoch: 6   Avg_Loss: 0.00148   Acc: 15005/15011 (99.960%)\n"
          ]
        },
        {
          "name": "stderr",
          "output_type": "stream",
          "text": [
            "\r 40%|████      | 6/15 [02:44<04:38, 30.90s/it]"
          ]
        },
        {
          "name": "stdout",
          "output_type": "stream",
          "text": [
            "Eval:  Avg_Loss: 0.15534   Acc: 4892/5004 (97.762%)\n",
            "Train Epoch: 7   Avg_Loss: 0.01416   Acc: 14963/15011 (99.680%)\n"
          ]
        },
        {
          "name": "stderr",
          "output_type": "stream",
          "text": [
            "\r 47%|████▋     | 7/15 [03:19<04:18, 32.35s/it]"
          ]
        },
        {
          "name": "stdout",
          "output_type": "stream",
          "text": [
            "Eval:  Avg_Loss: 0.29384   Acc: 4891/5004 (97.742%)\n",
            "Train Epoch: 8   Avg_Loss: 0.01963   Acc: 14958/15011 (99.647%)\n"
          ]
        },
        {
          "name": "stderr",
          "output_type": "stream",
          "text": [
            "\r 53%|█████▎    | 8/15 [03:56<03:56, 33.81s/it]"
          ]
        },
        {
          "name": "stdout",
          "output_type": "stream",
          "text": [
            "Eval:  Avg_Loss: 0.34641   Acc: 4858/5004 (97.082%)\n",
            "Train Epoch: 9   Avg_Loss: 0.00778   Acc: 14988/15011 (99.847%)\n"
          ]
        },
        {
          "name": "stderr",
          "output_type": "stream",
          "text": [
            "\r 60%|██████    | 9/15 [04:33<03:28, 34.73s/it]"
          ]
        },
        {
          "name": "stdout",
          "output_type": "stream",
          "text": [
            "Eval:  Avg_Loss: 0.17470   Acc: 4888/5004 (97.682%)\n",
            "Train Epoch: 10   Avg_Loss: 0.00122   Acc: 15006/15011 (99.967%)\n"
          ]
        },
        {
          "name": "stderr",
          "output_type": "stream",
          "text": [
            "\r 67%|██████▋   | 10/15 [05:11<02:58, 35.68s/it]"
          ]
        },
        {
          "name": "stdout",
          "output_type": "stream",
          "text": [
            "Eval:  Avg_Loss: 0.52920   Acc: 4883/5004 (97.582%)\n",
            "Train Epoch: 11   Avg_Loss: 0.02950   Acc: 14978/15011 (99.780%)\n"
          ]
        },
        {
          "name": "stderr",
          "output_type": "stream",
          "text": [
            "\r 73%|███████▎  | 11/15 [05:51<02:27, 36.92s/it]"
          ]
        },
        {
          "name": "stdout",
          "output_type": "stream",
          "text": [
            "Eval:  Avg_Loss: 0.35163   Acc: 4891/5004 (97.742%)\n",
            "Train Epoch: 12   Avg_Loss: 0.01527   Acc: 14977/15011 (99.773%)\n"
          ]
        },
        {
          "name": "stderr",
          "output_type": "stream",
          "text": [
            "\r 80%|████████  | 12/15 [06:29<01:51, 37.33s/it]"
          ]
        },
        {
          "name": "stdout",
          "output_type": "stream",
          "text": [
            "Eval:  Avg_Loss: 0.25362   Acc: 4900/5004 (97.922%)\n",
            "Train Epoch: 13   Avg_Loss: 0.00738   Acc: 14985/15011 (99.827%)\n"
          ]
        },
        {
          "name": "stderr",
          "output_type": "stream",
          "text": [
            "\r 87%|████████▋ | 13/15 [07:08<01:15, 37.84s/it]"
          ]
        },
        {
          "name": "stdout",
          "output_type": "stream",
          "text": [
            "Eval:  Avg_Loss: 0.33570   Acc: 4890/5004 (97.722%)\n",
            "Train Epoch: 14   Avg_Loss: 0.02412   Acc: 14977/15011 (99.773%)\n"
          ]
        },
        {
          "name": "stderr",
          "output_type": "stream",
          "text": [
            "\r 93%|█████████▎| 14/15 [07:47<00:38, 38.21s/it]"
          ]
        },
        {
          "name": "stdout",
          "output_type": "stream",
          "text": [
            "Eval:  Avg_Loss: 0.30378   Acc: 4901/5004 (97.942%)\n",
            "Train Epoch: 15   Avg_Loss: 0.00153   Acc: 15004/15011 (99.953%)\n"
          ]
        },
        {
          "name": "stderr",
          "output_type": "stream",
          "text": [
            "100%|██████████| 15/15 [08:25<00:00, 33.67s/it]"
          ]
        },
        {
          "name": "stdout",
          "output_type": "stream",
          "text": [
            "Eval:  Avg_Loss: 0.32741   Acc: 4908/5004 (98.082%)\n",
            "\n",
            "\n",
            "\n",
            "Optimization ended.\n",
            "\n",
            "tensor([[1.0000e+00, 1.3114e-19],\n",
            "        [1.0000e+00, 0.0000e+00],\n",
            "        [7.3679e-21, 1.0000e+00],\n",
            "        [1.0000e+00, 7.9575e-24],\n",
            "        [2.3141e-09, 1.0000e+00],\n",
            "        [4.2569e-28, 1.0000e+00],\n",
            "        [8.5881e-18, 1.0000e+00],\n",
            "        [1.0000e+00, 0.0000e+00],\n",
            "        [1.0000e+00, 8.5516e-11],\n",
            "        [1.0000e+00, 0.0000e+00]], grad_fn=<SoftmaxBackward0>)\n",
            "Model predictions\n",
            "tensor([0, 0, 1, 0, 1, 1, 1, 0, 0, 0])\n",
            "Targets\n",
            "tensor([[1, 0],\n",
            "        [1, 0],\n",
            "        [0, 1],\n",
            "        [1, 0],\n",
            "        [0, 1],\n",
            "        [0, 1],\n",
            "        [0, 1],\n",
            "        [1, 0],\n",
            "        [1, 0],\n",
            "        [1, 0]])\n"
          ]
        },
        {
          "name": "stderr",
          "output_type": "stream",
          "text": [
            "\n"
          ]
        },
        {
          "name": "stdout",
          "output_type": "stream",
          "text": [
            "Eval:  Avg_Loss: 0.32741   Acc: 4908/5004 (98.082%)\n",
            "Eval:  Avg_Loss: 0.46168   Acc: 4908/5004 (98.082%)\n",
            "   Seed  DNN validation acc  DNN test acc\n",
            "0  5825            0.983014      0.979416\n",
            "1  9955            0.982214      0.979816\n",
            "2   656            0.982414      0.977618\n",
            "3  9564            0.980815      0.978217\n",
            "4  5739            0.985012      0.978217\n",
            "5  8412            0.981815      0.979616\n",
            "6  5891            0.980616      0.982414\n",
            "7   521            0.980616      0.981415\n",
            "8  1791            0.981615      0.980216\n",
            "9  3550            0.980815      0.980815\n"
          ]
        }
      ],
      "source": [
        "#train test split\n",
        "from sklearn.model_selection import train_test_split\n",
        "X_train_global, X_test_global, y_train_global, y_test_global = train_test_split(X, y, test_size=0.2, random_state=0) #initial stabilized split\n",
        "\n",
        "# print(X_train.shape, X_test.shape, y_train.shape, y_test.shape)\n",
        "# test_lst = []\n",
        "seed_list = []\n",
        "dict_list = []\n",
        "for m in range (10):\n",
        "  X_test = copy.deepcopy(X_test_global)\n",
        "  y_test = copy.deepcopy(y_test_global)\n",
        "\n",
        "  if len(seed_list) < 10:\n",
        "    seed = random.randint(0, 9999)\n",
        "    seed_list.append(seed)\n",
        "    print(\"seed: \", seed)\n",
        "    # X_train, X_test, y_train, y_test = train_test_split(X, y, test_size=0.2, random_state=0) #initial stabilized split\n",
        "    X_train, X_val, y_train, y_val = train_test_split(X_train_global, y_train_global, test_size=0.25, random_state= seed_list[m])\n",
        "    print(X_train.shape, X_val.shape, y_train.shape, y_val.shape)\n",
        "    # test_lst.append(X_test)\n",
        "  else:\n",
        "    print(\"seed = \", seed)\n",
        "    print(seed_list[m])\n",
        "    # X_train, X_test, y_train, y_test = train_test_split(X, y, test_size=0.2, random_state=0) #initial stabilized split\n",
        "    X_train, X_val, y_train, y_val = train_test_split(X_train_global, y_train_global, test_size=0.25, random_state= seed_list[m])\n",
        "    print(X_train.shape, X_val.shape, y_train.shape, y_val.shape)\n",
        "    # test_lst.append(X_test)\n",
        "\n",
        "# X_train, X_val, y_train, y_val = train_test_split(X_train, y_train, test_size=0.25, random_state=0)\n",
        "\n",
        "#Take some data from test set for validation\n",
        "#Get the validation dataset splitted\n",
        "# X_val = X_test.head(499)\n",
        "# X_test = X_test.tail(1000)\n",
        "# y_val = y_test.head(499)\n",
        "# y_test = y_test.tail(1000)\n",
        "# print(X_val.shape, X_test.shape, y_val.shape, y_test.shape)\n",
        "\n",
        "  # print(type(X_val), type(X_train), type(X_test), type(y_val), type(y_train), type(y_test)\n",
        "\n",
        "  # Type conversion\n",
        "  X_val = X_val.astype(np.float64)\n",
        "  y_val = y_val.astype(np.float64)\n",
        "  # X_val = X_val.to_numpy()\n",
        "  # y_val = y_val.to_numpy()\n",
        "\n",
        "  #Note: SoftMax requires a 2x1 matrix for the label. We turn the above `y_val`, `y_train` and `y_test` numpy array into a matrix.\n",
        "  y_val = np.stack([y_val, 1-y_val])\n",
        "  y_val = y_val.transpose()\n",
        "  #print(y_val)\n",
        "\n",
        "  y_train = y_train.astype(np.float64)\n",
        "  y_train = np.stack([y_train, 1-y_train])\n",
        "  y_train = y_train.transpose()\n",
        "  #print(y_train)\n",
        "\n",
        "  y_test = y_test.astype(np.float64)\n",
        "  y_test = np.stack([y_test, 1-y_test])\n",
        "  y_test = y_test.transpose()\n",
        "  #print(y_test)\n",
        "\n",
        "  # X_train = X_train.to_numpy()\n",
        "  # X_test = X_test.to_numpy()\n",
        "\n",
        "  #the real train and test dataset\n",
        "  train_dataset = TensorDataset(torch.from_numpy(X_train).float(), torch.from_numpy(y_train).long())\n",
        "  val_dataset = TensorDataset(torch.from_numpy(X_val).float(), torch.from_numpy(y_val).long())\n",
        "  #print('X_test Y test: ', X_test.shape, y_test.shape)\n",
        "  #print('X train Y train: ', X_train.shape, y_train.shape)\n",
        "  test_dataset = TensorDataset(torch.from_numpy(X_test).float(), torch.from_numpy(y_test).long())\n",
        "\n",
        "  #SEPARATE CELL \n",
        "\n",
        "  # Model definition - we definited above here we initiate a model\n",
        "  neural_net = NeuralNet()\n",
        "  neural_net = neural_net.to(device) #We create an instance of NeuralNetwork, and move it to the device, and print its structure.\n",
        "\n",
        "  # Evaluation mode activation\n",
        "  neural_net = neural_net.eval()\n",
        "\n",
        "  # Select the first 5 data points the name of the model is data\n",
        "  data, target = test_dataset[0:5]\n",
        "\n",
        "  data = data.to(device)\n",
        "  target = target.to(device)\n",
        "\n",
        "  # Forward propagation of the data through the model\n",
        "  output = neural_net(data)   # equivalent to neural_net.forward(data)\n",
        "  print(\"output\",output)\n",
        "  # Convert the logits into probabilities with softmax function\n",
        "  output_proba = F.softmax(output,dim=1)  # the dimension is to normalize over the outcome, over rows or columns 0 will be incorrect and sum over columns\n",
        "\n",
        "  # Printing the probability\n",
        "  print(output_proba)\n",
        "  \n",
        "  _, prediction = torch.max(output_proba, dim=1)\n",
        "\n",
        "  print('Model prediction')\n",
        "  print(prediction)\n",
        "\n",
        "  # Printing the real labels\n",
        "  print(\"Actual data\")\n",
        "  print(target)\n",
        "\n",
        "  optimizer = optim.Adam(neural_net.parameters(), lr=0.001) \n",
        "\n",
        "  train_batch_size = 32  # number of data in a training batch.\n",
        "  eval_batch_size = 32   # number of data in an batch.\n",
        "\n",
        "  train_loader = torch.utils.data.DataLoader(train_dataset, batch_size=train_batch_size, shuffle=True)\n",
        "  val_loader   = torch.utils.data.DataLoader(val_dataset, batch_size=eval_batch_size, shuffle=False)\n",
        "  test_loader  = torch.utils.data.DataLoader(test_dataset, batch_size=eval_batch_size, shuffle=False)\n",
        "\n",
        "  from tqdm import tqdm\n",
        "\n",
        "  # maximum number of epoch\n",
        "  numEpochs = 15\n",
        "\n",
        "  # Saving frequency\n",
        "  checkpoint_freq = 10\n",
        "\n",
        "  # Directory for data backup - save the model during training\n",
        "  path = './'\n",
        "\n",
        "  # Accumulators of average losses obtained per epoch to visualize training curve\n",
        "  train_losses = []\n",
        "  val_losses = []\n",
        "\n",
        "  # Performance accumulators per epoch\n",
        "  train_accuracies = []\n",
        "  val_accuracies = []\n",
        "\n",
        "  # Model definition\n",
        "  neural_net = NeuralNet()\n",
        "\n",
        "  # Load the model on the chosen device\n",
        "  neural_net = neural_net.to(device)\n",
        "\n",
        "  # Optimizer definition\n",
        "  optimizer = optim.Adam(neural_net.parameters(), lr=0.001) \n",
        "  # optimizer = optim.SGD(neural_net.parameters(), lr=0.001) \n",
        "\n",
        "  # Learning loop\n",
        "  for epoch in tqdm(range(1, numEpochs + 1)):\n",
        "      \n",
        "      # train the model with the train dataset\n",
        "      # inner loop one step \n",
        "      train_loss, train_acc = train(epoch, neural_net, train_loader, optimizer, device)   \n",
        "    \n",
        "      # evaluate the model with the validation dataset\n",
        "      val_loss, val_acc = evaluate(neural_net, val_loader, device)       \n",
        "      \n",
        "      # Save the losses obtained\n",
        "      train_losses.append(train_loss)    \n",
        "      val_losses.append(val_loss)\n",
        "      \n",
        "      # Save the performances\n",
        "      train_accuracies.append(train_acc)    \n",
        "      val_accuracies.append(val_acc)\n",
        "      \n",
        "      # Checkpoint\n",
        "      if epoch % checkpoint_freq ==0:\n",
        "          save_model(epoch, neural_net, path)\n",
        "\n",
        "  # Save the model at the end of the training\n",
        "  save_model(numEpochs, neural_net, path)\n",
        "      \n",
        "  print(\"\\n\\n\\nOptimization ended.\\n\")\n",
        "\n",
        "\n",
        "  # Activate the evaluation mode\n",
        "  neural_net = neural_net.eval()\n",
        "\n",
        "  # Select the first 10 data points of the validation set\n",
        "  data, target = test_dataset[0:10]\n",
        "  data = data.to(device)\n",
        "\n",
        "  # Executing the neural network\n",
        "  output = neural_net(data)   # equivalent to neural_net.forward(data)\n",
        "\n",
        "  # Transform the output into a probability distribution with a softmax function\n",
        "  output_proba = F.softmax(output, dim=1)\n",
        "\n",
        "  # Print the probability\n",
        "  print(output_proba)    \n",
        "\n",
        "\n",
        "  # For each example, retrieve the class with the highest probability.\n",
        "  _, prediction = torch.max(output_proba, dim=1)\n",
        "\n",
        "  print(\"Model predictions\")\n",
        "  print(prediction)\n",
        "\n",
        "  print(\"Targets\")\n",
        "  print(target)\n",
        "\n",
        "  valid_loss, valid_acc = evaluate(neural_net, val_loader, device)\n",
        "  test_loss, test_acc = evaluate(neural_net, test_loader, device)\n",
        "\n",
        "  #Disctionary append \n",
        "  row_dict = {'Seed': seed_list[m], 'DNN validation acc': valid_acc, 'DNN test acc': test_acc}\n",
        "  dict_list.append(row_dict)\n",
        "\n",
        "df = pd.DataFrame.from_dict(dict_list)\n",
        "print(df)\n"
      ]
    },
    {
      "cell_type": "code",
      "execution_count": null,
      "metadata": {
        "colab": {
          "background_save": true
        },
        "id": "0bDv1E1tRcAj",
        "outputId": "e9ffb4cf-a93e-4419-b360-a751855d038a"
      },
      "outputs": [
        {
          "data": {
            "text/html": [
              "\n",
              "  <div id=\"df-5174a32a-4be7-4e63-a50d-d0d5f68df82a\">\n",
              "    <div class=\"colab-df-container\">\n",
              "      <div>\n",
              "<style scoped>\n",
              "    .dataframe tbody tr th:only-of-type {\n",
              "        vertical-align: middle;\n",
              "    }\n",
              "\n",
              "    .dataframe tbody tr th {\n",
              "        vertical-align: top;\n",
              "    }\n",
              "\n",
              "    .dataframe thead th {\n",
              "        text-align: right;\n",
              "    }\n",
              "</style>\n",
              "<table border=\"1\" class=\"dataframe\">\n",
              "  <thead>\n",
              "    <tr style=\"text-align: right;\">\n",
              "      <th></th>\n",
              "      <th>Seed</th>\n",
              "      <th>DNN validation acc</th>\n",
              "      <th>DNN test acc</th>\n",
              "    </tr>\n",
              "  </thead>\n",
              "  <tbody>\n",
              "    <tr>\n",
              "      <th>0</th>\n",
              "      <td>5624</td>\n",
              "      <td>0.982814</td>\n",
              "      <td>0.979416</td>\n",
              "    </tr>\n",
              "    <tr>\n",
              "      <th>1</th>\n",
              "      <td>2747</td>\n",
              "      <td>0.983613</td>\n",
              "      <td>0.978817</td>\n",
              "    </tr>\n",
              "    <tr>\n",
              "      <th>2</th>\n",
              "      <td>4103</td>\n",
              "      <td>0.984812</td>\n",
              "      <td>0.982014</td>\n",
              "    </tr>\n",
              "    <tr>\n",
              "      <th>3</th>\n",
              "      <td>7176</td>\n",
              "      <td>0.981415</td>\n",
              "      <td>0.980616</td>\n",
              "    </tr>\n",
              "    <tr>\n",
              "      <th>4</th>\n",
              "      <td>7502</td>\n",
              "      <td>0.981615</td>\n",
              "      <td>0.979816</td>\n",
              "    </tr>\n",
              "    <tr>\n",
              "      <th>5</th>\n",
              "      <td>3127</td>\n",
              "      <td>0.978617</td>\n",
              "      <td>0.978018</td>\n",
              "    </tr>\n",
              "    <tr>\n",
              "      <th>6</th>\n",
              "      <td>6877</td>\n",
              "      <td>0.983813</td>\n",
              "      <td>0.983413</td>\n",
              "    </tr>\n",
              "    <tr>\n",
              "      <th>7</th>\n",
              "      <td>8832</td>\n",
              "      <td>0.982614</td>\n",
              "      <td>0.980815</td>\n",
              "    </tr>\n",
              "    <tr>\n",
              "      <th>8</th>\n",
              "      <td>1826</td>\n",
              "      <td>0.982214</td>\n",
              "      <td>0.979217</td>\n",
              "    </tr>\n",
              "    <tr>\n",
              "      <th>9</th>\n",
              "      <td>390</td>\n",
              "      <td>0.981215</td>\n",
              "      <td>0.975819</td>\n",
              "    </tr>\n",
              "  </tbody>\n",
              "</table>\n",
              "</div>\n",
              "      <button class=\"colab-df-convert\" onclick=\"convertToInteractive('df-5174a32a-4be7-4e63-a50d-d0d5f68df82a')\"\n",
              "              title=\"Convert this dataframe to an interactive table.\"\n",
              "              style=\"display:none;\">\n",
              "        \n",
              "  <svg xmlns=\"http://www.w3.org/2000/svg\" height=\"24px\"viewBox=\"0 0 24 24\"\n",
              "       width=\"24px\">\n",
              "    <path d=\"M0 0h24v24H0V0z\" fill=\"none\"/>\n",
              "    <path d=\"M18.56 5.44l.94 2.06.94-2.06 2.06-.94-2.06-.94-.94-2.06-.94 2.06-2.06.94zm-11 1L8.5 8.5l.94-2.06 2.06-.94-2.06-.94L8.5 2.5l-.94 2.06-2.06.94zm10 10l.94 2.06.94-2.06 2.06-.94-2.06-.94-.94-2.06-.94 2.06-2.06.94z\"/><path d=\"M17.41 7.96l-1.37-1.37c-.4-.4-.92-.59-1.43-.59-.52 0-1.04.2-1.43.59L10.3 9.45l-7.72 7.72c-.78.78-.78 2.05 0 2.83L4 21.41c.39.39.9.59 1.41.59.51 0 1.02-.2 1.41-.59l7.78-7.78 2.81-2.81c.8-.78.8-2.07 0-2.86zM5.41 20L4 18.59l7.72-7.72 1.47 1.35L5.41 20z\"/>\n",
              "  </svg>\n",
              "      </button>\n",
              "      \n",
              "  <style>\n",
              "    .colab-df-container {\n",
              "      display:flex;\n",
              "      flex-wrap:wrap;\n",
              "      gap: 12px;\n",
              "    }\n",
              "\n",
              "    .colab-df-convert {\n",
              "      background-color: #E8F0FE;\n",
              "      border: none;\n",
              "      border-radius: 50%;\n",
              "      cursor: pointer;\n",
              "      display: none;\n",
              "      fill: #1967D2;\n",
              "      height: 32px;\n",
              "      padding: 0 0 0 0;\n",
              "      width: 32px;\n",
              "    }\n",
              "\n",
              "    .colab-df-convert:hover {\n",
              "      background-color: #E2EBFA;\n",
              "      box-shadow: 0px 1px 2px rgba(60, 64, 67, 0.3), 0px 1px 3px 1px rgba(60, 64, 67, 0.15);\n",
              "      fill: #174EA6;\n",
              "    }\n",
              "\n",
              "    [theme=dark] .colab-df-convert {\n",
              "      background-color: #3B4455;\n",
              "      fill: #D2E3FC;\n",
              "    }\n",
              "\n",
              "    [theme=dark] .colab-df-convert:hover {\n",
              "      background-color: #434B5C;\n",
              "      box-shadow: 0px 1px 3px 1px rgba(0, 0, 0, 0.15);\n",
              "      filter: drop-shadow(0px 1px 2px rgba(0, 0, 0, 0.3));\n",
              "      fill: #FFFFFF;\n",
              "    }\n",
              "  </style>\n",
              "\n",
              "      <script>\n",
              "        const buttonEl =\n",
              "          document.querySelector('#df-5174a32a-4be7-4e63-a50d-d0d5f68df82a button.colab-df-convert');\n",
              "        buttonEl.style.display =\n",
              "          google.colab.kernel.accessAllowed ? 'block' : 'none';\n",
              "\n",
              "        async function convertToInteractive(key) {\n",
              "          const element = document.querySelector('#df-5174a32a-4be7-4e63-a50d-d0d5f68df82a');\n",
              "          const dataTable =\n",
              "            await google.colab.kernel.invokeFunction('convertToInteractive',\n",
              "                                                     [key], {});\n",
              "          if (!dataTable) return;\n",
              "\n",
              "          const docLinkHtml = 'Like what you see? Visit the ' +\n",
              "            '<a target=\"_blank\" href=https://colab.research.google.com/notebooks/data_table.ipynb>data table notebook</a>'\n",
              "            + ' to learn more about interactive tables.';\n",
              "          element.innerHTML = '';\n",
              "          dataTable['output_type'] = 'display_data';\n",
              "          await google.colab.output.renderOutput(dataTable, element);\n",
              "          const docLink = document.createElement('div');\n",
              "          docLink.innerHTML = docLinkHtml;\n",
              "          element.appendChild(docLink);\n",
              "        }\n",
              "      </script>\n",
              "    </div>\n",
              "  </div>\n",
              "  "
            ],
            "text/plain": [
              "   Seed  DNN validation acc  DNN test acc\n",
              "0  5624            0.982814      0.979416\n",
              "1  2747            0.983613      0.978817\n",
              "2  4103            0.984812      0.982014\n",
              "3  7176            0.981415      0.980616\n",
              "4  7502            0.981615      0.979816\n",
              "5  3127            0.978617      0.978018\n",
              "6  6877            0.983813      0.983413\n",
              "7  8832            0.982614      0.980815\n",
              "8  1826            0.982214      0.979217\n",
              "9   390            0.981215      0.975819"
            ]
          },
          "execution_count": 46,
          "metadata": {},
          "output_type": "execute_result"
        }
      ],
      "source": [
        "df"
      ]
    },
    {
      "cell_type": "markdown",
      "metadata": {
        "id": "RE1WxHbYSScP"
      },
      "source": [
        "Using [Adam Optimizer](https://pythonguides.com/adam-optimizer-pytorch/)"
      ]
    },
    {
      "cell_type": "code",
      "execution_count": null,
      "metadata": {
        "colab": {
          "background_save": true
        },
        "id": "HJnrnbPRC8sA",
        "outputId": "ed186c7c-65cc-4c30-9a6a-8683268f9a36"
      },
      "outputs": [
        {
          "name": "stdout",
          "output_type": "stream",
          "text": [
            "[[2150   47]\n",
            " [  49 2758]]\n"
          ]
        },
        {
          "data": {
            "image/png": "[encoded data removed]",
            "text/plain": [
              "<Figure size 900x900 with 1 Axes>"
            ]
          },
          "metadata": {},
          "output_type": "display_data"
        }
      ],
      "source": [
        "from sklearn.metrics._plot.confusion_matrix import ConfusionMatrixDisplay\n",
        "from sklearn.utils.multiclass import type_of_target\n",
        "from sklearn.metrics import confusion_matrix\n",
        "import seaborn as sn\n",
        "import pandas as pd\n",
        "\n",
        "y_pred = []\n",
        "y_true = []\n",
        "\n",
        "# iterate over test data\n",
        "correct = 0\n",
        "for data, target in test_loader:\n",
        "        # output = A(inputs) # Feed Network\n",
        "        # print(output)\n",
        "        # print(output.shape)\n",
        "\n",
        "        # output = (torch.max(torch.exp(output), 1)[1]).data.cpu().numpy()\n",
        "        # y_pred.extend(output) # Save Prediction\n",
        "        \n",
        "        # target = target.data.cpu().numpy()\n",
        "        # target = (target[:, 1] > 0.5).astype(\"int32\")\n",
        "        # y_true.extend(target) # Save Trut\n",
        "\n",
        "        # transfer the data on the chosen device\n",
        "        data, target = data.to(device), target.to(device)\n",
        "        target=target.float()\n",
        "\n",
        "        # forward propagation on the data\n",
        "        prediction = neural_net(data)\n",
        "\n",
        "        # compute the number of correct predictions en sortie)\n",
        "        _, pred_classes = torch.max(prediction, dim=1)\n",
        "        _, target_classes = torch.max(target, dim=1)\n",
        "        y_true.extend(target_classes)\n",
        "        y_pred.extend(pred_classes)\n",
        "        correct += int(pred_classes.eq(target_classes).sum().item())\n",
        "        \n",
        "# constant for classes\n",
        "classes = ('PD','Healthy')\n",
        "\n",
        "#print(type(target))\n",
        "\n",
        "# Build confusion matrix\n",
        "cf_matrix = confusion_matrix(y_pred, y_true)\n",
        "print(cf_matrix)\n",
        "\n",
        "df_cm = pd.DataFrame(cf_matrix / np.sum(cf_matrix, axis=1)[:, None], index = [i for i in classes],\n",
        "                     columns = [i for i in classes])\n",
        "\n",
        "cmd = ConfusionMatrixDisplay(cf_matrix, display_labels=['Healthy','PD'])\n",
        "cmd.plot(cmap = 'YlGnBu', colorbar = False)\n",
        "\n",
        "#cmd.plot(cmap = 'YlGnBu', colorbar = False)\n",
        "\n",
        "fig = cmd.ax_.get_figure()\n",
        "\n",
        "fig.set_figwidth(3)\n",
        "fig.set_figheight(3)\n",
        "plt.rcParams[\"figure.dpi\"] = 300\n",
        "plt.rc('font', size=16)\n",
        "# Set the axes title font size\n",
        "plt.rc('axes', titlesize=14)\n",
        "# Set the axes labels font size\n",
        "plt.rc('axes', labelsize=14)\n",
        "# Set the font size for x tick labels\n",
        "plt.rc('xtick', labelsize=12)\n",
        "# Set the font size for y tick labels\n",
        "plt.rc('ytick', labelsize=12)\n",
        "#plt.savefig(dpi = 300, fname = 'astro_LR.png')\n",
        "#sn.heatmap(df_cm, annot=True)\n",
        "plt.savefig('output.png')"
      ]
    },
    {
      "cell_type": "markdown",
      "metadata": {
        "id": "sJqBF35hUpTO"
      },
      "source": [
        "####Create plots of the learning curves."
      ]
    },
    {
      "cell_type": "code",
      "execution_count": null,
      "metadata": {
        "id": "AEuShUVi1v9f"
      },
      "outputs": [],
      "source": [
        "!pip install matplotlib==3.1.3"
      ]
    },
    {
      "cell_type": "code",
      "execution_count": null,
      "metadata": {
        "id": "jj8co2Aw_U8q"
      },
      "outputs": [],
      "source": [
        "#Plot\n",
        "x = list(range(len(train_losses)))\n",
        "ax = plt.subplot(111)\n",
        "\n",
        "# #Feb 5 new: set ticks, axis and spins black\n",
        "# ax.spines['left'].set_color('black')        # setting up Y-axis tick color to red\n",
        "# ax.spines['bottom'].set_color('black')\n",
        "\n",
        "# ax.xaxis.label.set_color('black')        #setting up X-axis label color to yellow\n",
        "# ax.yaxis.label.set_color('black')          #setting up Y-axis label color to blue\n",
        "\n",
        "# ax.tick_params(axis='x', colors='black')    #setting up X-axis tick color to red\n",
        "# ax.tick_params(axis='y', colors='black')  #setting up Y-axis tick color to black\n",
        "\n",
        "plt.plot(x, train_losses, 'b', label=\"Train\")\n",
        "plt.plot(x, val_losses, 'r', label=\"Validation\")\n",
        "plt.xlabel('epoch', size=16)\n",
        "plt.ylabel('Cross-entropy loss', size=16)\n",
        "plt.xticks(fontsize=16)\n",
        "plt.yticks(fontsize=16)\n",
        "\n",
        "f = plt.figure()\n",
        "# f.set_figwidth(4)\n",
        "# f.set_figheight(4)\n",
        "\n",
        "# leg = plt.legend(loc='best', ncol=2, mode=\"expand\", shadow=False, fancybox=False)\n",
        "# leg.get_frame().set_alpha(0.99)\n",
        "\n",
        "#Add a legend\n",
        "pos = ax.get_position()\n",
        "#ax.set_position([pos.x0, pos.y0, pos.width * 0.9, pos.height])\n",
        "# ax.legend(loc='lower center', bbox_to_anchor=(1.33, 0.91), frameon = False, fontsize = 16)\n",
        "ax.legend(loc='lower center', bbox_to_anchor=(0.5, -0.5), frameon = True, fontsize = 16)\n",
        "\n",
        "plt.savefig(\"train_losses.png\", transparent = True, bbox_inches='tight')"
      ]
    },
    {
      "cell_type": "code",
      "execution_count": null,
      "metadata": {
        "id": "ibkIH0dNicVN"
      },
      "outputs": [],
      "source": [
        "x = list(range(len(train_accuracies)))\n",
        "ax = plt.subplot(111)\n",
        "\n",
        "# #Feb 5 new: set ticks, axis and spins black\n",
        "# ax.spines['left'].set_color('black')        # setting up Y-axis tick color to red\n",
        "# ax.spines['bottom'].set_color('black')\n",
        "\n",
        "# ax.xaxis.label.set_color('black')        #setting up X-axis label color to yellow\n",
        "# ax.yaxis.label.set_color('black')          #setting up Y-axis label color to blue\n",
        "\n",
        "# ax.tick_params(axis='x', colors='black')    #setting up X-axis tick color to red\n",
        "# ax.tick_params(axis='y', colors='black')  #setting up Y-axis tick color to black\n",
        "\n",
        "plt.plot(x, train_accuracies, 'b', label=\"Train\")\n",
        "plt.plot(x, val_accuracies, 'r', label=\"Validation\")\n",
        "plt.xlabel('epoch', size = 16)\n",
        "plt.ylabel('Accuracy', size = 16)\n",
        "plt.xticks(fontsize=16)\n",
        "plt.yticks(fontsize=16)\n",
        "\n",
        "f = plt.figure()\n",
        "\n",
        "# Add a legend\n",
        "pos = ax.get_position()\n",
        "# ax.set_position([pos.x0, pos.y0, pos.width * 0.9, pos.height])\n",
        "# ax.legend(loc='center right', bbox_to_anchor=(1.33, 0.91), facecolor = 'white')\n",
        "\n",
        "plt.rcParams[\"figure.dpi\"] = 500\n",
        "ax.legend(loc='lower center', bbox_to_anchor=(0.5, -0.5), frameon = True, fontsize = 16)\n",
        "plt.savefig(\"train_accuracies.png\", transparent = True, bbox_inches='tight')"
      ]
    },
    {
      "cell_type": "code",
      "execution_count": null,
      "metadata": {
        "id": "uUfxcX1D_YOi"
      },
      "outputs": [],
      "source": [
        "x = list(range(len(train_accuracies)))\n",
        "ax = plt.subplot(111)\n",
        "\n",
        "#Feb 5 new: set ticks, axis and spins black\n",
        "ax.spines['left'].set_color('black')        # setting up Y-axis tick color to red\n",
        "ax.spines['bottom'].set_color('black')\n",
        "\n",
        "ax.xaxis.label.set_color('black')        #setting up X-axis label color to yellow\n",
        "ax.yaxis.label.set_color('black')          #setting up Y-axis label color to blue\n",
        "\n",
        "ax.tick_params(axis='x', colors='black')    #setting up X-axis tick color to red\n",
        "ax.tick_params(axis='y', colors='black')  #setting up Y-axis tick color to black\n",
        "\n",
        "plt.plot(x, train_accuracies, 'b', label=\"Train\")\n",
        "plt.plot(x, val_accuracies, 'r', label=\"Validation\")\n",
        "plt.xlabel('epoch')\n",
        "plt.ylabel('Accuracy')\n",
        "plt.grid()\n",
        "leg = plt.legend(loc='best', ncol=2, mode=\"expand\", shadow=False, fancybox=False)\n",
        "leg.get_frame().set_alpha(0.99)\n",
        "\n",
        "# Add a legend\n",
        "pos = ax.get_position()\n",
        "ax.set_position([pos.x0, pos.y0, pos.width * 0.9, pos.height])\n",
        "ax.legend(loc='center right', bbox_to_anchor=(1.33, 0.91), facecolor = 'white')\n",
        "\n",
        "plt.rcParams[\"figure.dpi\"] = 500\n",
        "\n",
        "plt.rc('font', size=14)\n",
        "# Set the axes title font size\n",
        "plt.rc('axes', titlesize=12)\n",
        "# Set the axes labels font size\n",
        "plt.rc('axes', labelsize=12)\n",
        "# Set the font size for x tick labels\n",
        "plt.rc('xtick', labelsize=16)\n",
        "# Set the font size for y tick labels\n",
        "plt.rc('ytick', labelsize=16)\n",
        "# Set the axes title font size\n",
        "plt.rc('axes', titlesize=12)\n",
        "# Set the axes labels font size\n",
        "plt.rc('axes', labelsize=12)\n",
        "\n",
        "plt.savefig(\"train_accuracies.png\", transparent = True, bbox_inches='tight')"
      ]
    }
  ],
  "metadata": {
    "colab": {
      "provenance": [],
      "authorship_tag": "ABX9TyPVs1G+AhOqRKmiEpuCqkc7",
      "include_colab_link": true
    },
    "kernelspec": {
      "display_name": "Python 3",
      "name": "python3"
    },
    "language_info": {
      "name": "python"
    }
  },
  "nbformat": 4,
  "nbformat_minor": 0
}