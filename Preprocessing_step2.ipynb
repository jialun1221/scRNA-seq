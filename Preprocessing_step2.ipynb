{
  "cells": [
    {
      "cell_type": "markdown",
      "metadata": {
        "id": "view-in-github",
        "colab_type": "text"
      },
      "source": [
        "<a href=\"https://colab.research.google.com/github/jialun1221/scRNA-seq/blob/main/Preprocessing_step2.ipynb\" target=\"_parent\"><img src=\"https://colab.research.google.com/assets/colab-badge.svg\" alt=\"Open In Colab\"/></a>"
      ]
    },
    {
      "cell_type": "markdown",
      "metadata": {
        "id": "8HVFeJrBoTDA"
      },
      "source": [
        "# Preprocessing and clustering Cells\n",
        "### Part 2. Filtering, Normalization, Principle Component Analysis"
      ]
    },
    {
      "cell_type": "markdown",
      "metadata": {
        "id": "cXCC31G-oXCM"
      },
      "source": [
        "In this notebook, we will apply ***normalization, scaling, and PCA*** for the **three** different preprocessing methods."
      ]
    },
    {
      "cell_type": "code",
      "execution_count": null,
      "metadata": {
        "id": "zfQBhLfRso_s"
      },
      "outputs": [],
      "source": [
        "!pip install scanpy\n",
        "!pip install matplotlib==3.1.3\n",
        "import numpy as np\n",
        "import pandas as pd\n",
        "import scanpy as sc"
      ]
    },
    {
      "cell_type": "code",
      "execution_count": null,
      "metadata": {
        "id": "Rte2az9-suWY",
        "colab": {
          "base_uri": "https://localhost:8080/"
        },
        "outputId": "0ac1fa5b-08a1-4e85-e82b-3e8968b72ffe"
      },
      "outputs": [
        {
          "output_type": "stream",
          "name": "stdout",
          "text": [
            "scanpy==1.9.3 anndata==0.9.1 umap==0.5.3 numpy==1.22.4 scipy==1.10.1 pandas==1.5.3 scikit-learn==1.2.2 statsmodels==0.13.5 pynndescent==0.5.10\n"
          ]
        }
      ],
      "source": [
        "sc.settings.verbosity = 3             # verbosity: errors (0), warnings (1), info (2), hints (3)\n",
        "sc.logging.print_header()\n",
        "sc.settings.set_figure_params(dpi=80, facecolor='white')"
      ]
    },
    {
      "cell_type": "code",
      "execution_count": null,
      "metadata": {
        "id": "7_hoPek6gEIg"
      },
      "outputs": [],
      "source": [
        "!mkdir data\n",
        "!mkdir write"
      ]
    },
    {
      "cell_type": "code",
      "execution_count": null,
      "metadata": {
        "id": "Jjk7q8gCgNKY"
      },
      "outputs": [],
      "source": [
        "'''\n",
        "Create a file to store the processed data.\n",
        "For method 1 and 2, This script will run PCA on adata.X, and store the result in adata.obsm.\n",
        "\n",
        "Please add an identifier for the cell type:\n",
        "  PC_ALL_Dan = dopmaminergic neurons\n",
        "  PC_ALL_Astro = astrocytes\n",
        "'''\n",
        "PC_ALL = 'write/PC_ALL.h5ad' #method 1\n",
        "PC_HVGs = 'write/PC_HVGs.h5ad' #method 2 (pca_in_obsm_2500.h5ad)\n",
        "HVGs = 'write/HVGs.h5ad' #method 3 (pca_in_obsm.h5ad)"
      ]
    },
    {
      "cell_type": "code",
      "execution_count": null,
      "metadata": {
        "id": "7vLSSWsoszT1",
        "colab": {
          "base_uri": "https://localhost:8080/"
        },
        "outputId": "9d786373-be6a-4216-ddb5-f2a13b4e2cb6"
      },
      "outputs": [
        {
          "output_type": "stream",
          "name": "stdout",
          "text": [
            "Mounted at /content/drive\n"
          ]
        }
      ],
      "source": [
        "from google.colab import drive\n",
        "drive.mount('/content/drive')"
      ]
    },
    {
      "cell_type": "code",
      "execution_count": null,
      "metadata": {
        "id": "j90iCqn8gkju"
      },
      "outputs": [],
      "source": [
        "#Read in the new anndata of desired cell types (done after prepro step 1).\n",
        "adata = sc.read_h5ad(\"drive/MyDrive/scRNA ML classifier/data_objects_May_2022/new_anndata.h5ad\")"
      ]
    },
    {
      "cell_type": "code",
      "source": [
        "sc.tl.pca(adata, 50, svd_solver='arpack')"
      ],
      "metadata": {
        "colab": {
          "base_uri": "https://localhost:8080/"
        },
        "id": "IXP-P4WnDS3O",
        "outputId": "294d234a-da5d-4efd-c435-e7b84c5e29b0"
      },
      "execution_count": null,
      "outputs": [
        {
          "output_type": "stream",
          "name": "stdout",
          "text": [
            "computing PCA\n",
            "    with n_comps=50\n",
            "    finished (0:00:36)\n"
          ]
        }
      ]
    },
    {
      "cell_type": "code",
      "source": [
        "adata"
      ],
      "metadata": {
        "colab": {
          "base_uri": "https://localhost:8080/"
        },
        "id": "RbBqbj_eG0KV",
        "outputId": "5f1a21b5-37aa-4126-9b41-e026e1ba83b7"
      },
      "execution_count": null,
      "outputs": [
        {
          "output_type": "execute_result",
          "data": {
            "text/plain": [
              "AnnData object with n_obs × n_vars = 26535 × 41625\n",
              "    obs: 'index', 'orig.ident', 'nCount_RNA', 'nFeature_RNA', 'Cell_Subtype', 'Cell_Type', 'disease__ontology_label', 'organ__ontology_label'\n",
              "    var: 'features'\n",
              "    uns: 'pca'\n",
              "    obsm: 'X_pca'\n",
              "    varm: 'PCs'"
            ]
          },
          "metadata": {},
          "execution_count": 13
        }
      ]
    },
    {
      "cell_type": "code",
      "source": [
        "adata.obsm['X_pca'].shape"
      ],
      "metadata": {
        "colab": {
          "base_uri": "https://localhost:8080/"
        },
        "id": "CnuE5EqsG63g",
        "outputId": "606503e9-4ef9-43e2-e8c4-7d0146b97437"
      },
      "execution_count": null,
      "outputs": [
        {
          "output_type": "execute_result",
          "data": {
            "text/plain": [
              "(26535, 50)"
            ]
          },
          "metadata": {},
          "execution_count": 29
        }
      ]
    },
    {
      "cell_type": "code",
      "source": [
        "adata.varm['PCs'].shape"
      ],
      "metadata": {
        "colab": {
          "base_uri": "https://localhost:8080/"
        },
        "id": "dknexMwCNQEM",
        "outputId": "2c4e1a49-2d01-4db1-c04d-d7280f33cbb4"
      },
      "execution_count": null,
      "outputs": [
        {
          "output_type": "execute_result",
          "data": {
            "text/plain": [
              "(41625, 50)"
            ]
          },
          "metadata": {},
          "execution_count": 30
        }
      ]
    },
    {
      "cell_type": "code",
      "source": [
        "gene_names = adata.var_names"
      ],
      "metadata": {
        "id": "l4Ow1Wt9HE59"
      },
      "execution_count": null,
      "outputs": []
    },
    {
      "cell_type": "code",
      "source": [
        "gene_names"
      ],
      "metadata": {
        "colab": {
          "base_uri": "https://localhost:8080/"
        },
        "id": "Dmq_bJV4HGec",
        "outputId": "a009c299-79b6-4ce3-b0e0-4dd1062b3197"
      },
      "execution_count": null,
      "outputs": [
        {
          "output_type": "execute_result",
          "data": {
            "text/plain": [
              "Index(['RP11-34P13.3', 'FAM138A', 'OR4F5', 'RP11-34P13.7', 'RP11-34P13.8',\n",
              "       'RP11-34P13.14', 'RP11-34P13.9', 'FO538757.3', 'FO538757.2',\n",
              "       'AP006222.2',\n",
              "       ...\n",
              "       'RNU2-71P', 'RNA5SP252', 'AC116533.2', 'AC114494.1', 'RN7SL424P',\n",
              "       'RN7SL739P', 'MIR4502', 'RNU4-10P', 'RN7SL865P', 'RNU6-191P'],\n",
              "      dtype='object', length=41625)"
            ]
          },
          "metadata": {},
          "execution_count": 16
        }
      ]
    },
    {
      "cell_type": "code",
      "source": [
        "pc1_gene_names = gene_names[np.abs(adata.varm['PCs'][0]).argsort()[::-1]]"
      ],
      "metadata": {
        "id": "wDr8AcQBIJhA"
      },
      "execution_count": null,
      "outputs": []
    },
    {
      "cell_type": "code",
      "source": [
        "adata.varm['PCs']"
      ],
      "metadata": {
        "colab": {
          "base_uri": "https://localhost:8080/"
        },
        "id": "MHMCYZP0IDyY",
        "outputId": "9aa20183-ba25-41c6-ffb9-dc662ea86800"
      },
      "execution_count": null,
      "outputs": [
        {
          "output_type": "execute_result",
          "data": {
            "text/plain": [
              "array([[-2.8601963e-09, -3.5555374e-08,  2.5326877e-08, ...,\n",
              "        -5.2056497e-09,  2.4810204e-08, -4.0611652e-13],\n",
              "       [-9.1187213e-10, -4.7201258e-08, -7.0790427e-09, ...,\n",
              "         7.4603186e-08, -2.1042551e-12,  4.0690780e-13],\n",
              "       [ 1.9284174e-09,  9.5231432e-09,  5.8480620e-09, ...,\n",
              "         4.8402233e-13, -2.3354566e-13, -1.2848190e-13],\n",
              "       ...,\n",
              "       [-0.0000000e+00, -0.0000000e+00, -0.0000000e+00, ...,\n",
              "         0.0000000e+00,  0.0000000e+00,  0.0000000e+00],\n",
              "       [-0.0000000e+00, -0.0000000e+00, -0.0000000e+00, ...,\n",
              "         0.0000000e+00,  0.0000000e+00,  0.0000000e+00],\n",
              "       [-0.0000000e+00, -0.0000000e+00, -0.0000000e+00, ...,\n",
              "         0.0000000e+00,  0.0000000e+00,  0.0000000e+00]], dtype=float32)"
            ]
          },
          "metadata": {},
          "execution_count": 20
        }
      ]
    },
    {
      "cell_type": "code",
      "source": [
        "adata.varm['PCs'][0]"
      ],
      "metadata": {
        "colab": {
          "base_uri": "https://localhost:8080/"
        },
        "id": "5o18DecUIPTk",
        "outputId": "0c5d52b0-2992-4a0b-d252-da83c524f739"
      },
      "execution_count": null,
      "outputs": [
        {
          "output_type": "execute_result",
          "data": {
            "text/plain": [
              "array([-2.86019630e-09, -3.55553738e-08,  2.53268766e-08,  2.92100601e-08,\n",
              "        1.03239755e-08, -1.56599160e-08, -4.58546801e-09, -1.22615909e-08,\n",
              "        2.50473295e-08,  1.38529321e-08,  1.51211594e-08, -1.66797456e-08,\n",
              "        4.53805562e-08,  1.36498874e-08,  1.50258366e-08, -2.99364089e-08,\n",
              "        3.02318810e-08, -2.84826669e-08, -2.91281648e-08,  5.50250423e-09,\n",
              "        2.00678709e-08, -3.50738780e-08,  1.61750506e-08, -2.99496179e-08,\n",
              "       -1.64826091e-08, -4.13934274e-08,  1.34139855e-08, -5.97278031e-08,\n",
              "       -1.26866055e-08, -9.01220432e-09, -5.02986142e-09,  1.44424055e-08,\n",
              "       -3.12710640e-08, -5.65175249e-08,  2.97270386e-08, -5.47752528e-08,\n",
              "        2.62658584e-09,  8.04054068e-09, -6.44598188e-08, -5.15641085e-09,\n",
              "       -4.10170848e-08, -1.33574680e-08,  3.04587182e-08,  6.44620979e-09,\n",
              "       -7.14869657e-08,  5.69777683e-08,  3.97159425e-08, -5.20564969e-09,\n",
              "        2.48102037e-08, -4.06116520e-13], dtype=float32)"
            ]
          },
          "metadata": {},
          "execution_count": 22
        }
      ]
    },
    {
      "cell_type": "code",
      "source": [
        "adata.varm['PCs'][0].argsort()[::-1]\n",
        "'''\n",
        "sort the loadings from biggest to smallest\n",
        "'''\n",
        "print(adata.varm['PCs'][0])"
      ],
      "metadata": {
        "colab": {
          "base_uri": "https://localhost:8080/"
        },
        "id": "gDh0ayzEe_po",
        "outputId": "a77a15bb-2a24-4c7c-a412-9a8f0df2ac4a"
      },
      "execution_count": null,
      "outputs": [
        {
          "output_type": "stream",
          "name": "stdout",
          "text": [
            "[-2.86019630e-09 -3.55553738e-08  2.53268766e-08  2.92100601e-08\n",
            "  1.03239755e-08 -1.56599160e-08 -4.58546801e-09 -1.22615909e-08\n",
            "  2.50473295e-08  1.38529321e-08  1.51211594e-08 -1.66797456e-08\n",
            "  4.53805562e-08  1.36498874e-08  1.50258366e-08 -2.99364089e-08\n",
            "  3.02318810e-08 -2.84826669e-08 -2.91281648e-08  5.50250423e-09\n",
            "  2.00678709e-08 -3.50738780e-08  1.61750506e-08 -2.99496179e-08\n",
            " -1.64826091e-08 -4.13934274e-08  1.34139855e-08 -5.97278031e-08\n",
            " -1.26866055e-08 -9.01220432e-09 -5.02986142e-09  1.44424055e-08\n",
            " -3.12710640e-08 -5.65175249e-08  2.97270386e-08 -5.47752528e-08\n",
            "  2.62658584e-09  8.04054068e-09 -6.44598188e-08 -5.15641085e-09\n",
            " -4.10170848e-08 -1.33574680e-08  3.04587182e-08  6.44620979e-09\n",
            " -7.14869657e-08  5.69777683e-08  3.97159425e-08 -5.20564969e-09\n",
            "  2.48102037e-08 -4.06116520e-13]\n"
          ]
        }
      ]
    },
    {
      "cell_type": "code",
      "source": [
        "pc1_gene_names = gene_names[np.abs(adata.varm['PCs'][0]).argsort()[::-1]]\n",
        "'''\n",
        "return the indices order that would place the original array values in descending order\n",
        "arr = np.array([3, 1, 5, 2, 4])\n",
        "sorted_indices = arr.argsort()[::-1]\n",
        "\n",
        "print(sorted_indices)\n",
        "[2 4 0 3 1]\n",
        "'''"
      ],
      "metadata": {
        "id": "MnnbElvtHKmR"
      },
      "execution_count": null,
      "outputs": []
    },
    {
      "cell_type": "code",
      "source": [
        "pc1_gene_names"
      ],
      "metadata": {
        "colab": {
          "base_uri": "https://localhost:8080/"
        },
        "id": "O-BnkPEGSp7A",
        "outputId": "bebd941c-8b8d-43f3-ac6f-261d383d604e"
      },
      "execution_count": null,
      "outputs": [
        {
          "output_type": "execute_result",
          "data": {
            "text/plain": [
              "Index(['TNFRSF4', 'C1orf159', 'NOC2L', 'SDF4', 'ISG15', 'AGRN',\n",
              "       'RP4-669L17.10', 'RP11-54O7.3', 'RP11-465B22.8', 'B3GALT6', 'FAM138A',\n",
              "       'FAM41C', 'HES4', 'TTLL10', 'OR4F16', 'RP11-54O7.1', 'RP5-857K21.2',\n",
              "       'RP11-54O7.11', 'RP11-34P13.7', 'RP11-206L10.9', 'RP11-206L10.4',\n",
              "       'OR4F5', 'FO538757.2', 'RP5-902P8.12', 'LINC00115', 'RP4-669L17.2',\n",
              "       'RP11-54O7.2', 'RP11-54O7.16', 'RP11-34P13.14', 'RP5-857K21.15',\n",
              "       'RP5-857K21.4', 'RP11-54O7.17', 'AP006222.2', 'OR4F29', 'SAMD11',\n",
              "       'TTLL10-AS1', 'KLHL17', 'FO538757.3', 'RP11-34P13.8', 'PLEKHN1',\n",
              "       'RNF223', 'TNFRSF18', 'FAM87B', 'FAM132A', 'LINC01342', 'PERM1',\n",
              "       'RP11-34P13.9', 'RP11-34P13.3', 'RP11-54O7.18', 'UBE2J2'],\n",
              "      dtype='object')"
            ]
          },
          "metadata": {},
          "execution_count": 32
        }
      ]
    },
    {
      "cell_type": "code",
      "source": [
        "adata.uns['pca']"
      ],
      "metadata": {
        "colab": {
          "base_uri": "https://localhost:8080/"
        },
        "id": "jouBQj_dHSIR",
        "outputId": "c3f2ba6f-4930-42c3-9457-eed245d05dbd"
      },
      "execution_count": null,
      "outputs": [
        {
          "output_type": "execute_result",
          "data": {
            "text/plain": [
              "{'params': {'zero_center': True, 'use_highly_variable': False},\n",
              " 'variance': array([2.86027250e+05, 1.07236357e+04, 3.64267725e+03, 3.28330444e+03,\n",
              "        2.56294507e+03, 1.24010059e+03, 9.19974915e+02, 8.73718201e+02,\n",
              "        8.23083374e+02, 5.49964844e+02, 4.93359802e+02, 4.44304749e+02,\n",
              "        4.04402252e+02, 3.59492249e+02, 3.33216217e+02, 3.07802399e+02,\n",
              "        3.01226746e+02, 2.61203400e+02, 2.45786163e+02, 2.30405014e+02,\n",
              "        2.13772430e+02, 2.06002640e+02, 1.96555832e+02, 1.71048492e+02,\n",
              "        1.58814651e+02, 1.51025528e+02, 1.41527954e+02, 1.32132965e+02,\n",
              "        1.27278320e+02, 1.26421318e+02, 1.21124084e+02, 1.18614571e+02,\n",
              "        1.10573555e+02, 1.03022415e+02, 1.01876709e+02, 9.69820099e+01,\n",
              "        9.24266968e+01, 9.15720596e+01, 8.48167267e+01, 8.33982925e+01,\n",
              "        8.31243134e+01, 7.99980698e+01, 7.82025299e+01, 7.66367340e+01,\n",
              "        7.39444046e+01, 7.25765076e+01, 7.13690567e+01, 6.89377823e+01,\n",
              "        6.79450989e+01, 6.60181961e+01], dtype=float32),\n",
              " 'variance_ratio': array([8.6415833e-01, 3.2398727e-02, 1.1005419e-02, 9.9196667e-03,\n",
              "        7.7432841e-03, 3.7466474e-03, 2.7794694e-03, 2.6397165e-03,\n",
              "        2.4867363e-03, 1.6615784e-03, 1.4905607e-03, 1.3423534e-03,\n",
              "        1.2217981e-03, 1.0861141e-03, 1.0067277e-03, 9.2994637e-04,\n",
              "        9.1007975e-04, 7.8915939e-04, 7.4258016e-04, 6.9610996e-04,\n",
              "        6.4585882e-04, 6.2238437e-04, 5.9384329e-04, 5.1677937e-04,\n",
              "        4.7981794e-04, 4.5628508e-04, 4.2759060e-04, 3.9920604e-04,\n",
              "        3.8453896e-04, 3.8194974e-04, 3.6594551e-04, 3.5836364e-04,\n",
              "        3.3406977e-04, 3.1125592e-04, 3.0779446e-04, 2.9300639e-04,\n",
              "        2.7924366e-04, 2.7666159e-04, 2.5625210e-04, 2.5196665e-04,\n",
              "        2.5113890e-04, 2.4169375e-04, 2.3626898e-04, 2.3153833e-04,\n",
              "        2.2340415e-04, 2.1927139e-04, 2.1562338e-04, 2.0827791e-04,\n",
              "        2.0527877e-04, 1.9945712e-04], dtype=float32)}"
            ]
          },
          "metadata": {},
          "execution_count": 19
        }
      ]
    },
    {
      "cell_type": "code",
      "source": [
        "pca = pd.DataFrame(adata.obsm['X_pca']) #assign pca data into X_pca\n",
        "#adata = adata.uns['pca']\n",
        "adata.obsm['X_pca'] = sc.AnnData(pca)\n",
        "print(\"pca check: \" + str(adata.obs))\n",
        "adata.write(filename)\n",
        "    return adata"
      ],
      "metadata": {
        "id": "dVHUBKMyGhMQ"
      },
      "execution_count": null,
      "outputs": []
    },
    {
      "cell_type": "markdown",
      "metadata": {
        "id": "ZL1MOFWyg1X4"
      },
      "source": [
        "####**make names unique**\n",
        "Makes the index unique by appending a number string to each duplicate index element: ‘1’, ‘2’, etc. [link text](https://anndata.readthedocs.io/en/latest/generated/anndata.AnnData.var_names_make_unique.html)"
      ]
    },
    {
      "cell_type": "code",
      "execution_count": null,
      "metadata": {
        "id": "dlyM2F9Pg4H3"
      },
      "outputs": [],
      "source": [
        "adata.var_names_make_unique()  # this is unnecessary if using `var_names='gene_ids'` in `sc.read_10x_mtx`"
      ]
    },
    {
      "cell_type": "code",
      "execution_count": null,
      "metadata": {
        "id": "BqT5xlh-g6PT",
        "colab": {
          "base_uri": "https://localhost:8080/"
        },
        "outputId": "b501323b-a56e-4b60-8cf0-e9a101b58c66"
      },
      "outputs": [
        {
          "output_type": "execute_result",
          "data": {
            "text/plain": [
              "Index(['RP11-34P13.3', 'FAM138A', 'OR4F5', 'RP11-34P13.7', 'RP11-34P13.8',\n",
              "       'RP11-34P13.14', 'RP11-34P13.9', 'FO538757.3', 'FO538757.2',\n",
              "       'AP006222.2',\n",
              "       ...\n",
              "       'RNU2-71P', 'RNA5SP252', 'AC116533.2', 'AC114494.1', 'RN7SL424P',\n",
              "       'RN7SL739P', 'MIR4502', 'RNU4-10P', 'RN7SL865P', 'RNU6-191P'],\n",
              "      dtype='object', length=41625)"
            ]
          },
          "metadata": {},
          "execution_count": 8
        }
      ],
      "source": [
        "adata.var_names #this gives gene names!"
      ]
    },
    {
      "cell_type": "code",
      "execution_count": null,
      "metadata": {
        "id": "s7iCEQBCg-Ep",
        "colab": {
          "base_uri": "https://localhost:8080/"
        },
        "outputId": "260406d7-703d-40d9-e49e-4c638c9a2099"
      },
      "outputs": [
        {
          "output_type": "execute_result",
          "data": {
            "text/plain": [
              "Index(['0', '1', '2', '3', '4', '5', '6', '7', '8', '9',\n",
              "       ...\n",
              "       '33496', '33497', '33498', '33499', '33500', '33501', '33502', '33503',\n",
              "       '33504', '33505'],\n",
              "      dtype='object', length=26535)"
            ]
          },
          "metadata": {},
          "execution_count": 9
        }
      ],
      "source": [
        "adata.obs_names"
      ]
    },
    {
      "cell_type": "markdown",
      "metadata": {
        "id": "juNDxA_Jhckp"
      },
      "source": [
        "## Preprocessing"
      ]
    },
    {
      "cell_type": "markdown",
      "metadata": {
        "id": "P-PEGOMxhecj"
      },
      "source": [
        "####**highly expressed genes (Optional)**\n",
        "Show those genes that yield the highest fraction of counts in each single cell, across all cells."
      ]
    },
    {
      "cell_type": "code",
      "execution_count": null,
      "metadata": {
        "id": "kWKewXu6hb0f",
        "colab": {
          "base_uri": "https://localhost:8080/"
        },
        "outputId": "80141b98-70df-4bd4-fa7c-db37d2e72372"
      },
      "outputs": [
        {
          "output_type": "stream",
          "name": "stdout",
          "text": [
            "Looking in indexes: https://pypi.org/simple, https://us-python.pkg.dev/colab-wheels/public/simple/\n",
            "Requirement already satisfied: matplotlib==3.1.3 in /usr/local/lib/python3.10/dist-packages (3.1.3)\n",
            "Requirement already satisfied: cycler>=0.10 in /usr/local/lib/python3.10/dist-packages (from matplotlib==3.1.3) (0.11.0)\n",
            "Requirement already satisfied: kiwisolver>=1.0.1 in /usr/local/lib/python3.10/dist-packages (from matplotlib==3.1.3) (1.4.4)\n",
            "Requirement already satisfied: pyparsing!=2.0.4,!=2.1.2,!=2.1.6,>=2.0.1 in /usr/local/lib/python3.10/dist-packages (from matplotlib==3.1.3) (3.0.9)\n",
            "Requirement already satisfied: python-dateutil>=2.1 in /usr/local/lib/python3.10/dist-packages (from matplotlib==3.1.3) (2.8.2)\n",
            "Requirement already satisfied: numpy>=1.11 in /usr/local/lib/python3.10/dist-packages (from matplotlib==3.1.3) (1.22.4)\n",
            "Requirement already satisfied: six>=1.5 in /usr/local/lib/python3.10/dist-packages (from python-dateutil>=2.1->matplotlib==3.1.3) (1.16.0)\n"
          ]
        }
      ],
      "source": [
        "from numpy import inf\n",
        "!pip install matplotlib==3.1.3\n",
        "import scanpy as sc\n",
        "import seaborn as sns"
      ]
    },
    {
      "cell_type": "markdown",
      "metadata": {
        "id": "oONnbRlKue2Z"
      },
      "source": [
        "Show those genes that yield the highest fraction of counts in each single cell, across all cells. Can change the parameter `n_top` to any number of genes you want."
      ]
    },
    {
      "cell_type": "code",
      "execution_count": null,
      "metadata": {
        "id": "BtmZyoJNhpqe",
        "colab": {
          "base_uri": "https://localhost:8080/",
          "height": 263
        },
        "outputId": "249f82f9-b516-4b45-8370-3d4122e4b52d"
      },
      "outputs": [
        {
          "output_type": "stream",
          "name": "stdout",
          "text": [
            "normalizing counts per cell\n",
            "    finished (0:00:04)\n"
          ]
        },
        {
          "output_type": "display_data",
          "data": {
            "text/plain": [
              "<Figure size 400x200 with 1 Axes>"
            ],
            "image/png": "[encoded data removed]"
          },
          "metadata": {
            "image/png": {
              "width": 404,
              "height": 211
            }
          }
        }
      ],
      "source": [
        "#plot the highly expressed genes.\n",
        "sc.pl.highest_expr_genes(adata, n_top=5, )"
      ]
    },
    {
      "cell_type": "markdown",
      "metadata": {
        "id": "Nf18gSnEh1QZ"
      },
      "source": [
        "####**Basic filtering:**"
      ]
    },
    {
      "cell_type": "markdown",
      "metadata": {
        "id": "beLGnBZAh7DP"
      },
      "source": [
        "Let's assemble some information about mitochondrial genes, which are important for quality control.\n",
        "\n",
        "Citing from \"Simple Single Cell\" workflows [(Lun, McCarthy & Marioni, 2017)](https://master.bioconductor.org/packages/release/workflows/html/simpleSingleCell.html#examining-gene-level-metrics):\n",
        "\n",
        "> High proportions are indicative of poor-quality cells (Islam et al. 2014; Ilicic et al. 2016), possibly because of loss of cytoplasmic RNA from perforated cells. The reasoning is that mitochondria are larger than individual transcript molecules and less likely to escape through tears in the cell membrane."
      ]
    },
    {
      "cell_type": "markdown",
      "metadata": {
        "id": "XDQi605Mi8Ri"
      },
      "source": [
        "With `pp.calculate_qc_metrics`, we can compute many metrics very efficiently."
      ]
    },
    {
      "cell_type": "markdown",
      "metadata": {
        "id": "5p_SMMWbvkYK"
      },
      "source": [
        "Generated some qc metrics plot."
      ]
    },
    {
      "cell_type": "code",
      "source": [
        "def annotate_mt_genes(adata):\n",
        "  adata.var['mt'] = adata.var_names.str.startswith('MT-')  # annotate the group of mitochondrial genes as 'mt'\n",
        "  sc.pp.calculate_qc_metrics(adata, qc_vars=['mt'], percent_top=None, log1p=False, inplace=True)"
      ],
      "metadata": {
        "id": "mp2sWuhLKc_x"
      },
      "execution_count": null,
      "outputs": []
    },
    {
      "cell_type": "code",
      "source": [
        "def qc_metrics_plot(adata):\n",
        "  '''\n",
        "  This function plots the jointplot and histogram\n",
        "  '''\n",
        "  adata.var[\"mito\"] = adata.var_names.str.startswith(\"MT-\")\n",
        "  sc.pp.calculate_qc_metrics(adata, qc_vars=[\"mito\"], inplace=True)\n",
        "  sns.jointplot(\n",
        "      data=adata.obs,\n",
        "      x=\"log1p_total_counts\",\n",
        "      y=\"log1p_n_genes_by_counts\",\n",
        "      kind=\"hex\",\n",
        "  )\n",
        "  #sns.histplot(adata.obs[\"pct_counts_mito\"])"
      ],
      "metadata": {
        "id": "ohtapcULKOmr"
      },
      "execution_count": null,
      "outputs": []
    },
    {
      "cell_type": "code",
      "source": [
        "def violin_plot(adata):\n",
        "    sc.pl.violin(adata, ['n_genes_by_counts', 'total_counts', 'pct_counts_mt'],\n",
        "                 jitter=0.4, multi_panel=True)"
      ],
      "metadata": {
        "id": "xsX8G3zYLJFf"
      },
      "execution_count": null,
      "outputs": []
    },
    {
      "cell_type": "code",
      "source": [
        "def scatter_plot(adata):\n",
        "    #sc.pl.scatter(adata, x='total_counts', y='pct_counts_mt')\n",
        "    sc.pl.scatter(adata, x='total_counts', y='n_genes_by_counts')\n",
        "    sc.pl.scatter(adata, x='n_genes_by_counts', y='pct_counts_mt')"
      ],
      "metadata": {
        "id": "G92xIHz7L3V5"
      },
      "execution_count": null,
      "outputs": []
    },
    {
      "cell_type": "code",
      "source": [
        "def filtering(adata, min_genes):\n",
        "    adata.var_names_make_unique()\n",
        "    sc.pp.filter_cells(adata,min_genes)  # Minimum number of genes expressed required for a cell to pass filtering.\n",
        "    sc.pp.filter_genes(adata,min_cells=3)  # Minimum number of cells expressed required for a gene to pass filtering.\n",
        "    adata.var['mt'] = adata.var_names.str.startswith('MT-')  # annotate the group of mitochondrial genes as 'mt'\n",
        "    sc.pp.calculate_qc_metrics(adata, qc_vars=['mt'], percent_top=None, log1p=False, inplace=True)\n",
        "    sc.pl.highest_expr_genes(adata, n_top=5, )\n",
        "    return adata"
      ],
      "metadata": {
        "id": "2OHJpMgiMAzX"
      },
      "execution_count": null,
      "outputs": []
    },
    {
      "cell_type": "code",
      "source": [
        "def mito_genes_filter(adata, num_genes, pct_mt):\n",
        "    '''this function filters out the unnecessary mt genes, keep at 2500 HVGs when wanted'''\n",
        "    #normally, num_genes = 7000, pct_mt = 5\n",
        "    adata = adata[adata.obs.n_genes_by_counts < num_genes, :]  # wants all the rows with number of counts <7000\n",
        "    adata = adata[adata.obs.pct_counts_mt < pct_mt, :]  # also has to have mt<5\n",
        "    return adata"
      ],
      "metadata": {
        "id": "k2qIXAySNBQX"
      },
      "execution_count": null,
      "outputs": []
    },
    {
      "cell_type": "code",
      "source": [
        "def normalize(adata):\n",
        "    sc.pp.normalize_total(adata, target_sum=1e4)\n",
        "    return adata"
      ],
      "metadata": {
        "id": "3CPCcUQ3Nsiq"
      },
      "execution_count": null,
      "outputs": []
    },
    {
      "cell_type": "code",
      "source": [
        "def logarithmize(adata):\n",
        "    sc.pp.log1p(adata)\n",
        "    return adata"
      ],
      "metadata": {
        "id": "-RJX7gemNvCE"
      },
      "execution_count": null,
      "outputs": []
    },
    {
      "cell_type": "code",
      "source": [
        "def HVGs(adata):\n",
        "    '''Find out the HVGs (without specific number of it) and store in the variable_genes parameter'''\n",
        "    sc.pp.highly_variable_genes(adata, min_mean=0.0125, max_mean=3, min_disp=0.5)\n",
        "    adata.raw = adata\n",
        "    return adata"
      ],
      "metadata": {
        "id": "xdyFLdLZNyVw"
      },
      "execution_count": null,
      "outputs": []
    },
    {
      "cell_type": "code",
      "source": [
        "def HVGs_2500(adata):\n",
        "    '''gives the 2500 most variable genes'''\n",
        "    sc.pp.highly_variable_genes(adata, n_top_genes=2500, min_mean=0.0125, max_mean=3, min_disp=0.5)  # B\n",
        "    adata.raw = adata\n",
        "    return adata"
      ],
      "metadata": {
        "id": "YUFFXlS7Nz4M"
      },
      "execution_count": null,
      "outputs": []
    },
    {
      "cell_type": "code",
      "source": [
        "def plotHVGs(adata):\n",
        "    sc.pl.highly_variable_genes(adata)"
      ],
      "metadata": {
        "id": "fMkGBcY4ONvq"
      },
      "execution_count": null,
      "outputs": []
    },
    {
      "cell_type": "code",
      "source": [
        "def filter_by_HVGs(adata):\n",
        "    adata = adata[:, adata.var.highly_variable]  # 2500 highly variable genes\n",
        "    print(\"dimension check:\" + str(adata))\n",
        "    return adata"
      ],
      "metadata": {
        "id": "WbZQwYavOPNr"
      },
      "execution_count": null,
      "outputs": []
    },
    {
      "cell_type": "code",
      "source": [
        "def regress_out(adata):\n",
        "    sc.pp.regress_out(adata, ['total_counts', 'pct_counts_mt'])\n",
        "    return adata"
      ],
      "metadata": {
        "id": "HZxb5yYhORQa"
      },
      "execution_count": null,
      "outputs": []
    },
    {
      "cell_type": "code",
      "source": [
        "def scale(adata):\n",
        "    #max_value defulat = 10\n",
        "    sc.pp.scale(adata, max_value=10)\n",
        "    return adata"
      ],
      "metadata": {
        "id": "CKmuyQCWOUd5"
      },
      "execution_count": null,
      "outputs": []
    },
    {
      "cell_type": "code",
      "source": [
        "'''This is the only mandatory part'''\n",
        "def PCA(adata, n_comps, filename):\n",
        "    #set the number of PCs you want in n_comps\n",
        "    sc.tl.pca(adata, n_comps, svd_solver='arpack')\n",
        "    pca = pd.DataFrame(adata.obsm['X_pca']) #assign pca data into X_pca\n",
        "    #adata = adata.uns['pca']\n",
        "    print('here')\n",
        "    print(pca)\n",
        "    adata.obsm['X_pca'] = sc.AnnData(pca)\n",
        "    print(\"pca check: \" + str(adata.obs))\n",
        "    adata.write(filename)\n",
        "    return adata"
      ],
      "metadata": {
        "id": "O8oWfkNFOYVR"
      },
      "execution_count": null,
      "outputs": []
    },
    {
      "cell_type": "markdown",
      "source": [
        "####**Create Method 1 Object**"
      ],
      "metadata": {
        "id": "u2Q7O6e7RYg_"
      }
    },
    {
      "cell_type": "code",
      "source": [
        "m2_obj"
      ],
      "metadata": {
        "colab": {
          "base_uri": "https://localhost:8080/",
          "height": 166
        },
        "id": "xEqOUkkCVnfZ",
        "outputId": "f5a4a0d9-8bc4-4c0e-9928-2ab66af657e9"
      },
      "execution_count": null,
      "outputs": [
        {
          "output_type": "error",
          "ename": "NameError",
          "evalue": "ignored",
          "traceback": [
            "\u001b[0;31m---------------------------------------------------------------------------\u001b[0m",
            "\u001b[0;31mNameError\u001b[0m                                 Traceback (most recent call last)",
            "\u001b[0;32m<ipython-input-27-532da1d5d46f>\u001b[0m in \u001b[0;36m<cell line: 1>\u001b[0;34m()\u001b[0m\n\u001b[0;32m----> 1\u001b[0;31m \u001b[0mm2_obj\u001b[0m\u001b[0;34m\u001b[0m\u001b[0;34m\u001b[0m\u001b[0m\n\u001b[0m",
            "\u001b[0;31mNameError\u001b[0m: name 'm2_obj' is not defined"
          ]
        }
      ]
    },
    {
      "cell_type": "code",
      "source": [
        "m2_obj = sc.read_h5ad(\"drive/MyDrive/scRNA ML classifier/data_objects_May_2022/new_anndata.h5ad\")\n",
        "m2_obj.var_names_make_unique()  # this is unnecessary if using `var_names='gene_ids'` in `sc.read_10x_mtx`\n",
        "\n",
        "annotate_mt_genes(m2_obj)\n",
        "# qc_metrics_plot(m2_obj)\n",
        "# violin_plot(m2_obj)\n",
        "# scatter_plot(m2_obj)\n",
        "print(\"before cell filter: \", m2_obj.obs.shape, m2_obj.X.shape)\n",
        "new = filtering(m2_obj, 600)\n",
        "print(\"after cell filter: \", new.obs.shape, new.X.shape)\n",
        "new = mito_genes_filter(new, 7000, 6)\n",
        "print(\"after mito filter: \", new.obs.shape, new.X.shape)\n",
        "\n",
        "new = normalize(new)\n",
        "new = logarithmize(new)\n",
        "print('size before HVGs: ' + str(new.X.shape) + str(new.obs.shape))\n",
        "new = HVGs(new)\n",
        "print('size after HVGs: '+ str( new.X.shape) +str(new.obs.shape))\n",
        "#plotHVGs(new)\n",
        "new = regress_out(new)\n",
        "new = scale(new)\n",
        "new = PCA(new, 50, PC_ALL)\n",
        "obj = sc.AnnData(X=new.X.copy(),\n",
        "                  obs=new.obs.copy(),\n",
        "                  var=new.var.copy(),\n",
        "                  uns=new.uns.copy(),\n",
        "                  obsm=new.obsm.copy(),\n",
        "                  varm=new.varm.copy(),\n",
        "                  layers=new.layers.copy(),\n",
        "                  #raw=new.raw.copy(),\n",
        "                  dtype=\"float32\",\n",
        "                  shape=None,\n",
        "                  # filename = NULL,\n",
        "                  # filemode = NULL,\n",
        "                  obsp=new.obsp.copy(),\n",
        "                  varp=new.varp\n",
        "                  )\n",
        "# A random line that I found necessary for the object to work.\n",
        "#obj.__dict__['_raw'].__dict__['_var'] = new.__dict__['_raw'].__dict__['_var'].rename(\n",
        "    #columns={'_index': 'features'})\n",
        "obj.write(PC_ALL)"
      ],
      "metadata": {
        "id": "WBlksKBrRbtY",
        "colab": {
          "base_uri": "https://localhost:8080/",
          "height": 595
        },
        "outputId": "42f3b186-fad4-4b1a-811b-b210d82ed678"
      },
      "execution_count": null,
      "outputs": [
        {
          "output_type": "stream",
          "name": "stdout",
          "text": [
            "before cell filter:  (26535, 12) (26535, 41625)\n",
            "filtered out 10886 genes that are detected in less than 3 cells\n",
            "normalizing counts per cell\n",
            "    finished (0:00:01)\n"
          ]
        },
        {
          "output_type": "display_data",
          "data": {
            "text/plain": [
              "<Figure size 400x200 with 1 Axes>"
            ],
            "image/png": "[encoded data removed]"
          },
          "metadata": {
            "image/png": {
              "width": 404,
              "height": 211
            }
          }
        },
        {
          "output_type": "stream",
          "name": "stdout",
          "text": [
            "after cell filter:  (26535, 13) (26535, 30739)\n",
            "after mito filter:  (25520, 13) (25520, 30739)\n"
          ]
        },
        {
          "output_type": "stream",
          "name": "stderr",
          "text": [
            "/usr/local/lib/python3.10/dist-packages/scanpy/preprocessing/_normalization.py:170: UserWarning: Received a view of an AnnData. Making a copy.\n",
            "  view_to_actual(adata)\n"
          ]
        },
        {
          "output_type": "stream",
          "name": "stdout",
          "text": [
            "normalizing counts per cell\n",
            "    finished (0:00:00)\n",
            "size before HVGs: (25520, 30739)(25520, 13)\n",
            "extracting highly variable genes\n",
            "    finished (0:00:04)\n",
            "--> added\n",
            "    'highly_variable', boolean vector (adata.var)\n",
            "    'means', float vector (adata.var)\n",
            "    'dispersions', float vector (adata.var)\n",
            "    'dispersions_norm', float vector (adata.var)\n",
            "size after HVGs: (25520, 30739)(25520, 13)\n",
            "regressing out ['total_counts', 'pct_counts_mt']\n"
          ]
        }
      ]
    },
    {
      "cell_type": "markdown",
      "source": [
        "####**Create Method 2 Object**"
      ],
      "metadata": {
        "id": "pVKGC6ijXCtj"
      }
    },
    {
      "cell_type": "markdown",
      "source": [
        "####**Create Method 3 Object**"
      ],
      "metadata": {
        "id": "xbVBFKByOq2b"
      }
    },
    {
      "cell_type": "code",
      "source": [
        "m1_obj = filtering(adata, 600)\n",
        "m1_obj = mito_genes_filter(m1_obj, 7000, 5)\n",
        "m1_obj = normalize(m1_obj)\n",
        "m1_obj = logarithmize(m1_obj)\n",
        "m1_obj = HVGs_2500(m1_obj)\n",
        "m1_obj = filter_by_HVGs(m1_obj)\n",
        "m1_obj = regress_out(m1_obj)\n",
        "m1_obj = scale(m1_obj)\n",
        "obj = sc.AnnData(X=m1_obj.X.copy(),\n",
        "                  obs=m1_obj.obs.copy(),\n",
        "                  var=m1_obj.var.copy(),\n",
        "                  uns=m1_obj.uns.copy(),\n",
        "                  obsm=m1_obj.obsm.copy(),\n",
        "                  varm=m1_obj.varm.copy(),\n",
        "                  layers=m1_obj.layers.copy(),\n",
        "                  raw=m1_obj.raw.copy(),\n",
        "                  dtype=\"float32\",\n",
        "                  shape=None,\n",
        "                  # filename = NULL,\n",
        "                  # filemode = NULL,\n",
        "                  obsp=m1_obj.obsp.copy(),\n",
        "                  varp=m1_obj.varp\n",
        "                  )\n",
        "obj.__dict__['_raw'].__dict__['_var'] = m1_obj.__dict__['_raw'].__dict__['_var'].rename(\n",
        "    columns={'_index': 'features'})"
      ],
      "metadata": {
        "id": "pzuFOLiwOzK8"
      },
      "execution_count": null,
      "outputs": []
    },
    {
      "cell_type": "code",
      "source": [
        "obj.write(HVGs)"
      ],
      "metadata": {
        "id": "_bY9MJClSGhC"
      },
      "execution_count": null,
      "outputs": []
    },
    {
      "cell_type": "markdown",
      "source": [
        "##Old ones"
      ],
      "metadata": {
        "id": "sQsJfxXkTPLw"
      }
    },
    {
      "cell_type": "markdown",
      "metadata": {
        "id": "NgO1sFS6jc5P"
      },
      "source": [
        "Remove cells that have too many ***mitochondrial genes*** expressed or too many ***total counts***:"
      ]
    },
    {
      "cell_type": "code",
      "execution_count": null,
      "metadata": {
        "id": "dBCibxXqjeRS"
      },
      "outputs": [],
      "source": [
        "sc.pl.scatter(adata, x='total_counts', y='pct_counts_mt')\n",
        "sc.pl.scatter(adata, x='total_counts', y='n_genes_by_counts')\n",
        "sc.pl.scatter(adata, x='n_genes_by_counts', y='pct_counts_mt')"
      ]
    },
    {
      "cell_type": "code",
      "source": [
        "#qc params for DAN: min genes/cell = 1200, cutoff a 12500, pect mito - 2"
      ],
      "metadata": {
        "id": "fOhoY6md84ah"
      },
      "execution_count": null,
      "outputs": []
    },
    {
      "cell_type": "code",
      "source": [
        "#qc params for MG: min genes/cell = 666, cutoff a 5000, pect mito - 6"
      ],
      "metadata": {
        "id": "g6XpFFNd0zrt"
      },
      "execution_count": null,
      "outputs": []
    },
    {
      "cell_type": "markdown",
      "metadata": {
        "id": "Zdd8QSMVjha1"
      },
      "source": [
        "Actually do the filtering by slicing the `AnnData` object."
      ]
    },
    {
      "cell_type": "code",
      "source": [
        "adata"
      ],
      "metadata": {
        "id": "qemT2-G3PtuM"
      },
      "execution_count": null,
      "outputs": []
    },
    {
      "cell_type": "code",
      "execution_count": null,
      "metadata": {
        "id": "UEsKo7_2h2vY"
      },
      "outputs": [],
      "source": [
        "sc.pp.filter_cells(adata, min_genes=600) #Minimum number of genes expressed required for a cell to pass filtering.\n",
        "sc.pp.filter_genes(adata, min_cells=3) #Minimum number of cells expressed required for a gene to pass filtering."
      ]
    },
    {
      "cell_type": "code",
      "execution_count": null,
      "metadata": {
        "id": "qzFEzqGgjjjD"
      },
      "outputs": [],
      "source": [
        "adata = adata[adata.obs.n_genes_by_counts < 7000, :] #eliminate cells with number of genes < 7000\n",
        "adata = adata[adata.obs.pct_counts_mt < 5, :] #also has to have % mt genes < 6"
      ]
    },
    {
      "cell_type": "code",
      "execution_count": null,
      "metadata": {
        "id": "k58ALr0Rj8un"
      },
      "outputs": [],
      "source": [
        "#Dimension check. It has even fewer features (n_obs × n_vars = 7491 × 30739).\n",
        "adata"
      ]
    },
    {
      "cell_type": "markdown",
      "metadata": {
        "id": "Nx6couJKkJD1"
      },
      "source": [
        "Total-count normalize (library-size correct) the data matrix $\\mathbf{X}$ to 10,000 reads per cell, so that counts become comparable among cells."
      ]
    },
    {
      "cell_type": "code",
      "execution_count": null,
      "metadata": {
        "id": "VKaxFCyukR6Q"
      },
      "outputs": [],
      "source": [
        "sc.pp.normalize_total(adata, target_sum=1e4)"
      ]
    },
    {
      "cell_type": "markdown",
      "metadata": {
        "id": "Rvt3FPqlkXjw"
      },
      "source": [
        "Logarithmize the data:"
      ]
    },
    {
      "cell_type": "code",
      "execution_count": null,
      "metadata": {
        "id": "-ywFevzCkZZ_"
      },
      "outputs": [],
      "source": [
        "sc.pp.log1p(adata)"
      ]
    },
    {
      "cell_type": "markdown",
      "metadata": {
        "id": "4iqD3-nVkbfg"
      },
      "source": [
        "Identify highly-variable genes."
      ]
    },
    {
      "cell_type": "markdown",
      "metadata": {
        "id": "VWWF8bd47foi"
      },
      "source": [
        "**Note** <div>\n",
        "Select one to run: <div>\n",
        "Option A: no n_top_genes assigned ` ->` use the 3799 highly variable genes for PCA. File stored as `pca_in_obsm` <div>\n",
        "Option B: Cutoff at n_top_genes = 2500 ` ->` use the top 2500 highly variable genes for PCA. File stored as `pca_in_obsm_2500` <div>\n",
        "Option C: Use all genes after observations filtering (7491 observations * 30739 genes) -> then take 50 PCs\n"
      ]
    },
    {
      "cell_type": "code",
      "execution_count": null,
      "metadata": {
        "id": "s5QT-Cazkauz"
      },
      "outputs": [],
      "source": [
        "sc.pp.highly_variable_genes(adata, min_mean=0.0125, max_mean=3, min_disp=0.5) #m1"
      ]
    },
    {
      "cell_type": "code",
      "source": [
        "adata.uns['hvg']"
      ],
      "metadata": {
        "id": "5SwBRvDaSN0l"
      },
      "execution_count": null,
      "outputs": []
    },
    {
      "cell_type": "code",
      "execution_count": null,
      "metadata": {
        "id": "DPczAjTR0UDB"
      },
      "outputs": [],
      "source": [
        "sc.pp.highly_variable_genes(adata, n_top_genes = 2500, min_mean=0.0125, max_mean=3, min_disp=0.5) #m2, m3: create a field in AnnData structure that holds the hvgs"
      ]
    },
    {
      "cell_type": "markdown",
      "metadata": {
        "id": "QOESHf1jkkn5"
      },
      "source": [
        "Set the `.raw` attribute of the AnnData object to the normalized and logarithmized raw gene expression for later use in differential testing and visualizations of gene expression. This simply freezes the state of the AnnData object."
      ]
    },
    {
      "cell_type": "markdown",
      "metadata": {
        "id": "rtUOBcKmkmko"
      },
      "source": [
        "<div class=\"alert alert-info\">\n",
        "\n",
        "**Note**\n",
        "\n",
        "You can get back an `AnnData` of the object in `.raw` by calling `.raw.to_adata()`.\n",
        "\n",
        "</div>    "
      ]
    },
    {
      "cell_type": "code",
      "execution_count": null,
      "metadata": {
        "id": "k_Fc5XSzkqj0"
      },
      "outputs": [],
      "source": [
        "adata.raw = adata"
      ]
    },
    {
      "cell_type": "markdown",
      "metadata": {
        "id": "OxCR2W9-kveL"
      },
      "source": [
        "<div class=\"alert alert-info\">\n",
        "\n",
        "**Note**\n",
        "    \n",
        "If you don't proceed below with correcting the data with `sc.pp.regress_out` and scaling it via `sc.pp.scale`, you can also get away without using `.raw` at all.\n",
        "\n",
        "The result of the previous highly-variable-genes detection is stored as an annotation in `.var.highly_variable` and auto-detected by PCA and hence, `sc.pp.neighbors` and subsequent manifold/graph tools. In that case, the step *actually do the filtering* below is unnecessary, too.\n",
        "\n",
        "</div>"
      ]
    },
    {
      "cell_type": "markdown",
      "metadata": {
        "id": "khFziPv2kxT8"
      },
      "source": [
        "Actually do the filtering"
      ]
    },
    {
      "cell_type": "code",
      "execution_count": null,
      "metadata": {
        "id": "siRPwq5Jk3Nm"
      },
      "outputs": [],
      "source": [
        "adata = adata[:, adata.var.highly_variable] #m2, m3"
      ]
    },
    {
      "cell_type": "markdown",
      "metadata": {
        "id": "U_YJfMaZlDSp"
      },
      "source": [
        "Regress out effects of total counts per cell and the percentage of mitochondrial genes expressed. Scale the data to unit variance."
      ]
    },
    {
      "cell_type": "code",
      "execution_count": null,
      "metadata": {
        "id": "T8v7wO7BlEpr"
      },
      "outputs": [],
      "source": [
        "sc.pp.regress_out(adata, ['total_counts', 'pct_counts_mt'])"
      ]
    },
    {
      "cell_type": "code",
      "execution_count": null,
      "metadata": {
        "id": "iPwy9az6lUBj"
      },
      "outputs": [],
      "source": [
        "adata.obs.total_counts #check that the total counts are normalized & regressed"
      ]
    },
    {
      "cell_type": "markdown",
      "metadata": {
        "id": "9E7ZU4n3lcJK"
      },
      "source": [
        "Scale each gene to unit variance. Clip values exceeding standard deviation 10."
      ]
    },
    {
      "cell_type": "code",
      "execution_count": null,
      "metadata": {
        "id": "XSS9Ft3Ald1q"
      },
      "outputs": [],
      "source": [
        "sc.pp.scale(adata, max_value=10)"
      ]
    },
    {
      "cell_type": "code",
      "execution_count": null,
      "metadata": {
        "id": "bMLm_-aXlhCk"
      },
      "outputs": [],
      "source": [
        "adata.X #check the X matrix to see if they have unit variance"
      ]
    },
    {
      "cell_type": "markdown",
      "metadata": {
        "id": "WJL9DUk7fS2S"
      },
      "source": [
        "**Note** <div>\n",
        "Stop here if you do not want to proceed to PCA. <div>\n",
        "*since PCA will not give you direct features*"
      ]
    },
    {
      "cell_type": "code",
      "execution_count": null,
      "metadata": {
        "id": "I7bHIkhW-iQf"
      },
      "outputs": [],
      "source": [
        "adata.write(no_pca)"
      ]
    },
    {
      "cell_type": "markdown",
      "metadata": {
        "id": "tli5OSoglurd"
      },
      "source": [
        "## Principal component analysis"
      ]
    },
    {
      "cell_type": "markdown",
      "metadata": {
        "id": "YfvCZj5RlwDC"
      },
      "source": [
        "Reduce the dimensionality of the data by running principal component analysis (PCA), which reveals the top 50 axes of variation and denoises the data. The results of will be saved in `adata.obs['X_pca']`"
      ]
    },
    {
      "cell_type": "code",
      "execution_count": null,
      "metadata": {
        "id": "VGbm6xmIlxR4"
      },
      "outputs": [],
      "source": [
        "sc.tl.pca(adata, n_comps = 50, svd_solver='arpack')"
      ]
    },
    {
      "cell_type": "code",
      "execution_count": null,
      "metadata": {
        "id": "c-8K8ZBImHdI"
      },
      "outputs": [],
      "source": [
        "pca = pd.DataFrame(adata.obsm['X_pca'])"
      ]
    },
    {
      "cell_type": "code",
      "execution_count": null,
      "metadata": {
        "id": "_YqBYtW6mOcT"
      },
      "outputs": [],
      "source": [
        "pca"
      ]
    },
    {
      "cell_type": "code",
      "execution_count": null,
      "metadata": {
        "id": "D5BXW6tAmyHL"
      },
      "outputs": [],
      "source": [
        "o = adata.uns['pca']"
      ]
    },
    {
      "cell_type": "code",
      "execution_count": null,
      "metadata": {
        "id": "CmgYQOh4owaP"
      },
      "outputs": [],
      "source": [
        "import sys"
      ]
    },
    {
      "cell_type": "code",
      "execution_count": null,
      "metadata": {
        "id": "Xx8az3qSodyw"
      },
      "outputs": [],
      "source": [
        "print(sys.getsizeof(o))\n",
        "print(len(o))\n",
        "print(o)"
      ]
    },
    {
      "cell_type": "code",
      "execution_count": null,
      "metadata": {
        "id": "fjyelNpdnBHx"
      },
      "outputs": [],
      "source": [
        "adata.varm['PCs'].shape"
      ]
    },
    {
      "cell_type": "code",
      "execution_count": null,
      "metadata": {
        "id": "8JmC730Hwqhn"
      },
      "outputs": [],
      "source": [
        "adata.obsm['X_pca'].shape"
      ]
    },
    {
      "cell_type": "code",
      "execution_count": null,
      "metadata": {
        "id": "XsCVPf7pnH10"
      },
      "outputs": [],
      "source": [
        "adata.var['features'].shape"
      ]
    },
    {
      "cell_type": "code",
      "execution_count": null,
      "metadata": {
        "id": "TAgpOLsN5Vzm"
      },
      "outputs": [],
      "source": [
        "pcadata = sc.AnnData(pca)\n",
        "print(pca)"
      ]
    },
    {
      "cell_type": "code",
      "execution_count": null,
      "metadata": {
        "id": "5W5qEZNrYys4"
      },
      "outputs": [],
      "source": [
        "# Create a file to store the processed data. This script will run PCA on adata.X, and store the result in adata.obsm.\n",
        "PC_all_gene_colab = 'write/PC_all_gene_colab.h5ad'\n",
        "PC_2500HVGs_colab = 'write/PC_2500HVGs_colab.h5ad'\n",
        "no_PC_2500HVGS_colab = 'write/no_PC_2500HVGS_colab.h5ad'"
      ]
    },
    {
      "cell_type": "code",
      "execution_count": null,
      "metadata": {
        "id": "IcjmaOHuZhdl"
      },
      "outputs": [],
      "source": [
        "adata.write(PC_all_gene_colab) #A"
      ]
    },
    {
      "cell_type": "code",
      "source": [
        "adata.obsm['X_pca'].shape"
      ],
      "metadata": {
        "id": "NzzehwT4Z4Xw"
      },
      "execution_count": null,
      "outputs": []
    },
    {
      "cell_type": "code",
      "execution_count": null,
      "metadata": {
        "id": "nwdyL5X_Yys4"
      },
      "outputs": [],
      "source": [
        "# Create a file to store the processed data. This script will run PCA on adata.X of top 2500 genes, and store the result in adata.obsm.\n",
        "pca_in_obsm_2500 = 'write/pca_in_obsm_2500.h5ad'"
      ]
    },
    {
      "cell_type": "code",
      "execution_count": null,
      "metadata": {
        "id": "ybRmC2k5Yys4"
      },
      "outputs": [],
      "source": [
        "pca_from_30739_genes = 'write/pca_from_30739_genes.h5ad'"
      ]
    },
    {
      "cell_type": "code",
      "execution_count": null,
      "metadata": {
        "id": "RiNtSoetpJLp"
      },
      "outputs": [],
      "source": [
        "pcadata.write(pca_from_30739_genes) #writing the pcadata array into file"
      ]
    },
    {
      "cell_type": "code",
      "execution_count": null,
      "metadata": {
        "id": "diEySMPuDgZL"
      },
      "outputs": [],
      "source": [
        "adata.obsm['X_pca']"
      ]
    },
    {
      "cell_type": "markdown",
      "metadata": {
        "id": "ZOceJBKipz8W"
      },
      "source": [
        "We can make a scatter plot in the PCA coordinates, but we will not use that later on."
      ]
    },
    {
      "cell_type": "code",
      "execution_count": null,
      "metadata": {
        "id": "jubINX9dp1YR"
      },
      "outputs": [],
      "source": [
        "sc.pl.pca(adata, color='CST3')"
      ]
    },
    {
      "cell_type": "markdown",
      "metadata": {
        "id": "XWOemvysp2g1"
      },
      "source": [
        "Let us inspect the contribution of single PCs to the total variance in the data. This gives us information about how many PCs we should consider in order to compute the neighborhood relations of cells, e.g. used in the clustering function  `sc.tl.louvain()` or tSNE `sc.tl.tsne()`. In our experience, often a rough estimate of the number of PCs does fine."
      ]
    },
    {
      "cell_type": "code",
      "execution_count": null,
      "metadata": {
        "id": "uCAsoNqPp4Jw"
      },
      "outputs": [],
      "source": [
        "sc.pl.pca_variance_ratio(adata, log=True)"
      ]
    },
    {
      "cell_type": "markdown",
      "metadata": {
        "id": "oWLc51H7p6b6"
      },
      "source": [
        "Save the result."
      ]
    },
    {
      "cell_type": "code",
      "execution_count": null,
      "metadata": {
        "id": "ajTq18zrp5c8"
      },
      "outputs": [],
      "source": [
        "adata.write(pca_in_obsm) #A"
      ]
    },
    {
      "cell_type": "code",
      "execution_count": null,
      "metadata": {
        "id": "6Vs1MoyZK2Hc"
      },
      "outputs": [],
      "source": [
        "adata.write(pca_in_obsm_2500) #B"
      ]
    },
    {
      "cell_type": "code",
      "execution_count": null,
      "metadata": {
        "id": "Lhbzz-qFEXz8"
      },
      "outputs": [],
      "source": [
        "adata.write(pca_from_30739_genes) #C"
      ]
    },
    {
      "cell_type": "code",
      "execution_count": null,
      "metadata": {
        "id": "VEX_y93TqUJ9"
      },
      "outputs": [],
      "source": [
        "adata"
      ]
    },
    {
      "cell_type": "code",
      "execution_count": null,
      "metadata": {
        "id": "K4A8MVOv5skK"
      },
      "outputs": [],
      "source": [
        "adata.varm['PCs'].shape"
      ]
    },
    {
      "cell_type": "code",
      "source": [
        "!git push origin master"
      ],
      "metadata": {
        "id": "ZsrOUIQnGutL"
      },
      "execution_count": null,
      "outputs": []
    }
  ],
  "metadata": {
    "accelerator": "GPU",
    "colab": {
      "machine_shape": "hm",
      "provenance": [],
      "gpuClass": "premium",
      "authorship_tag": "ABX9TyMfWLVgk00Rl2rjSlWQeCbI",
      "include_colab_link": true
    },
    "gpuClass": "premium",
    "kernelspec": {
      "display_name": "Python 3",
      "name": "python3"
    },
    "language_info": {
      "name": "python"
    }
  },
  "nbformat": 4,
  "nbformat_minor": 0
}