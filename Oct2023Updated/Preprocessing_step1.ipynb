{
  "cells": [
    {
      "cell_type": "markdown",
      "metadata": {
        "id": "view-in-github",
        "colab_type": "text"
      },
      "source": [
        "<a href=\"https://colab.research.google.com/github/jialun1221/scRNA-seq/blob/main/Preprocessing_step1.ipynb\" target=\"_parent\"><img src=\"https://colab.research.google.com/assets/colab-badge.svg\" alt=\"Open In Colab\"/></a>"
      ]
    },
    {
      "cell_type": "markdown",
      "metadata": {
        "id": "A_ORnM1dTLRw"
      },
      "source": [
        "# Preprocessing and clustering Cells\n",
        "### Part 1. Data selection"
      ]
    },
    {
      "cell_type": "markdown",
      "metadata": {
        "id": "x79TUSPbTLRx"
      },
      "source": [
        "In May 2017, this started out as a demonstration that Scanpy would allow to reproduce most of Seurat's [guided clustering tutorial](http://satijalab.org/seurat/pbmc3k_tutorial.html) ([Satija et al., 2015](https://doi.org/10.1038/nbt.3192)).\n",
        "\n",
        "We gratefully acknowledge Seurat's authors for the tutorial! In the meanwhile, we have added and removed a few pieces.\n",
        "\n",
        "The data consist of *3k PBMCs from a Healthy Donor* and are freely available from 10x Genomics ([here](http://cf.10xgenomics.com/samples/cell-exp/1.1.0/pbmc3k/pbmc3k_filtered_gene_bc_matrices.tar.gz) from this [webpage](https://support.10xgenomics.com/single-cell-gene-expression/datasets/1.1.0/pbmc3k)). On a unix system, you can uncomment and run the following to download and unpack the data. The last line creates a directory for writing processed data."
      ]
    },
    {
      "cell_type": "markdown",
      "metadata": {
        "id": "pD0A5jAdoGdP"
      },
      "source": [
        "In this notebook, we will compute ***Data Selection***. We will ***drop the cells that cotain Lewy Body Dementia***, and create a new AnnData object that contains only PD and control cells. All other features of the original AnnData will reamin."
      ]
    },
    {
      "cell_type": "code",
      "execution_count": null,
      "metadata": {
        "id": "H2XzbNDhTLRz"
      },
      "outputs": [],
      "source": [
        "!pip install scanpy\n",
        "import numpy as np\n",
        "import pandas as pd\n",
        "import scanpy as sc"
      ]
    },
    {
      "cell_type": "code",
      "execution_count": null,
      "metadata": {
        "id": "iU69DOMLTjYJ"
      },
      "outputs": [],
      "source": [
        "!mkdir data\n",
        "!mkdir write"
      ]
    },
    {
      "cell_type": "code",
      "execution_count": null,
      "metadata": {
        "id": "gMz2WxCIVCAW"
      },
      "outputs": [],
      "source": [
        "!pip install matplotlib==3.1.3\n",
        "from numpy import inf"
      ]
    },
    {
      "cell_type": "code",
      "execution_count": null,
      "metadata": {
        "colab": {
          "base_uri": "https://localhost:8080/"
        },
        "id": "9AW_Ik4PTLRz",
        "outputId": "ff407ccc-b048-473e-ac47-90602dd7a1c7"
      },
      "outputs": [
        {
          "output_type": "stream",
          "name": "stdout",
          "text": [
            "scanpy==1.9.5 anndata==0.9.2 umap==0.5.4 numpy==1.23.5 scipy==1.11.2 pandas==1.5.3 scikit-learn==1.2.2 statsmodels==0.14.0 pynndescent==0.5.10\n"
          ]
        }
      ],
      "source": [
        "sc.settings.verbosity = 3             # verbosity: errors (0), warnings (1), info (2), hints (3)\n",
        "sc.logging.print_header()\n",
        "sc.settings.set_figure_params(dpi=80, facecolor='white')"
      ]
    },
    {
      "cell_type": "code",
      "execution_count": null,
      "metadata": {
        "id": "d4p15BNDeKy-"
      },
      "outputs": [],
      "source": [
        "#file to store new Anndata object\n",
        "new_anndata = 'write/new_anndata_all.h5ad'"
      ]
    },
    {
      "cell_type": "markdown",
      "metadata": {
        "id": "PxunX4PZTLR0"
      },
      "source": [
        "Read in the count matrix into an [AnnData](https://anndata.readthedocs.io/en/latest/anndata.AnnData.html) object, which holds many slots for annotations and different representations of the data. It also comes with its own HDF5-based file format: `.h5ad`."
      ]
    },
    {
      "cell_type": "code",
      "execution_count": null,
      "metadata": {
        "id": "n8EHAmHZl1-v",
        "colab": {
          "base_uri": "https://localhost:8080/"
        },
        "outputId": "04db5812-1940-4bf8-aa16-46be0516c19e"
      },
      "outputs": [
        {
          "output_type": "stream",
          "name": "stdout",
          "text": [
            "Mounted at /content/drive\n"
          ]
        }
      ],
      "source": [
        "from google.colab import drive\n",
        "drive.mount('/content/drive')"
      ]
    },
    {
      "cell_type": "code",
      "execution_count": null,
      "metadata": {
        "id": "sP-Eonwql35G"
      },
      "outputs": [],
      "source": [
        "adata = sc.read_h5ad(\"drive/MyDrive/scRNA ML classifier/data_objects_May_2022/raw cell data files/All_PD_ann.h5ad\")"
      ]
    },
    {
      "cell_type": "code",
      "execution_count": null,
      "metadata": {
        "colab": {
          "base_uri": "https://localhost:8080/"
        },
        "id": "LRJAmcgW-zUz",
        "outputId": "71e96493-597e-464f-f3b7-20af69cd54f9"
      },
      "outputs": [
        {
          "output_type": "execute_result",
          "data": {
            "text/plain": [
              "AnnData object with n_obs × n_vars = 434340 × 41625\n",
              "    obs: 'orig.ident', 'nCount_RNA', 'nFeature_RNA', 'Cell_Subtype', 'Cell_Type', 'disease__ontology_label', 'organ__ontology_label'\n",
              "    var: 'features'"
            ]
          },
          "metadata": {},
          "execution_count": 8
        }
      ],
      "source": [
        "adata"
      ]
    },
    {
      "cell_type": "markdown",
      "metadata": {
        "id": "Fpcr6MU1TLR1"
      },
      "source": [
        "####**Checking (optional to run)**\n",
        "    \n",
        "Start with some basic checking."
      ]
    },
    {
      "cell_type": "code",
      "execution_count": null,
      "metadata": {
        "colab": {
          "base_uri": "https://localhost:8080/"
        },
        "id": "vSyjs6mTTLR1",
        "outputId": "12c089b4-a50b-4e59-d26a-27b362d8cb85"
      },
      "outputs": [
        {
          "output_type": "execute_result",
          "data": {
            "text/plain": [
              "Index(['RP11-34P13.3', 'FAM138A', 'OR4F5', 'RP11-34P13.7', 'RP11-34P13.8',\n",
              "       'RP11-34P13.14', 'RP11-34P13.9', 'FO538757.3', 'FO538757.2',\n",
              "       'AP006222.2',\n",
              "       ...\n",
              "       'RNU2-71P', 'RNA5SP252', 'AC116533.2', 'AC114494.1', 'RN7SL424P',\n",
              "       'RN7SL739P', 'MIR4502', 'RNU4-10P', 'RN7SL865P', 'RNU6-191P'],\n",
              "      dtype='object', length=41625)"
            ]
          },
          "metadata": {},
          "execution_count": 9
        }
      ],
      "source": [
        "adata.var_names #this gives genes!"
      ]
    },
    {
      "cell_type": "code",
      "execution_count": null,
      "metadata": {
        "colab": {
          "base_uri": "https://localhost:8080/"
        },
        "id": "xG4097QPGVVz",
        "outputId": "dd687253-d65f-4179-d718-e9eec42a9bd5"
      },
      "outputs": [
        {
          "output_type": "execute_result",
          "data": {
            "text/plain": [
              "Index(['pPDCN4340DAPIA030419_AATGCCACACAAGCAG-1',\n",
              "       'pPDCN4340DAPIA030419_AGACTCAGTCACAATC-1',\n",
              "       'pPDCN4340DAPIA030419_ATACTTCCAGCGTTGC-1',\n",
              "       'pPDCN4340DAPIA030419_ATATCCTGTGTGTTTG-1',\n",
              "       'pPDCN4340DAPIA030419_ATCCACCGTGGGTTGA-1',\n",
              "       'pPDCN4340DAPIA030419_ATCCGTCGTCACGACC-1',\n",
              "       'pPDCN4340DAPIA030419_ATCGTAGCAAGCTGCC-1',\n",
              "       'pPDCN4340DAPIA030419_ATGCCTCTCTGGGATT-1',\n",
              "       'pPDCN4340DAPIA030419_ATTCCATAGTTTCTTC-1',\n",
              "       'pPDCN4340DAPIA030419_CACACAACACTATCGA-1',\n",
              "       ...\n",
              "       'pPDsHSrSNxi3298d200429PosB_TCGTGGGAGATCCCAT-1',\n",
              "       'pPDsHSrSNxi3298d200429PosB_TGCTCCAGTGGCTCTG-1',\n",
              "       'pPDsHSrSNxi3298d200429PosB_ATGGGTTTCTATCCAT-1',\n",
              "       'pPDsHSrSNxi3298d200429PosB_AAGCCATAGGATACCG-1',\n",
              "       'pPDsHSrSNxi3298d200429PosB_ATTCTTGTCCGCAAAT-1',\n",
              "       'pPDsHSrSNxi3298d200429PosB_CATACTTGTCTGATCA-1',\n",
              "       'pPDsHSrSNxi3298d200429PosB_TTTGTTGTCCTTGAAG-1',\n",
              "       'pPDsHSrSNxi3298d200429PosB_ACACTGACACTAGAGG-1',\n",
              "       'pPDsHSrSNxi3298d200429PosB_CAACAACAGCTCGAAG-1',\n",
              "       'pPDsHSrSNxi3298d200429PosB_TGAGCATCAGACAAGC-1'],\n",
              "      dtype='object', length=434340)"
            ]
          },
          "metadata": {},
          "execution_count": 10
        }
      ],
      "source": [
        "adata.obs_names #this are labels"
      ]
    },
    {
      "cell_type": "code",
      "execution_count": null,
      "metadata": {
        "colab": {
          "base_uri": "https://localhost:8080/"
        },
        "id": "WUYKkYEAe32g",
        "outputId": "6b6b6fea-b709-470a-ee88-ecbac9d21769"
      },
      "outputs": [
        {
          "output_type": "stream",
          "name": "stdout",
          "text": [
            "Index(['Cell_0', 'Cell_1', 'Cell_2', 'Cell_3', 'Cell_4', 'Cell_5', 'Cell_6',\n",
            "       'Cell_7', 'Cell_8', 'Cell_9'],\n",
            "      dtype='object')\n",
            "Index(['Gene_0', 'Gene_1', 'Gene_2', 'Gene_3', 'Gene_4', 'Gene_5', 'Gene_6',\n",
            "       'Gene_7', 'Gene_8', 'Gene_9'],\n",
            "      dtype='object')\n"
          ]
        }
      ],
      "source": [
        "adata.obs_names = [f\"Cell_{i:d}\" for i in range(adata.n_obs)]\n",
        "adata.var_names = [f\"Gene_{i:d}\" for i in range(adata.n_vars)]\n",
        "print(adata.obs_names[:10])\n",
        "print(adata.var_names[:10])"
      ]
    },
    {
      "cell_type": "code",
      "execution_count": null,
      "metadata": {
        "colab": {
          "base_uri": "https://localhost:8080/",
          "height": 423
        },
        "id": "V_POk3lPwbQB",
        "outputId": "94cf06e7-1b54-4394-9983-d0cc6bbdcd3d"
      },
      "outputs": [
        {
          "output_type": "execute_result",
          "data": {
            "text/plain": [
              "             orig.ident  nCount_RNA  nFeature_RNA       Cell_Subtype  \\\n",
              "Cell_141134          86     18376.0          6077  Astro_GBP2_SPOCD1   \n",
              "Cell_141135          86     10638.0          4211    Astro_GJB6_OXTR   \n",
              "Cell_141136          86     10009.0          4048    Astro_GJB6_OXTR   \n",
              "Cell_141137          86      9735.0          3777    Astro_GJB6_OXTR   \n",
              "Cell_141138          86      8617.0          3824    Astro_GJB6_OXTR   \n",
              "...                 ...         ...           ...                ...   \n",
              "Cell_430462          30      3193.0          1874           SOX6_DDT   \n",
              "Cell_430463          30      2991.0          1678           SOX6_DDT   \n",
              "Cell_430464          30      2463.0          1531           SOX6_DDT   \n",
              "Cell_430465          30       999.0           804         CALB1_RBP4   \n",
              "Cell_430466          30       800.0           620           SOX6_DDT   \n",
              "\n",
              "            Cell_Type disease__ontology_label           organ__ontology_label  \n",
              "Cell_141134     astro      Lewy body dementia  substantia nigra pars compacta  \n",
              "Cell_141135     astro      Lewy body dementia  substantia nigra pars compacta  \n",
              "Cell_141136     astro      Lewy body dementia  substantia nigra pars compacta  \n",
              "Cell_141137     astro      Lewy body dementia  substantia nigra pars compacta  \n",
              "Cell_141138     astro      Lewy body dementia  substantia nigra pars compacta  \n",
              "...               ...                     ...                             ...  \n",
              "Cell_430462        da      Lewy body dementia  substantia nigra pars compacta  \n",
              "Cell_430463        da      Lewy body dementia  substantia nigra pars compacta  \n",
              "Cell_430464        da      Lewy body dementia  substantia nigra pars compacta  \n",
              "Cell_430465        da      Lewy body dementia  substantia nigra pars compacta  \n",
              "Cell_430466        da      Lewy body dementia  substantia nigra pars compacta  \n",
              "\n",
              "[67466 rows x 7 columns]"
            ],
            "text/html": [
              "\n",
              "  <div id=\"df-8bd1ba06-5356-4bcb-b770-f969558ebfc9\" class=\"colab-df-container\">\n",
              "    <div>\n",
              "<style scoped>\n",
              "    .dataframe tbody tr th:only-of-type {\n",
              "        vertical-align: middle;\n",
              "    }\n",
              "\n",
              "    .dataframe tbody tr th {\n",
              "        vertical-align: top;\n",
              "    }\n",
              "\n",
              "    .dataframe thead th {\n",
              "        text-align: right;\n",
              "    }\n",
              "</style>\n",
              "<table border=\"1\" class=\"dataframe\">\n",
              "  <thead>\n",
              "    <tr style=\"text-align: right;\">\n",
              "      <th></th>\n",
              "      <th>orig.ident</th>\n",
              "      <th>nCount_RNA</th>\n",
              "      <th>nFeature_RNA</th>\n",
              "      <th>Cell_Subtype</th>\n",
              "      <th>Cell_Type</th>\n",
              "      <th>disease__ontology_label</th>\n",
              "      <th>organ__ontology_label</th>\n",
              "    </tr>\n",
              "  </thead>\n",
              "  <tbody>\n",
              "    <tr>\n",
              "      <th>Cell_141134</th>\n",
              "      <td>86</td>\n",
              "      <td>18376.0</td>\n",
              "      <td>6077</td>\n",
              "      <td>Astro_GBP2_SPOCD1</td>\n",
              "      <td>astro</td>\n",
              "      <td>Lewy body dementia</td>\n",
              "      <td>substantia nigra pars compacta</td>\n",
              "    </tr>\n",
              "    <tr>\n",
              "      <th>Cell_141135</th>\n",
              "      <td>86</td>\n",
              "      <td>10638.0</td>\n",
              "      <td>4211</td>\n",
              "      <td>Astro_GJB6_OXTR</td>\n",
              "      <td>astro</td>\n",
              "      <td>Lewy body dementia</td>\n",
              "      <td>substantia nigra pars compacta</td>\n",
              "    </tr>\n",
              "    <tr>\n",
              "      <th>Cell_141136</th>\n",
              "      <td>86</td>\n",
              "      <td>10009.0</td>\n",
              "      <td>4048</td>\n",
              "      <td>Astro_GJB6_OXTR</td>\n",
              "      <td>astro</td>\n",
              "      <td>Lewy body dementia</td>\n",
              "      <td>substantia nigra pars compacta</td>\n",
              "    </tr>\n",
              "    <tr>\n",
              "      <th>Cell_141137</th>\n",
              "      <td>86</td>\n",
              "      <td>9735.0</td>\n",
              "      <td>3777</td>\n",
              "      <td>Astro_GJB6_OXTR</td>\n",
              "      <td>astro</td>\n",
              "      <td>Lewy body dementia</td>\n",
              "      <td>substantia nigra pars compacta</td>\n",
              "    </tr>\n",
              "    <tr>\n",
              "      <th>Cell_141138</th>\n",
              "      <td>86</td>\n",
              "      <td>8617.0</td>\n",
              "      <td>3824</td>\n",
              "      <td>Astro_GJB6_OXTR</td>\n",
              "      <td>astro</td>\n",
              "      <td>Lewy body dementia</td>\n",
              "      <td>substantia nigra pars compacta</td>\n",
              "    </tr>\n",
              "    <tr>\n",
              "      <th>...</th>\n",
              "      <td>...</td>\n",
              "      <td>...</td>\n",
              "      <td>...</td>\n",
              "      <td>...</td>\n",
              "      <td>...</td>\n",
              "      <td>...</td>\n",
              "      <td>...</td>\n",
              "    </tr>\n",
              "    <tr>\n",
              "      <th>Cell_430462</th>\n",
              "      <td>30</td>\n",
              "      <td>3193.0</td>\n",
              "      <td>1874</td>\n",
              "      <td>SOX6_DDT</td>\n",
              "      <td>da</td>\n",
              "      <td>Lewy body dementia</td>\n",
              "      <td>substantia nigra pars compacta</td>\n",
              "    </tr>\n",
              "    <tr>\n",
              "      <th>Cell_430463</th>\n",
              "      <td>30</td>\n",
              "      <td>2991.0</td>\n",
              "      <td>1678</td>\n",
              "      <td>SOX6_DDT</td>\n",
              "      <td>da</td>\n",
              "      <td>Lewy body dementia</td>\n",
              "      <td>substantia nigra pars compacta</td>\n",
              "    </tr>\n",
              "    <tr>\n",
              "      <th>Cell_430464</th>\n",
              "      <td>30</td>\n",
              "      <td>2463.0</td>\n",
              "      <td>1531</td>\n",
              "      <td>SOX6_DDT</td>\n",
              "      <td>da</td>\n",
              "      <td>Lewy body dementia</td>\n",
              "      <td>substantia nigra pars compacta</td>\n",
              "    </tr>\n",
              "    <tr>\n",
              "      <th>Cell_430465</th>\n",
              "      <td>30</td>\n",
              "      <td>999.0</td>\n",
              "      <td>804</td>\n",
              "      <td>CALB1_RBP4</td>\n",
              "      <td>da</td>\n",
              "      <td>Lewy body dementia</td>\n",
              "      <td>substantia nigra pars compacta</td>\n",
              "    </tr>\n",
              "    <tr>\n",
              "      <th>Cell_430466</th>\n",
              "      <td>30</td>\n",
              "      <td>800.0</td>\n",
              "      <td>620</td>\n",
              "      <td>SOX6_DDT</td>\n",
              "      <td>da</td>\n",
              "      <td>Lewy body dementia</td>\n",
              "      <td>substantia nigra pars compacta</td>\n",
              "    </tr>\n",
              "  </tbody>\n",
              "</table>\n",
              "<p>67466 rows × 7 columns</p>\n",
              "</div>\n",
              "    <div class=\"colab-df-buttons\">\n",
              "\n",
              "  <div class=\"colab-df-container\">\n",
              "    <button class=\"colab-df-convert\" onclick=\"convertToInteractive('df-8bd1ba06-5356-4bcb-b770-f969558ebfc9')\"\n",
              "            title=\"Convert this dataframe to an interactive table.\"\n",
              "            style=\"display:none;\">\n",
              "\n",
              "  <svg xmlns=\"http://www.w3.org/2000/svg\" height=\"24px\" viewBox=\"0 -960 960 960\">\n",
              "    <path d=\"M120-120v-720h720v720H120Zm60-500h600v-160H180v160Zm220 220h160v-160H400v160Zm0 220h160v-160H400v160ZM180-400h160v-160H180v160Zm440 0h160v-160H620v160ZM180-180h160v-160H180v160Zm440 0h160v-160H620v160Z\"/>\n",
              "  </svg>\n",
              "    </button>\n",
              "\n",
              "  <style>\n",
              "    .colab-df-container {\n",
              "      display:flex;\n",
              "      gap: 12px;\n",
              "    }\n",
              "\n",
              "    .colab-df-convert {\n",
              "      background-color: #E8F0FE;\n",
              "      border: none;\n",
              "      border-radius: 50%;\n",
              "      cursor: pointer;\n",
              "      display: none;\n",
              "      fill: #1967D2;\n",
              "      height: 32px;\n",
              "      padding: 0 0 0 0;\n",
              "      width: 32px;\n",
              "    }\n",
              "\n",
              "    .colab-df-convert:hover {\n",
              "      background-color: #E2EBFA;\n",
              "      box-shadow: 0px 1px 2px rgba(60, 64, 67, 0.3), 0px 1px 3px 1px rgba(60, 64, 67, 0.15);\n",
              "      fill: #174EA6;\n",
              "    }\n",
              "\n",
              "    .colab-df-buttons div {\n",
              "      margin-bottom: 4px;\n",
              "    }\n",
              "\n",
              "    [theme=dark] .colab-df-convert {\n",
              "      background-color: #3B4455;\n",
              "      fill: #D2E3FC;\n",
              "    }\n",
              "\n",
              "    [theme=dark] .colab-df-convert:hover {\n",
              "      background-color: #434B5C;\n",
              "      box-shadow: 0px 1px 3px 1px rgba(0, 0, 0, 0.15);\n",
              "      filter: drop-shadow(0px 1px 2px rgba(0, 0, 0, 0.3));\n",
              "      fill: #FFFFFF;\n",
              "    }\n",
              "  </style>\n",
              "\n",
              "    <script>\n",
              "      const buttonEl =\n",
              "        document.querySelector('#df-8bd1ba06-5356-4bcb-b770-f969558ebfc9 button.colab-df-convert');\n",
              "      buttonEl.style.display =\n",
              "        google.colab.kernel.accessAllowed ? 'block' : 'none';\n",
              "\n",
              "      async function convertToInteractive(key) {\n",
              "        const element = document.querySelector('#df-8bd1ba06-5356-4bcb-b770-f969558ebfc9');\n",
              "        const dataTable =\n",
              "          await google.colab.kernel.invokeFunction('convertToInteractive',\n",
              "                                                    [key], {});\n",
              "        if (!dataTable) return;\n",
              "\n",
              "        const docLinkHtml = 'Like what you see? Visit the ' +\n",
              "          '<a target=\"_blank\" href=https://colab.research.google.com/notebooks/data_table.ipynb>data table notebook</a>'\n",
              "          + ' to learn more about interactive tables.';\n",
              "        element.innerHTML = '';\n",
              "        dataTable['output_type'] = 'display_data';\n",
              "        await google.colab.output.renderOutput(dataTable, element);\n",
              "        const docLink = document.createElement('div');\n",
              "        docLink.innerHTML = docLinkHtml;\n",
              "        element.appendChild(docLink);\n",
              "      }\n",
              "    </script>\n",
              "  </div>\n",
              "\n",
              "\n",
              "<div id=\"df-8faa8358-eea2-45ca-ab40-4fd6cc67d148\">\n",
              "  <button class=\"colab-df-quickchart\" onclick=\"quickchart('df-8faa8358-eea2-45ca-ab40-4fd6cc67d148')\"\n",
              "            title=\"Suggest charts.\"\n",
              "            style=\"display:none;\">\n",
              "\n",
              "<svg xmlns=\"http://www.w3.org/2000/svg\" height=\"24px\"viewBox=\"0 0 24 24\"\n",
              "     width=\"24px\">\n",
              "    <g>\n",
              "        <path d=\"M19 3H5c-1.1 0-2 .9-2 2v14c0 1.1.9 2 2 2h14c1.1 0 2-.9 2-2V5c0-1.1-.9-2-2-2zM9 17H7v-7h2v7zm4 0h-2V7h2v10zm4 0h-2v-4h2v4z\"/>\n",
              "    </g>\n",
              "</svg>\n",
              "  </button>\n",
              "\n",
              "<style>\n",
              "  .colab-df-quickchart {\n",
              "      --bg-color: #E8F0FE;\n",
              "      --fill-color: #1967D2;\n",
              "      --hover-bg-color: #E2EBFA;\n",
              "      --hover-fill-color: #174EA6;\n",
              "      --disabled-fill-color: #AAA;\n",
              "      --disabled-bg-color: #DDD;\n",
              "  }\n",
              "\n",
              "  [theme=dark] .colab-df-quickchart {\n",
              "      --bg-color: #3B4455;\n",
              "      --fill-color: #D2E3FC;\n",
              "      --hover-bg-color: #434B5C;\n",
              "      --hover-fill-color: #FFFFFF;\n",
              "      --disabled-bg-color: #3B4455;\n",
              "      --disabled-fill-color: #666;\n",
              "  }\n",
              "\n",
              "  .colab-df-quickchart {\n",
              "    background-color: var(--bg-color);\n",
              "    border: none;\n",
              "    border-radius: 50%;\n",
              "    cursor: pointer;\n",
              "    display: none;\n",
              "    fill: var(--fill-color);\n",
              "    height: 32px;\n",
              "    padding: 0;\n",
              "    width: 32px;\n",
              "  }\n",
              "\n",
              "  .colab-df-quickchart:hover {\n",
              "    background-color: var(--hover-bg-color);\n",
              "    box-shadow: 0 1px 2px rgba(60, 64, 67, 0.3), 0 1px 3px 1px rgba(60, 64, 67, 0.15);\n",
              "    fill: var(--button-hover-fill-color);\n",
              "  }\n",
              "\n",
              "  .colab-df-quickchart-complete:disabled,\n",
              "  .colab-df-quickchart-complete:disabled:hover {\n",
              "    background-color: var(--disabled-bg-color);\n",
              "    fill: var(--disabled-fill-color);\n",
              "    box-shadow: none;\n",
              "  }\n",
              "\n",
              "  .colab-df-spinner {\n",
              "    border: 2px solid var(--fill-color);\n",
              "    border-color: transparent;\n",
              "    border-bottom-color: var(--fill-color);\n",
              "    animation:\n",
              "      spin 1s steps(1) infinite;\n",
              "  }\n",
              "\n",
              "  @keyframes spin {\n",
              "    0% {\n",
              "      border-color: transparent;\n",
              "      border-bottom-color: var(--fill-color);\n",
              "      border-left-color: var(--fill-color);\n",
              "    }\n",
              "    20% {\n",
              "      border-color: transparent;\n",
              "      border-left-color: var(--fill-color);\n",
              "      border-top-color: var(--fill-color);\n",
              "    }\n",
              "    30% {\n",
              "      border-color: transparent;\n",
              "      border-left-color: var(--fill-color);\n",
              "      border-top-color: var(--fill-color);\n",
              "      border-right-color: var(--fill-color);\n",
              "    }\n",
              "    40% {\n",
              "      border-color: transparent;\n",
              "      border-right-color: var(--fill-color);\n",
              "      border-top-color: var(--fill-color);\n",
              "    }\n",
              "    60% {\n",
              "      border-color: transparent;\n",
              "      border-right-color: var(--fill-color);\n",
              "    }\n",
              "    80% {\n",
              "      border-color: transparent;\n",
              "      border-right-color: var(--fill-color);\n",
              "      border-bottom-color: var(--fill-color);\n",
              "    }\n",
              "    90% {\n",
              "      border-color: transparent;\n",
              "      border-bottom-color: var(--fill-color);\n",
              "    }\n",
              "  }\n",
              "</style>\n",
              "\n",
              "  <script>\n",
              "    async function quickchart(key) {\n",
              "      const quickchartButtonEl =\n",
              "        document.querySelector('#' + key + ' button');\n",
              "      quickchartButtonEl.disabled = true;  // To prevent multiple clicks.\n",
              "      quickchartButtonEl.classList.add('colab-df-spinner');\n",
              "      try {\n",
              "        const charts = await google.colab.kernel.invokeFunction(\n",
              "            'suggestCharts', [key], {});\n",
              "      } catch (error) {\n",
              "        console.error('Error during call to suggestCharts:', error);\n",
              "      }\n",
              "      quickchartButtonEl.classList.remove('colab-df-spinner');\n",
              "      quickchartButtonEl.classList.add('colab-df-quickchart-complete');\n",
              "    }\n",
              "    (() => {\n",
              "      let quickchartButtonEl =\n",
              "        document.querySelector('#df-8faa8358-eea2-45ca-ab40-4fd6cc67d148 button');\n",
              "      quickchartButtonEl.style.display =\n",
              "        google.colab.kernel.accessAllowed ? 'block' : 'none';\n",
              "    })();\n",
              "  </script>\n",
              "</div>\n",
              "    </div>\n",
              "  </div>\n"
            ]
          },
          "metadata": {},
          "execution_count": 12
        }
      ],
      "source": [
        "#Check how many rows are unwanted data.\n",
        "adata.obs.loc[adata.obs['disease__ontology_label'].str.contains(\"Lewy body dementia\", case=False)]"
      ]
    },
    {
      "cell_type": "markdown",
      "metadata": {
        "id": "AIz4O4mLTLR1"
      },
      "source": [
        "###**Data selection**"
      ]
    },
    {
      "cell_type": "markdown",
      "metadata": {
        "id": "-ZBMJbO90-2l"
      },
      "source": [
        "Drop the Lewy body dementia:"
      ]
    },
    {
      "cell_type": "code",
      "execution_count": null,
      "metadata": {
        "id": "inia9_acKdh4"
      },
      "outputs": [],
      "source": [
        "adata.obs = adata.obs.reset_index() #Set index for the labels\n",
        "k = adata.obs #create a variable for further uses (a DataFrame)"
      ]
    },
    {
      "cell_type": "code",
      "execution_count": null,
      "metadata": {
        "id": "TT9xaD0FMpWj"
      },
      "outputs": [],
      "source": [
        "y = k.index[k['disease__ontology_label'] == 'Lewy body dementia'].tolist() #get the index that contains the Lewy Body Dementia samples, stored in variable y (a list)"
      ]
    },
    {
      "cell_type": "code",
      "execution_count": null,
      "metadata": {
        "id": "0Uo-w1JfXgO9"
      },
      "outputs": [],
      "source": [
        "m = adata.X.toarray() #convert sparse matrix X to array"
      ]
    },
    {
      "cell_type": "markdown",
      "metadata": {
        "id": "vuWmuNj0ek8A"
      },
      "source": [
        "Conduct data selection separately in adata.X and adata.obs."
      ]
    },
    {
      "cell_type": "code",
      "execution_count": null,
      "metadata": {
        "id": "ytUXbJEaZP8R"
      },
      "outputs": [],
      "source": [
        "m = np.delete(m, obj = y, axis=0) #delete rows that contain Lewy Body Dementia according to the previously generated index stored in y"
      ]
    },
    {
      "cell_type": "code",
      "execution_count": null,
      "metadata": {
        "id": "JYt1WDzi0899"
      },
      "outputs": [],
      "source": [
        "#drop command for adata.obs\n",
        "adata.obs.drop(adata.obs.index[adata.obs['disease__ontology_label'] == 'Lewy body dementia'], inplace=True)\n",
        "adata.obs"
      ]
    },
    {
      "cell_type": "markdown",
      "metadata": {
        "id": "8K2VfprPFr9r"
      },
      "source": [
        "###**making new AnnData object**"
      ]
    },
    {
      "cell_type": "code",
      "execution_count": null,
      "metadata": {
        "id": "zr4qWdBsSTe2"
      },
      "outputs": [],
      "source": [
        "pip install anndata"
      ]
    },
    {
      "cell_type": "code",
      "execution_count": null,
      "metadata": {
        "id": "rv7BADSnRtlI"
      },
      "outputs": [],
      "source": [
        "#Command for making a new AnnData object. For each parameter, need to make a deep copy of the original object.\n",
        "new = sc.AnnData(X = m,\n",
        "  obs = adata.obs.copy(),\n",
        "  var = adata.var.copy(),\n",
        "  uns = adata.uns.copy(),\n",
        "  obsm = adata.obsm.copy(),\n",
        "  varm = adata.varm.copy(),\n",
        "  layers = adata.layers.copy(),\n",
        "  raw = adata.raw.copy(),\n",
        "  dtype = \"float32\",\n",
        "  shape = None,\n",
        "  #filename = NULL,\n",
        "  #filemode = NULL,\n",
        "  obsp = adata.obsp.copy(),\n",
        "  varp = adata.varp\n",
        "  )\n",
        "#varp = adata.varp.copy() would give me error but direct assignment would not"
      ]
    },
    {
      "cell_type": "code",
      "execution_count": null,
      "metadata": {
        "id": "14kGcJNOfVRd"
      },
      "outputs": [],
      "source": [
        "#A random line that I found necessary for the object to work.\n",
        "new.__dict__['_raw'].__dict__['_var'] = adata.__dict__['_raw'].__dict__['_var'].rename(columns={'_index': 'features'})"
      ]
    },
    {
      "cell_type": "code",
      "execution_count": null,
      "metadata": {
        "id": "COWdueR5dx0S"
      },
      "outputs": [],
      "source": [
        "new.write(new_anndata)"
      ]
    },
    {
      "cell_type": "code",
      "execution_count": null,
      "metadata": {
        "id": "sZC69AV3bAKV"
      },
      "outputs": [],
      "source": [
        "print(adata.X.shape, new.X.shape) #Now the new AnnData object is generated. Check the dimension!"
      ]
    },
    {
      "cell_type": "markdown",
      "metadata": {
        "id": "zikgBXqOiDiB"
      },
      "source": [
        "A new AnnData object is created, and stored in the Colab disk. Navigate to the folder button on the left side panel, and click on \"write\", you will find the `new_anndata.h5ad file` here. Please either download it to your local disk, then upload to your google drive; or move to your drive folder by dragging it to the `drive` folder.\n",
        "\n",
        "---\n",
        "The purpose of creating a new AnnData is to keep the accessibility of other features, stored in `adata.obsm`, `adata.varm`, etc.\n"
      ]
    }
  ],
  "metadata": {
    "accelerator": "GPU",
    "anaconda-cloud": {},
    "colab": {
      "machine_shape": "hm",
      "provenance": [],
      "gpuType": "V100",
      "gpuClass": "premium",
      "include_colab_link": true
    },
    "kernelspec": {
      "display_name": "Python 3",
      "name": "python3"
    },
    "language_info": {
      "codemirror_mode": {
        "name": "ipython",
        "version": 3
      },
      "file_extension": ".py",
      "mimetype": "text/x-python",
      "name": "python",
      "nbconvert_exporter": "python",
      "pygments_lexer": "ipython3",
      "version": "3.7.6"
    }
  },
  "nbformat": 4,
  "nbformat_minor": 0
}
