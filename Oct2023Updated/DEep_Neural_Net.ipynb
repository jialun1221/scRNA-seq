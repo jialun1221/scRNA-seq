{
  "cells": [
    {
      "cell_type": "markdown",
      "metadata": {
        "id": "view-in-github",
        "colab_type": "text"
      },
      "source": [
        "<a href=\"https://colab.research.google.com/github/jialun1221/scRNA-seq/blob/main/DEep_Neural_Net.ipynb\" target=\"_parent\"><img src=\"https://colab.research.google.com/assets/colab-badge.svg\" alt=\"Open In Colab\"/></a>"
      ]
    },
    {
      "cell_type": "code",
      "execution_count": null,
      "metadata": {
        "id": "TJo2ZerTq-Uf"
      },
      "outputs": [],
      "source": [
        "!pip3 install scanpy\n",
        "import numpy as np\n",
        "import pandas as pd\n",
        "import scanpy as sc\n",
        "import sys\n",
        "from sklearn import preprocessing\n",
        "from matplotlib import pyplot as plt\n",
        "from sklearn.ensemble import RandomForestClassifier\n",
        "from sklearn.metrics import accuracy_score, confusion_matrix, classification_report\n",
        "import importlib\n",
        "required_libraries = ['torch', 'torchvision', 'PIL', 'matplotlib',\n",
        "                      'numpy', 'pandas']\n",
        "for lib in required_libraries:\n",
        "    if importlib.util.find_spec(lib) is None:\n",
        "        print(\"%s unavailable\" % lib)"
      ]
    },
    {
      "cell_type": "code",
      "execution_count": null,
      "metadata": {
        "id": "7Viub6Hq_YIK"
      },
      "outputs": [],
      "source": [
        "from matplotlib import pyplot as plt"
      ]
    },
    {
      "cell_type": "code",
      "execution_count": null,
      "metadata": {
        "colab": {
          "base_uri": "https://localhost:8080/"
        },
        "id": "vLmlNWphKIpc",
        "outputId": "96bb80e7-3ef8-45b2-c260-4db5be216a68"
      },
      "outputs": [
        {
          "name": "stdout",
          "output_type": "stream",
          "text": [
            "Mounted at /content/drive\n"
          ]
        }
      ],
      "source": [
        "from google.colab import drive\n",
        "drive.mount('/content/drive')"
      ]
    },
    {
      "cell_type": "code",
      "execution_count": null,
      "metadata": {
        "id": "1ex_wLnFcNrL"
      },
      "outputs": [],
      "source": [
        "#m1\n",
        "adata = sc.read_h5ad(\"drive/MyDrive/scRNA ML classifier/data_objects_May_2022/DAN_PC_all_genes_qc.h5ad\")\n",
        "adata.obs = adata.obs.reset_index() #reset the index for X, so the column number starts from 0\n",
        "\n",
        "X = adata.obsm[\"X_pca\"].X\n",
        "y = adata.obs['disease__ontology_label'].replace({\"normal\": \"0\", \"Parkinson disease\": \"1\"})"
      ]
    },
    {
      "cell_type": "code",
      "execution_count": null,
      "metadata": {
        "id": "OpV-AsSHOf-4"
      },
      "outputs": [],
      "source": [
        "#m2\n",
        "adata = sc.read_h5ad(\"drive/MyDrive/scRNA ML classifier/data_objects_May_2022/DAN_PC_HVGs_qc.h5ad\")\n",
        "adata.obs = adata.obs.reset_index() #reset the index for X, so the column number starts from 0\n",
        "\n",
        "X = adata.obsm[\"X_pca\"].X\n",
        "y = adata.obs['disease__ontology_label'].replace({\"normal\": \"0\", \"Parkinson disease\": \"1\"})"
      ]
    },
    {
      "cell_type": "code",
      "execution_count": null,
      "metadata": {
        "id": "cWDVlpEhcQU9"
      },
      "outputs": [],
      "source": [
        "#m3\n",
        "adata = sc.read_h5ad(\"drive/MyDrive/scRNA ML classifier/data_objects_May_2022/DAN_no_PC_HVGs_qc.h5ad\")\n",
        "adata.obs = adata.obs.reset_index() #reset the index for X, so the column number starts from 0\n",
        "\n",
        "X = adata.X\n",
        "y = adata.obs['disease__ontology_label'].replace({\"normal\": \"0\", \"Parkinson disease\": \"1\"})"
      ]
    },
    {
      "cell_type": "code",
      "execution_count": null,
      "metadata": {
        "id": "x-wnpcdcy8lv"
      },
      "outputs": [],
      "source": [
        "import torch\n",
        "import numpy as np\n",
        "import torch.nn as nn\n",
        "import torch.nn.functional as F\n",
        "import torch.optim as optim\n",
        "import torchvision\n",
        "import scanpy as sc\n",
        "\n",
        "from torch.utils.data import TensorDataset\n",
        "\n",
        "use_gpu = torch.cuda.is_available()\n",
        "device = torch.device(\"cuda:0\" if use_gpu else \"cpu\")\n",
        "\n",
        "# seed = 4321\n",
        "# np.random.seed(seed) # Set the random seed of numpy for the data split.\n",
        "# torch.manual_seed(seed)\n",
        "# torch.cuda.manual_seed(seed)"
      ]
    },
    {
      "cell_type": "code",
      "execution_count": null,
      "metadata": {
        "id": "sTenrDuQ5S3y"
      },
      "outputs": [],
      "source": [
        "from numpy import mean\n",
        "from numpy import std\n",
        "from sklearn.datasets import make_classification\n",
        "from sklearn.model_selection import cross_val_score"
      ]
    },
    {
      "cell_type": "code",
      "execution_count": null,
      "metadata": {
        "id": "UeLUepTo4np8"
      },
      "outputs": [],
      "source": [
        "import random"
      ]
    },
    {
      "cell_type": "markdown",
      "metadata": {
        "id": "_pHHM-4rvgS2"
      },
      "source": [
        "I got everthing :)\n",
        "\n"
      ]
    },
    {
      "cell_type": "code",
      "execution_count": null,
      "metadata": {
        "id": "tozHiLApvSSt"
      },
      "outputs": [],
      "source": [
        "#the real train and test dataset\n",
        "# train_dataset = TensorDataset(torch.from_numpy(X_train).float(), torch.from_numpy(y_train).long())\n",
        "# val_dataset = TensorDataset(torch.from_numpy(X_val).float(), torch.from_numpy(y_val).long())\n",
        "# test_dataset = TensorDataset(torch.from_numpy(X_test).float(), torch.from_numpy(y_test).long())"
      ]
    },
    {
      "cell_type": "markdown",
      "metadata": {
        "id": "OsBhh2eTMuRD"
      },
      "source": [
        "####Set up the model."
      ]
    },
    {
      "cell_type": "code",
      "execution_count": null,
      "metadata": {
        "id": "Jt1wt4oxzzxu"
      },
      "outputs": [],
      "source": [
        "class NeuralNet(nn.Module):\n",
        "    def __init__(self):\n",
        "      super(NeuralNet, self).__init__()\n",
        "      self.n = X_train.shape[1] #number of rows\n",
        "\n",
        "      self.fc1 = nn.Linear(self.n, int(self.n/2))\n",
        "      self.fc2 = nn.Linear(int(self.n/2), int(self.n/4))\n",
        "      #self.fc3 = nn.Linear(int(len(X_train)/4),int(len(X_train)/8))\n",
        "      self.output = nn.Linear(int(self.n/4), 2)\n",
        "\n",
        "      # this are defining the layers and the hyper paramters that means the\n",
        "      # conditions to compare\n",
        "\n",
        "    def forward(self, x):\n",
        "      x = F.relu(self.fc1(x))\n",
        "      x = F.relu(self.fc2(x))\n",
        "      #x = F.relu(self.fc3(x))\n",
        "      out = self.output(x)   # the RelU is non linearity that removes all negative values and shouldn't be used right before softmax\n",
        "      return out\n",
        "\n",
        "    def print(self):\n",
        "        return self.fc1\n",
        "\n",
        "# A = NeuralNet()\n",
        "# A.print()\n",
        "      # here we are telling the model how to pass the information from on layer to the next\n",
        "      #in pytorch we do not explain the graph traveral method as this computational graph is automatically defined"
      ]
    },
    {
      "cell_type": "code",
      "execution_count": null,
      "metadata": {
        "id": "l3DsETHb3rif"
      },
      "outputs": [],
      "source": [
        "import copy"
      ]
    },
    {
      "cell_type": "code",
      "execution_count": null,
      "metadata": {
        "id": "qE7nOdKOvgVD"
      },
      "outputs": [],
      "source": [
        "#train test split\n",
        "from sklearn.model_selection import train_test_split\n",
        "X_train_global, X_test_global, y_train_global, y_test_global = train_test_split(X, y, test_size=0.2, random_state=0) #initial stabilized split\n",
        "\n",
        "seed_list = []\n",
        "\n",
        "for m in range (10):\n",
        "  X_test = copy.deepcopy(X_test_global)\n",
        "  y_test = copy.deepcopy(y_test_global)\n",
        "\n",
        "  if len(seed_list) < 10:\n",
        "    seed = random.randint(0, 9999)\n",
        "    seed_list.append(seed)\n",
        "    print(\"seed: \", seed)\n",
        "    X_train, X_val, y_train, y_val = train_test_split(X_train_global, y_train_global, test_size=0.25, random_state= seed_list[m])\n",
        "  else:\n",
        "    print(\"seed = \", seed)\n",
        "    print(seed_list[m])\n",
        "    X_train, X_val, y_train, y_val = train_test_split(X_train_global, y_train_global, test_size=0.25, random_state= seed_list[m])\n",
        "# X_train, X_val, y_train, y_val = train_test_split(X_train, y_train, test_size=0.25, random_state=0)\n",
        "\n",
        "#Take some data from test set for validation\n",
        "#Get the validation dataset splitted\n",
        "# X_val = X_test.head(499)\n",
        "# X_test = X_test.tail(1000)\n",
        "# y_val = y_test.head(499)\n",
        "# y_test = y_test.tail(1000)\n",
        "# print(X_val.shape, X_test.shape, y_val.shape, y_test.shape)\n",
        "\n",
        "  # Type conversion\n",
        "  X_val = X_val.astype(np.float64)\n",
        "  y_val = y_val.astype(np.float64)\n",
        "  # X_val = X_val.to_numpy()\n",
        "  # y_val = y_val.to_numpy()\n",
        "\n",
        "  #Note: SoftMax requires a 2x1 matrix for the label. We turn the above `y_val`, `y_train` and `y_test` numpy array into a matrix.\n",
        "  y_val = np.stack([y_val, 1-y_val])\n",
        "  y_val = y_val.transpose()\n",
        "  #print(y_val)\n",
        "\n",
        "  y_train = y_train.astype(np.float64)\n",
        "  y_train = np.stack([y_train, 1-y_train])\n",
        "  y_train = y_train.transpose()\n",
        "  #print(y_train)\n",
        "\n",
        "  y_test = y_test.astype(np.float64)\n",
        "  y_test = np.stack([y_test, 1-y_test])\n",
        "  y_test = y_test.transpose()\n",
        "  #print(y_test)\n",
        "\n",
        "  # X_train = X_train.to_numpy()\n",
        "  # X_test = X_test.to_numpy()\n",
        "\n",
        "  #the real train and test dataset\n",
        "  print(X_train.shape, y_train.shape)\n",
        "  train_dataset = TensorDataset(torch.from_numpy(X_train).float(), torch.from_numpy(y_train).long())\n",
        "  val_dataset = TensorDataset(torch.from_numpy(X_val).float(), torch.from_numpy(y_val).long())\n",
        "  test_dataset = TensorDataset(torch.from_numpy(X_test).float(), torch.from_numpy(y_test).long())"
      ]
    },
    {
      "cell_type": "code",
      "execution_count": null,
      "metadata": {
        "id": "YH3L5Hp0z1Qx"
      },
      "outputs": [],
      "source": [
        "# Model definition - we definited above here we initiate a model\n",
        "neural_net = NeuralNet()\n",
        "neural_net = neural_net.to(device) #We create an instance of NeuralNetwork, and move it to the device, and print its structure.\n",
        "\n",
        "# Evaluation mode activation\n",
        "neural_net = neural_net.eval()\n",
        "\n",
        "# Select the first 5 data points the name of the model is data\n",
        "data, target = test_dataset[0:5]\n",
        "\n",
        "data = data.to(device)\n",
        "target = target.to(device)\n",
        "\n",
        "# Forward propagation of the data through the model\n",
        "output = neural_net(data)   # equivalent to neural_net.forward(data)\n",
        "print(\"output\",output)\n",
        "# Convert the logits into probabilities with softmax function\n",
        "output_proba = F.softmax(output,dim=1)  # the dimension is to normalize over the outcome, over rows or columns 0 will be incorrect and sum over columns\n",
        "\n",
        "# Printing the probability\n",
        "print(output_proba)"
      ]
    },
    {
      "cell_type": "code",
      "execution_count": null,
      "metadata": {
        "colab": {
          "base_uri": "https://localhost:8080/"
        },
        "id": "lTA1yyfPz1H7",
        "outputId": "40583d11-c080-4073-b42f-fb84f0077fa6"
      },
      "outputs": [
        {
          "name": "stdout",
          "output_type": "stream",
          "text": [
            "Model prediction\n",
            "tensor([1, 1, 1, 1, 1])\n",
            "Actual data\n",
            "tensor([[0, 1],\n",
            "        [0, 1],\n",
            "        [0, 1],\n",
            "        [0, 1],\n",
            "        [0, 1]])\n"
          ]
        }
      ],
      "source": [
        "_, prediction = torch.max(output_proba, dim=1)\n",
        "\n",
        "print('Model prediction')\n",
        "print(prediction)\n",
        "\n",
        "# Printing the real labels\n",
        "print(\"Actual data\")\n",
        "print(target)"
      ]
    },
    {
      "cell_type": "code",
      "execution_count": null,
      "metadata": {
        "id": "DF80PJsez3yh"
      },
      "outputs": [],
      "source": [
        "def loss_function(prediction, target):\n",
        "    loss = F.cross_entropy(prediction, target)\n",
        "    return loss"
      ]
    },
    {
      "cell_type": "markdown",
      "metadata": {
        "id": "RE1WxHbYSScP"
      },
      "source": [
        "Using [Adam Optimizer](https://pythonguides.com/adam-optimizer-pytorch/)"
      ]
    },
    {
      "cell_type": "code",
      "execution_count": null,
      "metadata": {
        "id": "xIdXhHBNz4vK"
      },
      "outputs": [],
      "source": [
        "optimizer = optim.Adam(neural_net.parameters(), lr=0.001)"
      ]
    },
    {
      "cell_type": "code",
      "execution_count": null,
      "metadata": {
        "id": "hfTFfF74z5xD"
      },
      "outputs": [],
      "source": [
        "train_batch_size = 32  # number of data in a training batch.\n",
        "eval_batch_size = 32   # number of data in an batch.\n",
        "\n",
        "train_loader = torch.utils.data.DataLoader(train_dataset, batch_size=train_batch_size, shuffle=True)\n",
        "val_loader   = torch.utils.data.DataLoader(val_dataset, batch_size=eval_batch_size, shuffle=False)\n",
        "test_loader  = torch.utils.data.DataLoader(test_dataset, batch_size=eval_batch_size, shuffle=False)"
      ]
    },
    {
      "cell_type": "code",
      "execution_count": null,
      "metadata": {
        "id": "86YhWjbMz6vB"
      },
      "outputs": [],
      "source": [
        "def train(epoch, model, train_loader, optimizer, device):\n",
        "\n",
        "    # activate the training mode\n",
        "    model.train()\n",
        "\n",
        "    torch.set_grad_enabled(True)\n",
        "\n",
        "    total_loss = 0\n",
        "    correct = 0\n",
        "\n",
        "    # iteration over the mini-batches\n",
        "    for batch_idx, (data, target) in enumerate(train_loader):\n",
        "\n",
        "        # transfer the data on the chosen device\n",
        "        data, target = data.to(device), target.to(device)\n",
        "        target=target.float()\n",
        "\n",
        "        # reinitialize the gradients to zero\n",
        "        optimizer.zero_grad()\n",
        "\n",
        "        # forward propagation on the data\n",
        "        prediction = model(data)\n",
        "\n",
        "        # compute the loss function w.r.t. the targets\n",
        "        loss = loss_function(prediction, target)\n",
        "\n",
        "        # execute the backpropagation\n",
        "        loss.backward()\n",
        "\n",
        "        # execute an optimization step\n",
        "        optimizer.step()\n",
        "\n",
        "        # accumulate the loss\n",
        "        total_loss += loss.item()*len(data)\n",
        "        # we multiply by the length of the data incase the last minibatch is smaller we are 'denormalizing' so that a small batch isn't overweighted\n",
        "\n",
        "        # compute the number of correct predictions\n",
        "        _, pred_classes = torch.max(prediction, dim=1)\n",
        "        _, target_classes = torch.max(target, dim=1)\n",
        "\n",
        "        #print(pred_classes)\n",
        "        #print(type(pred_classes))\n",
        "        #print(pred_classes.shape)\n",
        "\n",
        "        #print(prediction.shape)\n",
        "        correct += int(pred_classes.eq(target_classes).sum().item())\n",
        "        # print('pred', prediction)\n",
        "        # print('target', target)\n",
        "        # print('correct', correct)\n",
        "        #print(prediction.shape)\n",
        "\n",
        "    # compute the average loss per epoch\n",
        "    mean_loss = total_loss/len(train_loader.dataset)\n",
        "\n",
        "    # compute the accuracy\n",
        "    acc = correct / len(train_loader.dataset)\n",
        "\n",
        "    print('Train Epoch: {}   Avg_Loss: {:.5f}   Acc: {}/{} ({:.3f}%)'.format(\n",
        "        epoch, mean_loss, correct, len(train_loader.dataset),\n",
        "        100. * acc))\n",
        "\n",
        "    # return the average loss and the accuracy\n",
        "    return mean_loss, acc"
      ]
    },
    {
      "cell_type": "code",
      "execution_count": null,
      "metadata": {
        "id": "0ek3ckGwz73b"
      },
      "outputs": [],
      "source": [
        "# Evaluation Procedure\n",
        "def evaluate(model, eval_loader, device):\n",
        "\n",
        "    # activate the evaluation mode\n",
        "    model.eval()\n",
        "\n",
        "    total_loss = 0\n",
        "    correct = 0\n",
        "\n",
        "    with torch.no_grad():\n",
        "    # we don't need to compute the gradient graph it using too much compuatation\n",
        "        # iterate over the batches\n",
        "        for batch_idx, (data, target) in enumerate(eval_loader):\n",
        "\n",
        "            # transfer the data on the chosen device\n",
        "            data, target = data.to(device), target.to(device)\n",
        "            target=target.float()\n",
        "\n",
        "            # forward propagation on the data\n",
        "            prediction = model(data)\n",
        "\n",
        "            # compute the loss function w.r.t. the targets\n",
        "            loss = loss_function(prediction, target)\n",
        "\n",
        "            # accumulate the loss\n",
        "            total_loss += loss.item()*len(data)\n",
        "\n",
        "            # compute the number of correct predictions en sortie)\n",
        "            _, pred_classes = torch.max(prediction, dim=1)\n",
        "            _, target_classes = torch.max(target, dim=1)\n",
        "\n",
        "            correct += int(pred_classes.eq(target_classes).sum().item())\n",
        "\n",
        "    # compute the average loss per epoch\n",
        "    mean_loss = total_loss/len(eval_loader.dataset)\n",
        "\n",
        "    # compute the accuracy\n",
        "    acc = correct / len(eval_loader.dataset)\n",
        "\n",
        "    print('Eval:  Avg_Loss: {:.5f}   Acc: {}/{} ({:.3f}%)'.format(\n",
        "        mean_loss, correct, len(eval_loader.dataset),\n",
        "        100. * acc))\n",
        "\n",
        "    # return the average loss and the accuracy\n",
        "    return mean_loss, acc"
      ]
    },
    {
      "cell_type": "code",
      "execution_count": null,
      "metadata": {
        "id": "L1UPv-yaz9ZF"
      },
      "outputs": [],
      "source": [
        "def save_model(epoch, model, path='./'):\n",
        "\n",
        "    # creating the file name indexed by the epoch value\n",
        "    filename = path + 'neural_network_{}.pt'.format(epoch)\n",
        "\n",
        "    # saving the model parameters\n",
        "    torch.save(model.state_dict(), filename)\n",
        "\n",
        "    return model"
      ]
    },
    {
      "cell_type": "code",
      "execution_count": null,
      "metadata": {
        "id": "TxKebOv9z-QV"
      },
      "outputs": [],
      "source": [
        "def load_model(epoch, model, path='./'):\n",
        "\n",
        "    # creating the file name indexed by the epoch value\n",
        "    filename = path + 'neural_network_{}.pt'.format(epoch)\n",
        "\n",
        "    # loading the parameters of the saved model\n",
        "    model.load_state_dict(torch.load(filename))\n",
        "\n",
        "    return model"
      ]
    },
    {
      "cell_type": "code",
      "execution_count": null,
      "metadata": {
        "id": "cCFH4ajcz_O0"
      },
      "outputs": [],
      "source": [
        "from tqdm import tqdm"
      ]
    },
    {
      "cell_type": "code",
      "execution_count": null,
      "metadata": {
        "colab": {
          "base_uri": "https://localhost:8080/"
        },
        "id": "afWetSS90AHU",
        "outputId": "902dde5c-41d0-49b2-b907-179570dc2e84"
      },
      "outputs": [
        {
          "name": "stderr",
          "output_type": "stream",
          "text": [
            "  7%|▋         | 1/15 [00:00<00:09,  1.53it/s]"
          ]
        },
        {
          "name": "stdout",
          "output_type": "stream",
          "text": [
            "Train Epoch: 1   Avg_Loss: 0.18378   Acc: 10011/10714 (93.438%)\n",
            "Eval:  Avg_Loss: 0.03645   Acc: 3539/3572 (99.076%)\n"
          ]
        },
        {
          "name": "stderr",
          "output_type": "stream",
          "text": [
            "\r 13%|█▎        | 2/15 [00:01<00:08,  1.54it/s]"
          ]
        },
        {
          "name": "stdout",
          "output_type": "stream",
          "text": [
            "Train Epoch: 2   Avg_Loss: 0.03075   Acc: 10611/10714 (99.039%)\n",
            "Eval:  Avg_Loss: 0.02173   Acc: 3548/3572 (99.328%)\n"
          ]
        },
        {
          "name": "stderr",
          "output_type": "stream",
          "text": [
            "\r 20%|██        | 3/15 [00:01<00:07,  1.54it/s]"
          ]
        },
        {
          "name": "stdout",
          "output_type": "stream",
          "text": [
            "Train Epoch: 3   Avg_Loss: 0.02208   Acc: 10636/10714 (99.272%)\n",
            "Eval:  Avg_Loss: 0.01771   Acc: 3552/3572 (99.440%)\n"
          ]
        },
        {
          "name": "stderr",
          "output_type": "stream",
          "text": [
            "\r 27%|██▋       | 4/15 [00:02<00:07,  1.55it/s]"
          ]
        },
        {
          "name": "stdout",
          "output_type": "stream",
          "text": [
            "Train Epoch: 4   Avg_Loss: 0.01443   Acc: 10664/10714 (99.533%)\n",
            "Eval:  Avg_Loss: 0.02329   Acc: 3543/3572 (99.188%)\n"
          ]
        },
        {
          "name": "stderr",
          "output_type": "stream",
          "text": [
            "\r 33%|███▎      | 5/15 [00:03<00:06,  1.57it/s]"
          ]
        },
        {
          "name": "stdout",
          "output_type": "stream",
          "text": [
            "Train Epoch: 5   Avg_Loss: 0.01123   Acc: 10672/10714 (99.608%)\n",
            "Eval:  Avg_Loss: 0.01182   Acc: 3557/3572 (99.580%)\n"
          ]
        },
        {
          "name": "stderr",
          "output_type": "stream",
          "text": [
            "\r 40%|████      | 6/15 [00:03<00:05,  1.58it/s]"
          ]
        },
        {
          "name": "stdout",
          "output_type": "stream",
          "text": [
            "Train Epoch: 6   Avg_Loss: 0.00711   Acc: 10693/10714 (99.804%)\n",
            "Eval:  Avg_Loss: 0.01077   Acc: 3558/3572 (99.608%)\n"
          ]
        },
        {
          "name": "stderr",
          "output_type": "stream",
          "text": [
            "\r 47%|████▋     | 7/15 [00:04<00:05,  1.57it/s]"
          ]
        },
        {
          "name": "stdout",
          "output_type": "stream",
          "text": [
            "Train Epoch: 7   Avg_Loss: 0.00436   Acc: 10702/10714 (99.888%)\n",
            "Eval:  Avg_Loss: 0.01077   Acc: 3557/3572 (99.580%)\n"
          ]
        },
        {
          "name": "stderr",
          "output_type": "stream",
          "text": [
            "\r 53%|█████▎    | 8/15 [00:05<00:04,  1.57it/s]"
          ]
        },
        {
          "name": "stdout",
          "output_type": "stream",
          "text": [
            "Train Epoch: 8   Avg_Loss: 0.00269   Acc: 10707/10714 (99.935%)\n",
            "Eval:  Avg_Loss: 0.00764   Acc: 3562/3572 (99.720%)\n"
          ]
        },
        {
          "name": "stderr",
          "output_type": "stream",
          "text": [
            "\r 60%|██████    | 9/15 [00:06<00:04,  1.39it/s]"
          ]
        },
        {
          "name": "stdout",
          "output_type": "stream",
          "text": [
            "Train Epoch: 9   Avg_Loss: 0.00238   Acc: 10707/10714 (99.935%)\n",
            "Eval:  Avg_Loss: 0.01163   Acc: 3559/3572 (99.636%)\n"
          ]
        },
        {
          "name": "stderr",
          "output_type": "stream",
          "text": [
            "\r 67%|██████▋   | 10/15 [00:06<00:03,  1.38it/s]"
          ]
        },
        {
          "name": "stdout",
          "output_type": "stream",
          "text": [
            "Train Epoch: 10   Avg_Loss: 0.00154   Acc: 10711/10714 (99.972%)\n",
            "Eval:  Avg_Loss: 0.00735   Acc: 3565/3572 (99.804%)\n"
          ]
        },
        {
          "name": "stderr",
          "output_type": "stream",
          "text": [
            "\r 73%|███████▎  | 11/15 [00:07<00:02,  1.34it/s]"
          ]
        },
        {
          "name": "stdout",
          "output_type": "stream",
          "text": [
            "Train Epoch: 11   Avg_Loss: 0.00070   Acc: 10714/10714 (100.000%)\n",
            "Eval:  Avg_Loss: 0.00704   Acc: 3561/3572 (99.692%)\n"
          ]
        },
        {
          "name": "stderr",
          "output_type": "stream",
          "text": [
            "\r 80%|████████  | 12/15 [00:08<00:02,  1.23it/s]"
          ]
        },
        {
          "name": "stdout",
          "output_type": "stream",
          "text": [
            "Train Epoch: 12   Avg_Loss: 0.00038   Acc: 10714/10714 (100.000%)\n",
            "Eval:  Avg_Loss: 0.00646   Acc: 3564/3572 (99.776%)\n"
          ]
        },
        {
          "name": "stderr",
          "output_type": "stream",
          "text": [
            "\r 87%|████████▋ | 13/15 [00:09<00:01,  1.19it/s]"
          ]
        },
        {
          "name": "stdout",
          "output_type": "stream",
          "text": [
            "Train Epoch: 13   Avg_Loss: 0.00026   Acc: 10714/10714 (100.000%)\n",
            "Eval:  Avg_Loss: 0.00644   Acc: 3565/3572 (99.804%)\n"
          ]
        },
        {
          "name": "stderr",
          "output_type": "stream",
          "text": [
            "\r 93%|█████████▎| 14/15 [00:10<00:00,  1.17it/s]"
          ]
        },
        {
          "name": "stdout",
          "output_type": "stream",
          "text": [
            "Train Epoch: 14   Avg_Loss: 0.00018   Acc: 10714/10714 (100.000%)\n",
            "Eval:  Avg_Loss: 0.00666   Acc: 3564/3572 (99.776%)\n"
          ]
        },
        {
          "name": "stderr",
          "output_type": "stream",
          "text": [
            "100%|██████████| 15/15 [00:11<00:00,  1.31it/s]"
          ]
        },
        {
          "name": "stdout",
          "output_type": "stream",
          "text": [
            "Train Epoch: 15   Avg_Loss: 0.00014   Acc: 10714/10714 (100.000%)\n",
            "Eval:  Avg_Loss: 0.00660   Acc: 3564/3572 (99.776%)\n",
            "\n",
            "\n",
            "\n",
            "Optimization ended.\n",
            "\n"
          ]
        },
        {
          "name": "stderr",
          "output_type": "stream",
          "text": [
            "\n"
          ]
        }
      ],
      "source": [
        "# maximum number of epoch\n",
        "numEpochs = 15\n",
        "\n",
        "# Saving frequency\n",
        "checkpoint_freq = 10\n",
        "\n",
        "# Directory for data backup - save the model during training\n",
        "path = './'\n",
        "\n",
        "# Accumulators of average losses obtained per epoch to visualize training curve\n",
        "train_losses = []\n",
        "val_losses = []\n",
        "\n",
        "# Performance accumulators per epoch\n",
        "train_accuracies = []\n",
        "val_accuracies = []\n",
        "\n",
        "# Model definition\n",
        "neural_net = NeuralNet()\n",
        "\n",
        "# Load the model on the chosen device\n",
        "neural_net = neural_net.to(device)\n",
        "\n",
        "# Optimizer definition\n",
        "optimizer = optim.Adam(neural_net.parameters(), lr=0.001)\n",
        "# optimizer = optim.SGD(neural_net.parameters(), lr=0.001)\n",
        "\n",
        "# Learning loop\n",
        "for epoch in tqdm(range(1, numEpochs + 1)):\n",
        "\n",
        "    # train the model with the train dataset\n",
        "    # inner loop one step\n",
        "    train_loss, train_acc = train(epoch, neural_net, train_loader, optimizer, device)\n",
        "\n",
        "    # evaluate the model with the validation dataset\n",
        "    val_loss, val_acc = evaluate(neural_net, val_loader, device)\n",
        "\n",
        "    # Save the losses obtained\n",
        "    train_losses.append(train_loss)\n",
        "    val_losses.append(val_loss)\n",
        "\n",
        "    # Save the performances\n",
        "    train_accuracies.append(train_acc)\n",
        "    val_accuracies.append(val_acc)\n",
        "\n",
        "    # Checkpoint\n",
        "    if epoch % checkpoint_freq ==0:\n",
        "        save_model(epoch, neural_net, path)\n",
        "\n",
        "# Save the model at the end of the training\n",
        "save_model(numEpochs, neural_net, path)\n",
        "\n",
        "print(\"\\n\\n\\nOptimization ended.\\n\")"
      ]
    },
    {
      "cell_type": "code",
      "execution_count": null,
      "metadata": {
        "colab": {
          "base_uri": "https://localhost:8080/"
        },
        "id": "NZ0QLVuX_P4_",
        "outputId": "ccdbf71d-599d-40e2-c9d4-268e5a526f6e"
      },
      "outputs": [
        {
          "name": "stdout",
          "output_type": "stream",
          "text": [
            "tensor([[1.3343e-08, 1.0000e+00],\n",
            "        [1.8434e-11, 1.0000e+00],\n",
            "        [5.2230e-13, 1.0000e+00],\n",
            "        [2.6680e-10, 1.0000e+00],\n",
            "        [8.2017e-06, 9.9999e-01],\n",
            "        [4.7613e-13, 1.0000e+00],\n",
            "        [3.9563e-14, 1.0000e+00],\n",
            "        [3.3010e-10, 1.0000e+00],\n",
            "        [1.0000e+00, 1.6014e-11],\n",
            "        [4.7756e-14, 1.0000e+00]], grad_fn=<SoftmaxBackward0>)\n"
          ]
        }
      ],
      "source": [
        "# Activate the evaluation mode\n",
        "neural_net = neural_net.eval()\n",
        "\n",
        "# Select the first 10 data points of the validation set\n",
        "data, target = test_dataset[0:10]\n",
        "data = data.to(device)\n",
        "\n",
        "# Executing the neural network\n",
        "output = neural_net(data)   # equivalent to neural_net.forward(data)\n",
        "\n",
        "# Transform the output into a probability distribution with a softmax function\n",
        "output_proba = F.softmax(output, dim=1)\n",
        "\n",
        "# Print the probability\n",
        "print(output_proba)"
      ]
    },
    {
      "cell_type": "code",
      "execution_count": null,
      "metadata": {
        "colab": {
          "base_uri": "https://localhost:8080/"
        },
        "id": "Y1y0WSeZ_Sxi",
        "outputId": "54c96432-b808-416e-a6b2-8c622edb0d3a"
      },
      "outputs": [
        {
          "name": "stdout",
          "output_type": "stream",
          "text": [
            "Model predictions\n",
            "tensor([1, 1, 1, 1, 1, 1, 1, 1, 0, 1])\n",
            "Targets\n",
            "tensor([[0, 1],\n",
            "        [0, 1],\n",
            "        [0, 1],\n",
            "        [0, 1],\n",
            "        [0, 1],\n",
            "        [0, 1],\n",
            "        [0, 1],\n",
            "        [0, 1],\n",
            "        [1, 0],\n",
            "        [0, 1]])\n"
          ]
        }
      ],
      "source": [
        "# For each example, retrieve the class with the highest probability.\n",
        "_, prediction = torch.max(output_proba, dim=1)\n",
        "\n",
        "print(\"Model predictions\")\n",
        "print(prediction)\n",
        "\n",
        "print(\"Targets\")\n",
        "print(target)"
      ]
    },
    {
      "cell_type": "code",
      "execution_count": null,
      "metadata": {
        "colab": {
          "background_save": true,
          "base_uri": "https://localhost:8080/"
        },
        "id": "mFRuVzHNSO1c",
        "outputId": "cd2f8ffc-d38e-4e79-c1e0-9bb8556f4e2c"
      },
      "outputs": [
        {
          "ename": "NameError",
          "evalue": "ignored",
          "output_type": "error",
          "traceback": [
            "\u001b[0;31m---------------------------------------------------------------------------\u001b[0m",
            "\u001b[0;31mNameError\u001b[0m                                 Traceback (most recent call last)",
            "\u001b[0;32m<ipython-input-1-9047f1805dbb>\u001b[0m in \u001b[0;36m<cell line: 1>\u001b[0;34m()\u001b[0m\n\u001b[0;32m----> 1\u001b[0;31m \u001b[0mvalid_loss\u001b[0m\u001b[0;34m,\u001b[0m \u001b[0mvalid_acc\u001b[0m \u001b[0;34m=\u001b[0m \u001b[0mevaluate\u001b[0m\u001b[0;34m(\u001b[0m\u001b[0mneural_net\u001b[0m\u001b[0;34m,\u001b[0m \u001b[0mval_loader\u001b[0m\u001b[0;34m,\u001b[0m \u001b[0mdevice\u001b[0m\u001b[0;34m)\u001b[0m\u001b[0;34m\u001b[0m\u001b[0;34m\u001b[0m\u001b[0m\n\u001b[0m",
            "\u001b[0;31mNameError\u001b[0m: name 'evaluate' is not defined"
          ]
        }
      ],
      "source": [
        "valid_loss, valid_acc = evaluate(neural_net, val_loader, device)"
      ]
    },
    {
      "cell_type": "code",
      "execution_count": null,
      "metadata": {
        "colab": {
          "base_uri": "https://localhost:8080/"
        },
        "id": "LhvzeHqMSmZd",
        "outputId": "f97d0f05-8830-4886-858b-3a0ec9f1072e"
      },
      "outputs": [
        {
          "name": "stdout",
          "output_type": "stream",
          "text": [
            "Eval:  Avg_Loss: 0.01892   Acc: 3559/3572 (99.636%)\n"
          ]
        }
      ],
      "source": [
        "test_loss, test_acc = evaluate(neural_net, test_loader, device)"
      ]
    },
    {
      "cell_type": "code",
      "execution_count": null,
      "metadata": {
        "colab": {
          "base_uri": "https://localhost:8080/",
          "height": 998
        },
        "id": "HJnrnbPRC8sA",
        "outputId": "287e0f17-1a78-4e0c-9e5e-d424fb0db3cb"
      },
      "outputs": [
        {
          "name": "stdout",
          "output_type": "stream",
          "text": [
            "[[ 505    5]\n",
            " [   8 3054]]\n",
            "[[3054    5]\n",
            " [   8  505]]\n"
          ]
        },
        {
          "data": {
            "image/png": "[encoded data removed]",
            "text/plain": [
              "<Figure size 900x900 with 1 Axes>"
            ]
          },
          "metadata": {},
          "output_type": "display_data"
        }
      ],
      "source": [
        "from sklearn.metrics._plot.confusion_matrix import ConfusionMatrixDisplay\n",
        "from sklearn.utils.multiclass import type_of_target\n",
        "from sklearn.metrics import confusion_matrix\n",
        "import seaborn as sn\n",
        "import pandas as pd\n",
        "\n",
        "y_pred = []\n",
        "y_true = []\n",
        "\n",
        "# iterate over test data\n",
        "correct = 0\n",
        "for data, target in test_loader:\n",
        "        # output = A(inputs) # Feed Network\n",
        "        # print(output)\n",
        "        # print(output.shape)\n",
        "\n",
        "        # output = (torch.max(torch.exp(output), 1)[1]).data.cpu().numpy()\n",
        "        # y_pred.extend(output) # Save Prediction\n",
        "\n",
        "        # target = target.data.cpu().numpy()\n",
        "        # target = (target[:, 1] > 0.5).astype(\"int32\")\n",
        "        # y_true.extend(target) # Save Trut\n",
        "\n",
        "        # transfer the data on the chosen device\n",
        "        data, target = data.to(device), target.to(device)\n",
        "        target=target.float()\n",
        "\n",
        "        # forward propagation on the data\n",
        "        prediction = neural_net(data)\n",
        "\n",
        "        # compute the number of correct predictions en sortie)\n",
        "        _, pred_classes = torch.max(prediction, dim=1)\n",
        "        _, target_classes = torch.max(target, dim=1)\n",
        "        y_true.extend(target_classes)\n",
        "        y_pred.extend(pred_classes)\n",
        "        correct += int(pred_classes.eq(target_classes).sum().item())\n",
        "\n",
        "# constant for classes\n",
        "classes = ('Healthy','PD')\n",
        "\n",
        "#print(type(target))\n",
        "\n",
        "# Build confusion matrix\n",
        "cf_matrix = confusion_matrix(y_pred, y_true)\n",
        "cf_matrix2 = np.array([[cf_matrix[1,1],cf_matrix[0,1]],[cf_matrix[1,0],cf_matrix[0,0]]])\n",
        "print(cf_matrix)\n",
        "print(cf_matrix2)\n",
        "\n",
        "cf_matrix = cf_matrix2\n",
        "\n",
        "df_cm = pd.DataFrame(cf_matrix / np.sum(cf_matrix, axis=1)[:, None], index = [i for i in classes],\n",
        "                     columns = [i for i in classes])\n",
        "\n",
        "cmd = ConfusionMatrixDisplay(cf_matrix, display_labels=['Healthy','PD'])\n",
        "cmd.plot(cmap = 'YlGnBu', colorbar = False)\n",
        "\n",
        "#cmd.plot(cmap = 'YlGnBu', colorbar = False)\n",
        "\n",
        "fig = cmd.ax_.get_figure()\n",
        "\n",
        "fig.set_figwidth(3)\n",
        "fig.set_figheight(3)\n",
        "plt.rcParams[\"figure.dpi\"] = 300\n",
        "plt.rc('font', size=16)\n",
        "# Set the axes title font size\n",
        "plt.rc('axes', titlesize=14)\n",
        "# Set the axes labels font size\n",
        "plt.rc('axes', labelsize=14)\n",
        "# Set the font size for x tick labels\n",
        "plt.rc('xtick', labelsize=14)\n",
        "# Set the font size for y tick labels\n",
        "plt.rc('ytick', labelsize=14)\n",
        "#plt.savefig(dpi = 300, fname = 'astro_LR.png')\n",
        "#sn.heatmap(df_cm, annot=True)\n",
        "plt.savefig('output.png')"
      ]
    },
    {
      "cell_type": "markdown",
      "metadata": {
        "id": "sJqBF35hUpTO"
      },
      "source": [
        "####Create plots of the learning curves."
      ]
    },
    {
      "cell_type": "code",
      "execution_count": null,
      "metadata": {
        "id": "AEuShUVi1v9f"
      },
      "outputs": [],
      "source": [
        "!pip install matplotlib==3.1.3"
      ]
    },
    {
      "cell_type": "code",
      "execution_count": null,
      "metadata": {
        "id": "jj8co2Aw_U8q"
      },
      "outputs": [],
      "source": [
        "#Plot\n",
        "x = list(range(len(train_losses)))\n",
        "ax = plt.subplot(111)\n",
        "\n",
        "# #Feb 5 new: set ticks, axis and spins black\n",
        "# ax.spines['left'].set_color('black')        # setting up Y-axis tick color to red\n",
        "# ax.spines['bottom'].set_color('black')\n",
        "\n",
        "# ax.xaxis.label.set_color('black')        #setting up X-axis label color to yellow\n",
        "# ax.yaxis.label.set_color('black')          #setting up Y-axis label color to blue\n",
        "\n",
        "# ax.tick_params(axis='x', colors='black')    #setting up X-axis tick color to red\n",
        "# ax.tick_params(axis='y', colors='black')  #setting up Y-axis tick color to black\n",
        "\n",
        "plt.plot(x, train_losses, 'b', label=\"Train\")\n",
        "plt.plot(x, val_losses, 'r', label=\"Validation\")\n",
        "plt.xlabel('epoch', size=16)\n",
        "plt.ylabel('Cross-entropy loss', size=16)\n",
        "plt.xticks(fontsize=14)\n",
        "plt.yticks(fontsize=14)\n",
        "\n",
        "f = plt.figure()\n",
        "# f.set_figwidth(4)\n",
        "# f.set_figheight(4)\n",
        "\n",
        "# leg = plt.legend(loc='best', ncol=2, mode=\"expand\", shadow=False, fancybox=False)\n",
        "# leg.get_frame().set_alpha(0.99)\n",
        "\n",
        "#Add a legend\n",
        "pos = ax.get_position()\n",
        "#ax.set_position([pos.x0, pos.y0, pos.width * 0.9, pos.height])\n",
        "# ax.legend(loc='lower center', bbox_to_anchor=(1.33, 0.91), frameon = False, fontsize = 16)\n",
        "ax.legend(loc='lower center', bbox_to_anchor=(0.5, -0.5), frameon = True, fontsize = 16)\n",
        "\n",
        "plt.savefig(\"train_losses.png\", transparent = True, bbox_inches='tight')"
      ]
    },
    {
      "cell_type": "code",
      "execution_count": null,
      "metadata": {
        "id": "ibkIH0dNicVN"
      },
      "outputs": [],
      "source": [
        "x = list(range(len(train_accuracies)))\n",
        "ax = plt.subplot(111)\n",
        "\n",
        "# #Feb 5 new: set ticks, axis and spins black\n",
        "# ax.spines['left'].set_color('black')        # setting up Y-axis tick color to red\n",
        "# ax.spines['bottom'].set_color('black')\n",
        "\n",
        "# ax.xaxis.label.set_color('black')        #setting up X-axis label color to yellow\n",
        "# ax.yaxis.label.set_color('black')          #setting up Y-axis label color to blue\n",
        "\n",
        "# ax.tick_params(axis='x', colors='black')    #setting up X-axis tick color to red\n",
        "# ax.tick_params(axis='y', colors='black')  #setting up Y-axis tick color to black\n",
        "\n",
        "plt.plot(x, train_accuracies, 'b', label=\"Train\")\n",
        "plt.plot(x, val_accuracies, 'r', label=\"Validation\")\n",
        "plt.xlabel('epoch', size = 16)\n",
        "plt.ylabel('Accuracy', size = 16)\n",
        "plt.xticks(fontsize=14)\n",
        "plt.yticks(fontsize=14)\n",
        "\n",
        "f = plt.figure()\n",
        "\n",
        "# Add a legend\n",
        "pos = ax.get_position()\n",
        "# ax.set_position([pos.x0, pos.y0, pos.width * 0.9, pos.height])\n",
        "# ax.legend(loc='center right', bbox_to_anchor=(1.33, 0.91), facecolor = 'white')\n",
        "\n",
        "plt.rcParams[\"figure.dpi\"] = 500\n",
        "ax.legend(loc='lower center', bbox_to_anchor=(0.5, -0.5), frameon = True, fontsize = 16)\n",
        "plt.savefig(\"train_accuracies.png\", transparent = True, bbox_inches='tight')"
      ]
    },
    {
      "cell_type": "code",
      "execution_count": null,
      "metadata": {
        "id": "uUfxcX1D_YOi"
      },
      "outputs": [],
      "source": [
        "x = list(range(len(train_accuracies)))\n",
        "ax = plt.subplot(111)\n",
        "\n",
        "#Feb 5 new: set ticks, axis and spins black\n",
        "ax.spines['left'].set_color('black')        # setting up Y-axis tick color to red\n",
        "ax.spines['bottom'].set_color('black')\n",
        "\n",
        "ax.xaxis.label.set_color('black')        #setting up X-axis label color to yellow\n",
        "ax.yaxis.label.set_color('black')          #setting up Y-axis label color to blue\n",
        "\n",
        "ax.tick_params(axis='x', colors='black')    #setting up X-axis tick color to red\n",
        "ax.tick_params(axis='y', colors='black')  #setting up Y-axis tick color to black\n",
        "\n",
        "plt.plot(x, train_accuracies, 'b', label=\"Train\")\n",
        "plt.plot(x, val_accuracies, 'r', label=\"Validation\")\n",
        "plt.xlabel('epoch')\n",
        "plt.ylabel('Accuracy')\n",
        "plt.grid()\n",
        "leg = plt.legend(loc='best', ncol=2, mode=\"expand\", shadow=False, fancybox=False)\n",
        "leg.get_frame().set_alpha(0.99)\n",
        "\n",
        "# Add a legend\n",
        "pos = ax.get_position()\n",
        "ax.set_position([pos.x0, pos.y0, pos.width * 0.9, pos.height])\n",
        "ax.legend(loc='center right', bbox_to_anchor=(1.33, 0.91), facecolor = 'white')\n",
        "\n",
        "plt.rcParams[\"figure.dpi\"] = 500\n",
        "\n",
        "plt.rc('font', size=14)\n",
        "# Set the axes title font size\n",
        "plt.rc('axes', titlesize=12)\n",
        "# Set the axes labels font size\n",
        "plt.rc('axes', labelsize=12)\n",
        "# Set the font size for x tick labels\n",
        "plt.rc('xtick', labelsize=16)\n",
        "# Set the font size for y tick labels\n",
        "plt.rc('ytick', labelsize=16)\n",
        "# Set the axes title font size\n",
        "plt.rc('axes', titlesize=12)\n",
        "# Set the axes labels font size\n",
        "plt.rc('axes', labelsize=12)\n",
        "\n",
        "plt.savefig(\"train_accuracies.png\", transparent = True, bbox_inches='tight')"
      ]
    }
  ],
  "metadata": {
    "colab": {
      "provenance": [],
      "authorship_tag": "ABX9TyN0qwuUALWUrzKs83zlb84r",
      "include_colab_link": true
    },
    "kernelspec": {
      "display_name": "Python 3",
      "name": "python3"
    },
    "language_info": {
      "name": "python"
    }
  },
  "nbformat": 4,
  "nbformat_minor": 0
}
